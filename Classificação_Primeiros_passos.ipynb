{
  "nbformat": 4,
  "nbformat_minor": 0,
  "metadata": {
    "colab": {
      "provenance": [],
      "authorship_tag": "ABX9TyNGV05txXWmdeYIKVKqg6Us",
      "include_colab_link": true
    },
    "kernelspec": {
      "name": "python3",
      "display_name": "Python 3"
    },
    "language_info": {
      "name": "python"
    }
  },
  "cells": [
    {
      "cell_type": "markdown",
      "metadata": {
        "id": "view-in-github",
        "colab_type": "text"
      },
      "source": [
        "<a href=\"https://colab.research.google.com/github/Brunapupo/classificao_aprendendo_a_classificar_dados_com_machine_learning/blob/main/Classifica%C3%A7%C3%A3o_Primeiros_passos.ipynb\" target=\"_parent\"><img src=\"https://colab.research.google.com/assets/colab-badge.svg\" alt=\"Open In Colab\"/></a>"
      ]
    },
    {
      "cell_type": "code",
      "execution_count": 2,
      "metadata": {
        "id": "sTS_iJR6UUsN"
      },
      "outputs": [],
      "source": [
        "import pandas as pd\n"
      ]
    },
    {
      "cell_type": "code",
      "source": [
        "dados = pd.read_csv('/marketing_investimento.csv')"
      ],
      "metadata": {
        "id": "zNfr1D1HVDT_"
      },
      "execution_count": 5,
      "outputs": []
    },
    {
      "cell_type": "code",
      "source": [
        "dados"
      ],
      "metadata": {
        "colab": {
          "base_uri": "https://localhost:8080/",
          "height": 423
        },
        "id": "74SdaE2ua2GY",
        "outputId": "4fc32d58-57a0-4d57-e0c2-8d82b210aa6a"
      },
      "execution_count": null,
      "outputs": [
        {
          "output_type": "execute_result",
          "data": {
            "text/plain": [
              "      idade    estado_civil escolaridade inadimplencia  saldo fez_emprestimo  \\\n",
              "0        45      casado (a)     superior           nao    242            nao   \n",
              "1        42      casado (a)        medio           nao   1289            nao   \n",
              "2        23    solteiro (a)     superior           nao    363            nao   \n",
              "3        58  divorciado (a)     superior           nao   1382            nao   \n",
              "4        50      casado (a)        medio           nao   3357            nao   \n",
              "...     ...             ...          ...           ...    ...            ...   \n",
              "1263     52    solteiro (a)     superior           nao     83            nao   \n",
              "1264     35    solteiro (a)     superior           nao   5958            nao   \n",
              "1265     30    solteiro (a)     superior           nao   -477            sim   \n",
              "1266     42      casado (a)     superior           nao   2187            nao   \n",
              "1267     29    solteiro (a)     superior           nao     19            nao   \n",
              "\n",
              "      tempo_ult_contato  numero_contatos aderencia_investimento  \n",
              "0                   587                1                    sim  \n",
              "1                   250                4                    sim  \n",
              "2                    16               18                    nao  \n",
              "3                   700                1                    sim  \n",
              "4                   239                4                    sim  \n",
              "...                 ...              ...                    ...  \n",
              "1263               1223                6                    sim  \n",
              "1264                215                1                    sim  \n",
              "1265               1532                2                    sim  \n",
              "1266                525                3                    sim  \n",
              "1267                110                2                    sim  \n",
              "\n",
              "[1268 rows x 9 columns]"
            ],
            "text/html": [
              "\n",
              "  <div id=\"df-8c6a107d-dcd6-4e56-8c9e-febced17e053\" class=\"colab-df-container\">\n",
              "    <div>\n",
              "<style scoped>\n",
              "    .dataframe tbody tr th:only-of-type {\n",
              "        vertical-align: middle;\n",
              "    }\n",
              "\n",
              "    .dataframe tbody tr th {\n",
              "        vertical-align: top;\n",
              "    }\n",
              "\n",
              "    .dataframe thead th {\n",
              "        text-align: right;\n",
              "    }\n",
              "</style>\n",
              "<table border=\"1\" class=\"dataframe\">\n",
              "  <thead>\n",
              "    <tr style=\"text-align: right;\">\n",
              "      <th></th>\n",
              "      <th>idade</th>\n",
              "      <th>estado_civil</th>\n",
              "      <th>escolaridade</th>\n",
              "      <th>inadimplencia</th>\n",
              "      <th>saldo</th>\n",
              "      <th>fez_emprestimo</th>\n",
              "      <th>tempo_ult_contato</th>\n",
              "      <th>numero_contatos</th>\n",
              "      <th>aderencia_investimento</th>\n",
              "    </tr>\n",
              "  </thead>\n",
              "  <tbody>\n",
              "    <tr>\n",
              "      <th>0</th>\n",
              "      <td>45</td>\n",
              "      <td>casado (a)</td>\n",
              "      <td>superior</td>\n",
              "      <td>nao</td>\n",
              "      <td>242</td>\n",
              "      <td>nao</td>\n",
              "      <td>587</td>\n",
              "      <td>1</td>\n",
              "      <td>sim</td>\n",
              "    </tr>\n",
              "    <tr>\n",
              "      <th>1</th>\n",
              "      <td>42</td>\n",
              "      <td>casado (a)</td>\n",
              "      <td>medio</td>\n",
              "      <td>nao</td>\n",
              "      <td>1289</td>\n",
              "      <td>nao</td>\n",
              "      <td>250</td>\n",
              "      <td>4</td>\n",
              "      <td>sim</td>\n",
              "    </tr>\n",
              "    <tr>\n",
              "      <th>2</th>\n",
              "      <td>23</td>\n",
              "      <td>solteiro (a)</td>\n",
              "      <td>superior</td>\n",
              "      <td>nao</td>\n",
              "      <td>363</td>\n",
              "      <td>nao</td>\n",
              "      <td>16</td>\n",
              "      <td>18</td>\n",
              "      <td>nao</td>\n",
              "    </tr>\n",
              "    <tr>\n",
              "      <th>3</th>\n",
              "      <td>58</td>\n",
              "      <td>divorciado (a)</td>\n",
              "      <td>superior</td>\n",
              "      <td>nao</td>\n",
              "      <td>1382</td>\n",
              "      <td>nao</td>\n",
              "      <td>700</td>\n",
              "      <td>1</td>\n",
              "      <td>sim</td>\n",
              "    </tr>\n",
              "    <tr>\n",
              "      <th>4</th>\n",
              "      <td>50</td>\n",
              "      <td>casado (a)</td>\n",
              "      <td>medio</td>\n",
              "      <td>nao</td>\n",
              "      <td>3357</td>\n",
              "      <td>nao</td>\n",
              "      <td>239</td>\n",
              "      <td>4</td>\n",
              "      <td>sim</td>\n",
              "    </tr>\n",
              "    <tr>\n",
              "      <th>...</th>\n",
              "      <td>...</td>\n",
              "      <td>...</td>\n",
              "      <td>...</td>\n",
              "      <td>...</td>\n",
              "      <td>...</td>\n",
              "      <td>...</td>\n",
              "      <td>...</td>\n",
              "      <td>...</td>\n",
              "      <td>...</td>\n",
              "    </tr>\n",
              "    <tr>\n",
              "      <th>1263</th>\n",
              "      <td>52</td>\n",
              "      <td>solteiro (a)</td>\n",
              "      <td>superior</td>\n",
              "      <td>nao</td>\n",
              "      <td>83</td>\n",
              "      <td>nao</td>\n",
              "      <td>1223</td>\n",
              "      <td>6</td>\n",
              "      <td>sim</td>\n",
              "    </tr>\n",
              "    <tr>\n",
              "      <th>1264</th>\n",
              "      <td>35</td>\n",
              "      <td>solteiro (a)</td>\n",
              "      <td>superior</td>\n",
              "      <td>nao</td>\n",
              "      <td>5958</td>\n",
              "      <td>nao</td>\n",
              "      <td>215</td>\n",
              "      <td>1</td>\n",
              "      <td>sim</td>\n",
              "    </tr>\n",
              "    <tr>\n",
              "      <th>1265</th>\n",
              "      <td>30</td>\n",
              "      <td>solteiro (a)</td>\n",
              "      <td>superior</td>\n",
              "      <td>nao</td>\n",
              "      <td>-477</td>\n",
              "      <td>sim</td>\n",
              "      <td>1532</td>\n",
              "      <td>2</td>\n",
              "      <td>sim</td>\n",
              "    </tr>\n",
              "    <tr>\n",
              "      <th>1266</th>\n",
              "      <td>42</td>\n",
              "      <td>casado (a)</td>\n",
              "      <td>superior</td>\n",
              "      <td>nao</td>\n",
              "      <td>2187</td>\n",
              "      <td>nao</td>\n",
              "      <td>525</td>\n",
              "      <td>3</td>\n",
              "      <td>sim</td>\n",
              "    </tr>\n",
              "    <tr>\n",
              "      <th>1267</th>\n",
              "      <td>29</td>\n",
              "      <td>solteiro (a)</td>\n",
              "      <td>superior</td>\n",
              "      <td>nao</td>\n",
              "      <td>19</td>\n",
              "      <td>nao</td>\n",
              "      <td>110</td>\n",
              "      <td>2</td>\n",
              "      <td>sim</td>\n",
              "    </tr>\n",
              "  </tbody>\n",
              "</table>\n",
              "<p>1268 rows × 9 columns</p>\n",
              "</div>\n",
              "    <div class=\"colab-df-buttons\">\n",
              "\n",
              "  <div class=\"colab-df-container\">\n",
              "    <button class=\"colab-df-convert\" onclick=\"convertToInteractive('df-8c6a107d-dcd6-4e56-8c9e-febced17e053')\"\n",
              "            title=\"Convert this dataframe to an interactive table.\"\n",
              "            style=\"display:none;\">\n",
              "\n",
              "  <svg xmlns=\"http://www.w3.org/2000/svg\" height=\"24px\" viewBox=\"0 -960 960 960\">\n",
              "    <path d=\"M120-120v-720h720v720H120Zm60-500h600v-160H180v160Zm220 220h160v-160H400v160Zm0 220h160v-160H400v160ZM180-400h160v-160H180v160Zm440 0h160v-160H620v160ZM180-180h160v-160H180v160Zm440 0h160v-160H620v160Z\"/>\n",
              "  </svg>\n",
              "    </button>\n",
              "\n",
              "  <style>\n",
              "    .colab-df-container {\n",
              "      display:flex;\n",
              "      gap: 12px;\n",
              "    }\n",
              "\n",
              "    .colab-df-convert {\n",
              "      background-color: #E8F0FE;\n",
              "      border: none;\n",
              "      border-radius: 50%;\n",
              "      cursor: pointer;\n",
              "      display: none;\n",
              "      fill: #1967D2;\n",
              "      height: 32px;\n",
              "      padding: 0 0 0 0;\n",
              "      width: 32px;\n",
              "    }\n",
              "\n",
              "    .colab-df-convert:hover {\n",
              "      background-color: #E2EBFA;\n",
              "      box-shadow: 0px 1px 2px rgba(60, 64, 67, 0.3), 0px 1px 3px 1px rgba(60, 64, 67, 0.15);\n",
              "      fill: #174EA6;\n",
              "    }\n",
              "\n",
              "    .colab-df-buttons div {\n",
              "      margin-bottom: 4px;\n",
              "    }\n",
              "\n",
              "    [theme=dark] .colab-df-convert {\n",
              "      background-color: #3B4455;\n",
              "      fill: #D2E3FC;\n",
              "    }\n",
              "\n",
              "    [theme=dark] .colab-df-convert:hover {\n",
              "      background-color: #434B5C;\n",
              "      box-shadow: 0px 1px 3px 1px rgba(0, 0, 0, 0.15);\n",
              "      filter: drop-shadow(0px 1px 2px rgba(0, 0, 0, 0.3));\n",
              "      fill: #FFFFFF;\n",
              "    }\n",
              "  </style>\n",
              "\n",
              "    <script>\n",
              "      const buttonEl =\n",
              "        document.querySelector('#df-8c6a107d-dcd6-4e56-8c9e-febced17e053 button.colab-df-convert');\n",
              "      buttonEl.style.display =\n",
              "        google.colab.kernel.accessAllowed ? 'block' : 'none';\n",
              "\n",
              "      async function convertToInteractive(key) {\n",
              "        const element = document.querySelector('#df-8c6a107d-dcd6-4e56-8c9e-febced17e053');\n",
              "        const dataTable =\n",
              "          await google.colab.kernel.invokeFunction('convertToInteractive',\n",
              "                                                    [key], {});\n",
              "        if (!dataTable) return;\n",
              "\n",
              "        const docLinkHtml = 'Like what you see? Visit the ' +\n",
              "          '<a target=\"_blank\" href=https://colab.research.google.com/notebooks/data_table.ipynb>data table notebook</a>'\n",
              "          + ' to learn more about interactive tables.';\n",
              "        element.innerHTML = '';\n",
              "        dataTable['output_type'] = 'display_data';\n",
              "        await google.colab.output.renderOutput(dataTable, element);\n",
              "        const docLink = document.createElement('div');\n",
              "        docLink.innerHTML = docLinkHtml;\n",
              "        element.appendChild(docLink);\n",
              "      }\n",
              "    </script>\n",
              "  </div>\n",
              "\n",
              "\n",
              "<div id=\"df-b769457f-af84-4949-8fb5-473d64913135\">\n",
              "  <button class=\"colab-df-quickchart\" onclick=\"quickchart('df-b769457f-af84-4949-8fb5-473d64913135')\"\n",
              "            title=\"Suggest charts\"\n",
              "            style=\"display:none;\">\n",
              "\n",
              "<svg xmlns=\"http://www.w3.org/2000/svg\" height=\"24px\"viewBox=\"0 0 24 24\"\n",
              "     width=\"24px\">\n",
              "    <g>\n",
              "        <path d=\"M19 3H5c-1.1 0-2 .9-2 2v14c0 1.1.9 2 2 2h14c1.1 0 2-.9 2-2V5c0-1.1-.9-2-2-2zM9 17H7v-7h2v7zm4 0h-2V7h2v10zm4 0h-2v-4h2v4z\"/>\n",
              "    </g>\n",
              "</svg>\n",
              "  </button>\n",
              "\n",
              "<style>\n",
              "  .colab-df-quickchart {\n",
              "      --bg-color: #E8F0FE;\n",
              "      --fill-color: #1967D2;\n",
              "      --hover-bg-color: #E2EBFA;\n",
              "      --hover-fill-color: #174EA6;\n",
              "      --disabled-fill-color: #AAA;\n",
              "      --disabled-bg-color: #DDD;\n",
              "  }\n",
              "\n",
              "  [theme=dark] .colab-df-quickchart {\n",
              "      --bg-color: #3B4455;\n",
              "      --fill-color: #D2E3FC;\n",
              "      --hover-bg-color: #434B5C;\n",
              "      --hover-fill-color: #FFFFFF;\n",
              "      --disabled-bg-color: #3B4455;\n",
              "      --disabled-fill-color: #666;\n",
              "  }\n",
              "\n",
              "  .colab-df-quickchart {\n",
              "    background-color: var(--bg-color);\n",
              "    border: none;\n",
              "    border-radius: 50%;\n",
              "    cursor: pointer;\n",
              "    display: none;\n",
              "    fill: var(--fill-color);\n",
              "    height: 32px;\n",
              "    padding: 0;\n",
              "    width: 32px;\n",
              "  }\n",
              "\n",
              "  .colab-df-quickchart:hover {\n",
              "    background-color: var(--hover-bg-color);\n",
              "    box-shadow: 0 1px 2px rgba(60, 64, 67, 0.3), 0 1px 3px 1px rgba(60, 64, 67, 0.15);\n",
              "    fill: var(--button-hover-fill-color);\n",
              "  }\n",
              "\n",
              "  .colab-df-quickchart-complete:disabled,\n",
              "  .colab-df-quickchart-complete:disabled:hover {\n",
              "    background-color: var(--disabled-bg-color);\n",
              "    fill: var(--disabled-fill-color);\n",
              "    box-shadow: none;\n",
              "  }\n",
              "\n",
              "  .colab-df-spinner {\n",
              "    border: 2px solid var(--fill-color);\n",
              "    border-color: transparent;\n",
              "    border-bottom-color: var(--fill-color);\n",
              "    animation:\n",
              "      spin 1s steps(1) infinite;\n",
              "  }\n",
              "\n",
              "  @keyframes spin {\n",
              "    0% {\n",
              "      border-color: transparent;\n",
              "      border-bottom-color: var(--fill-color);\n",
              "      border-left-color: var(--fill-color);\n",
              "    }\n",
              "    20% {\n",
              "      border-color: transparent;\n",
              "      border-left-color: var(--fill-color);\n",
              "      border-top-color: var(--fill-color);\n",
              "    }\n",
              "    30% {\n",
              "      border-color: transparent;\n",
              "      border-left-color: var(--fill-color);\n",
              "      border-top-color: var(--fill-color);\n",
              "      border-right-color: var(--fill-color);\n",
              "    }\n",
              "    40% {\n",
              "      border-color: transparent;\n",
              "      border-right-color: var(--fill-color);\n",
              "      border-top-color: var(--fill-color);\n",
              "    }\n",
              "    60% {\n",
              "      border-color: transparent;\n",
              "      border-right-color: var(--fill-color);\n",
              "    }\n",
              "    80% {\n",
              "      border-color: transparent;\n",
              "      border-right-color: var(--fill-color);\n",
              "      border-bottom-color: var(--fill-color);\n",
              "    }\n",
              "    90% {\n",
              "      border-color: transparent;\n",
              "      border-bottom-color: var(--fill-color);\n",
              "    }\n",
              "  }\n",
              "</style>\n",
              "\n",
              "  <script>\n",
              "    async function quickchart(key) {\n",
              "      const quickchartButtonEl =\n",
              "        document.querySelector('#' + key + ' button');\n",
              "      quickchartButtonEl.disabled = true;  // To prevent multiple clicks.\n",
              "      quickchartButtonEl.classList.add('colab-df-spinner');\n",
              "      try {\n",
              "        const charts = await google.colab.kernel.invokeFunction(\n",
              "            'suggestCharts', [key], {});\n",
              "      } catch (error) {\n",
              "        console.error('Error during call to suggestCharts:', error);\n",
              "      }\n",
              "      quickchartButtonEl.classList.remove('colab-df-spinner');\n",
              "      quickchartButtonEl.classList.add('colab-df-quickchart-complete');\n",
              "    }\n",
              "    (() => {\n",
              "      let quickchartButtonEl =\n",
              "        document.querySelector('#df-b769457f-af84-4949-8fb5-473d64913135 button');\n",
              "      quickchartButtonEl.style.display =\n",
              "        google.colab.kernel.accessAllowed ? 'block' : 'none';\n",
              "    })();\n",
              "  </script>\n",
              "</div>\n",
              "\n",
              "  <div id=\"id_6c1f1f71-90be-465a-b847-8bbc3b757d67\">\n",
              "    <style>\n",
              "      .colab-df-generate {\n",
              "        background-color: #E8F0FE;\n",
              "        border: none;\n",
              "        border-radius: 50%;\n",
              "        cursor: pointer;\n",
              "        display: none;\n",
              "        fill: #1967D2;\n",
              "        height: 32px;\n",
              "        padding: 0 0 0 0;\n",
              "        width: 32px;\n",
              "      }\n",
              "\n",
              "      .colab-df-generate:hover {\n",
              "        background-color: #E2EBFA;\n",
              "        box-shadow: 0px 1px 2px rgba(60, 64, 67, 0.3), 0px 1px 3px 1px rgba(60, 64, 67, 0.15);\n",
              "        fill: #174EA6;\n",
              "      }\n",
              "\n",
              "      [theme=dark] .colab-df-generate {\n",
              "        background-color: #3B4455;\n",
              "        fill: #D2E3FC;\n",
              "      }\n",
              "\n",
              "      [theme=dark] .colab-df-generate:hover {\n",
              "        background-color: #434B5C;\n",
              "        box-shadow: 0px 1px 3px 1px rgba(0, 0, 0, 0.15);\n",
              "        filter: drop-shadow(0px 1px 2px rgba(0, 0, 0, 0.3));\n",
              "        fill: #FFFFFF;\n",
              "      }\n",
              "    </style>\n",
              "    <button class=\"colab-df-generate\" onclick=\"generateWithVariable('dados')\"\n",
              "            title=\"Generate code using this dataframe.\"\n",
              "            style=\"display:none;\">\n",
              "\n",
              "  <svg xmlns=\"http://www.w3.org/2000/svg\" height=\"24px\"viewBox=\"0 0 24 24\"\n",
              "       width=\"24px\">\n",
              "    <path d=\"M7,19H8.4L18.45,9,17,7.55,7,17.6ZM5,21V16.75L18.45,3.32a2,2,0,0,1,2.83,0l1.4,1.43a1.91,1.91,0,0,1,.58,1.4,1.91,1.91,0,0,1-.58,1.4L9.25,21ZM18.45,9,17,7.55Zm-12,3A5.31,5.31,0,0,0,4.9,8.1,5.31,5.31,0,0,0,1,6.5,5.31,5.31,0,0,0,4.9,4.9,5.31,5.31,0,0,0,6.5,1,5.31,5.31,0,0,0,8.1,4.9,5.31,5.31,0,0,0,12,6.5,5.46,5.46,0,0,0,6.5,12Z\"/>\n",
              "  </svg>\n",
              "    </button>\n",
              "    <script>\n",
              "      (() => {\n",
              "      const buttonEl =\n",
              "        document.querySelector('#id_6c1f1f71-90be-465a-b847-8bbc3b757d67 button.colab-df-generate');\n",
              "      buttonEl.style.display =\n",
              "        google.colab.kernel.accessAllowed ? 'block' : 'none';\n",
              "\n",
              "      buttonEl.onclick = () => {\n",
              "        google.colab.notebook.generateWithVariable('dados');\n",
              "      }\n",
              "      })();\n",
              "    </script>\n",
              "  </div>\n",
              "\n",
              "    </div>\n",
              "  </div>\n"
            ]
          },
          "metadata": {},
          "execution_count": 6
        }
      ]
    },
    {
      "cell_type": "code",
      "source": [
        "dados.info()"
      ],
      "metadata": {
        "colab": {
          "base_uri": "https://localhost:8080/"
        },
        "id": "Q1RA7TM9beSO",
        "outputId": "7068d393-4ed2-498a-e067-0708c614a816"
      },
      "execution_count": 6,
      "outputs": [
        {
          "output_type": "stream",
          "name": "stdout",
          "text": [
            "<class 'pandas.core.frame.DataFrame'>\n",
            "RangeIndex: 1268 entries, 0 to 1267\n",
            "Data columns (total 9 columns):\n",
            " #   Column                  Non-Null Count  Dtype \n",
            "---  ------                  --------------  ----- \n",
            " 0   idade                   1268 non-null   int64 \n",
            " 1   estado_civil            1268 non-null   object\n",
            " 2   escolaridade            1268 non-null   object\n",
            " 3   inadimplencia           1268 non-null   object\n",
            " 4   saldo                   1268 non-null   int64 \n",
            " 5   fez_emprestimo          1268 non-null   object\n",
            " 6   tempo_ult_contato       1268 non-null   int64 \n",
            " 7   numero_contatos         1268 non-null   int64 \n",
            " 8   aderencia_investimento  1268 non-null   object\n",
            "dtypes: int64(4), object(5)\n",
            "memory usage: 89.3+ KB\n"
          ]
        }
      ]
    },
    {
      "cell_type": "markdown",
      "source": [
        "# **análise exploratória de dados**"
      ],
      "metadata": {
        "id": "Nxe2UH2ciVvj"
      }
    },
    {
      "cell_type": "code",
      "source": [
        "import plotly.express as px"
      ],
      "metadata": {
        "id": "NNoa0JxJiZQy"
      },
      "execution_count": 7,
      "outputs": []
    },
    {
      "cell_type": "markdown",
      "source": [
        "▶ Utilizamos o histograma, que realiza uma contagem desses valores, nos permitindo ver quais são as categorias de cada uma dessas colunas."
      ],
      "metadata": {
        "id": "TGDZpYiti3fX"
      }
    },
    {
      "cell_type": "code",
      "source": [
        "px.histogram(dados, x = 'aderencia_investimento', text_auto = True)"
      ],
      "metadata": {
        "colab": {
          "base_uri": "https://localhost:8080/",
          "height": 542
        },
        "id": "fozpMhroi8OB",
        "outputId": "9c4a7222-8972-492c-8f92-1de6ec9dbfe5"
      },
      "execution_count": 8,
      "outputs": [
        {
          "output_type": "display_data",
          "data": {
            "text/html": [
              "<html>\n",
              "<head><meta charset=\"utf-8\" /></head>\n",
              "<body>\n",
              "    <div>            <script src=\"https://cdnjs.cloudflare.com/ajax/libs/mathjax/2.7.5/MathJax.js?config=TeX-AMS-MML_SVG\"></script><script type=\"text/javascript\">if (window.MathJax && window.MathJax.Hub && window.MathJax.Hub.Config) {window.MathJax.Hub.Config({SVG: {font: \"STIX-Web\"}});}</script>                <script type=\"text/javascript\">window.PlotlyConfig = {MathJaxConfig: 'local'};</script>\n",
              "        <script charset=\"utf-8\" src=\"https://cdn.plot.ly/plotly-2.24.1.min.js\"></script>                <div id=\"c3db684d-88b9-4888-9758-1a849a605d9e\" class=\"plotly-graph-div\" style=\"height:525px; width:100%;\"></div>            <script type=\"text/javascript\">                                    window.PLOTLYENV=window.PLOTLYENV || {};                                    if (document.getElementById(\"c3db684d-88b9-4888-9758-1a849a605d9e\")) {                    Plotly.newPlot(                        \"c3db684d-88b9-4888-9758-1a849a605d9e\",                        [{\"alignmentgroup\":\"True\",\"bingroup\":\"x\",\"hovertemplate\":\"aderencia_investimento=%{x}\\u003cbr\\u003ecount=%{y}\\u003cextra\\u003e\\u003c\\u002fextra\\u003e\",\"legendgroup\":\"\",\"marker\":{\"color\":\"#636efa\",\"pattern\":{\"shape\":\"\"}},\"name\":\"\",\"offsetgroup\":\"\",\"orientation\":\"v\",\"showlegend\":false,\"texttemplate\":\"%{value}\",\"x\":[\"sim\",\"sim\",\"nao\",\"sim\",\"sim\",\"sim\",\"nao\",\"nao\",\"nao\",\"nao\",\"sim\",\"nao\",\"sim\",\"nao\",\"nao\",\"sim\",\"nao\",\"nao\",\"nao\",\"sim\",\"nao\",\"nao\",\"nao\",\"sim\",\"nao\",\"sim\",\"nao\",\"sim\",\"sim\",\"sim\",\"sim\",\"nao\",\"nao\",\"nao\",\"nao\",\"nao\",\"nao\",\"nao\",\"nao\",\"sim\",\"nao\",\"nao\",\"nao\",\"nao\",\"nao\",\"nao\",\"sim\",\"nao\",\"sim\",\"nao\",\"sim\",\"nao\",\"nao\",\"sim\",\"sim\",\"sim\",\"nao\",\"sim\",\"nao\",\"nao\",\"nao\",\"nao\",\"nao\",\"nao\",\"nao\",\"nao\",\"nao\",\"nao\",\"nao\",\"sim\",\"nao\",\"nao\",\"nao\",\"nao\",\"sim\",\"nao\",\"sim\",\"sim\",\"nao\",\"nao\",\"sim\",\"sim\",\"nao\",\"nao\",\"nao\",\"nao\",\"sim\",\"sim\",\"sim\",\"sim\",\"sim\",\"nao\",\"sim\",\"sim\",\"sim\",\"nao\",\"nao\",\"nao\",\"nao\",\"nao\",\"nao\",\"sim\",\"sim\",\"nao\",\"sim\",\"sim\",\"nao\",\"nao\",\"sim\",\"nao\",\"nao\",\"nao\",\"nao\",\"sim\",\"nao\",\"sim\",\"nao\",\"nao\",\"nao\",\"sim\",\"sim\",\"nao\",\"nao\",\"sim\",\"sim\",\"nao\",\"nao\",\"sim\",\"nao\",\"sim\",\"nao\",\"sim\",\"sim\",\"nao\",\"nao\",\"nao\",\"sim\",\"sim\",\"nao\",\"sim\",\"sim\",\"sim\",\"sim\",\"sim\",\"nao\",\"sim\",\"sim\",\"sim\",\"sim\",\"sim\",\"nao\",\"nao\",\"nao\",\"nao\",\"nao\",\"sim\",\"nao\",\"nao\",\"nao\",\"nao\",\"nao\",\"nao\",\"nao\",\"sim\",\"nao\",\"nao\",\"nao\",\"sim\",\"sim\",\"sim\",\"nao\",\"nao\",\"nao\",\"nao\",\"nao\",\"sim\",\"sim\",\"nao\",\"nao\",\"sim\",\"nao\",\"sim\",\"nao\",\"sim\",\"sim\",\"nao\",\"nao\",\"sim\",\"sim\",\"nao\",\"nao\",\"sim\",\"sim\",\"nao\",\"nao\",\"nao\",\"nao\",\"sim\",\"nao\",\"nao\",\"sim\",\"sim\",\"nao\",\"nao\",\"nao\",\"sim\",\"sim\",\"nao\",\"sim\",\"nao\",\"sim\",\"nao\",\"sim\",\"nao\",\"nao\",\"nao\",\"sim\",\"nao\",\"nao\",\"sim\",\"nao\",\"sim\",\"sim\",\"nao\",\"nao\",\"nao\",\"sim\",\"sim\",\"sim\",\"nao\",\"nao\",\"nao\",\"nao\",\"sim\",\"nao\",\"sim\",\"sim\",\"nao\",\"nao\",\"sim\",\"sim\",\"nao\",\"nao\",\"nao\",\"nao\",\"nao\",\"nao\",\"nao\",\"nao\",\"nao\",\"nao\",\"nao\",\"nao\",\"nao\",\"nao\",\"nao\",\"nao\",\"sim\",\"nao\",\"nao\",\"sim\",\"sim\",\"nao\",\"sim\",\"nao\",\"nao\",\"sim\",\"sim\",\"sim\",\"sim\",\"sim\",\"nao\",\"sim\",\"nao\",\"nao\",\"sim\",\"sim\",\"sim\",\"sim\",\"nao\",\"nao\",\"sim\",\"nao\",\"nao\",\"nao\",\"nao\",\"nao\",\"sim\",\"nao\",\"nao\",\"nao\",\"nao\",\"sim\",\"nao\",\"nao\",\"nao\",\"nao\",\"nao\",\"nao\",\"sim\",\"sim\",\"nao\",\"nao\",\"nao\",\"nao\",\"sim\",\"nao\",\"sim\",\"nao\",\"nao\",\"nao\",\"nao\",\"sim\",\"nao\",\"nao\",\"nao\",\"sim\",\"nao\",\"sim\",\"sim\",\"sim\",\"nao\",\"nao\",\"sim\",\"nao\",\"nao\",\"nao\",\"nao\",\"nao\",\"nao\",\"nao\",\"nao\",\"sim\",\"sim\",\"nao\",\"nao\",\"nao\",\"nao\",\"sim\",\"nao\",\"nao\",\"nao\",\"nao\",\"nao\",\"sim\",\"nao\",\"nao\",\"sim\",\"sim\",\"sim\",\"nao\",\"nao\",\"nao\",\"sim\",\"nao\",\"nao\",\"sim\",\"nao\",\"nao\",\"sim\",\"sim\",\"nao\",\"nao\",\"nao\",\"nao\",\"sim\",\"nao\",\"sim\",\"sim\",\"sim\",\"nao\",\"nao\",\"sim\",\"nao\",\"sim\",\"nao\",\"nao\",\"nao\",\"nao\",\"nao\",\"nao\",\"sim\",\"sim\",\"sim\",\"sim\",\"sim\",\"nao\",\"sim\",\"nao\",\"nao\",\"nao\",\"nao\",\"nao\",\"sim\",\"nao\",\"nao\",\"sim\",\"nao\",\"nao\",\"nao\",\"sim\",\"sim\",\"sim\",\"sim\",\"sim\",\"nao\",\"nao\",\"nao\",\"sim\",\"nao\",\"sim\",\"sim\",\"nao\",\"nao\",\"nao\",\"nao\",\"sim\",\"sim\",\"nao\",\"nao\",\"nao\",\"nao\",\"sim\",\"nao\",\"nao\",\"sim\",\"sim\",\"nao\",\"nao\",\"nao\",\"sim\",\"sim\",\"sim\",\"sim\",\"sim\",\"nao\",\"sim\",\"nao\",\"nao\",\"sim\",\"nao\",\"nao\",\"nao\",\"nao\",\"nao\",\"nao\",\"nao\",\"nao\",\"nao\",\"sim\",\"nao\",\"sim\",\"nao\",\"nao\",\"sim\",\"nao\",\"nao\",\"nao\",\"nao\",\"nao\",\"sim\",\"nao\",\"nao\",\"nao\",\"sim\",\"sim\",\"sim\",\"nao\",\"sim\",\"nao\",\"nao\",\"nao\",\"sim\",\"nao\",\"sim\",\"sim\",\"nao\",\"sim\",\"sim\",\"sim\",\"nao\",\"sim\",\"nao\",\"nao\",\"sim\",\"nao\",\"sim\",\"sim\",\"nao\",\"nao\",\"nao\",\"sim\",\"nao\",\"nao\",\"sim\",\"sim\",\"sim\",\"nao\",\"nao\",\"nao\",\"sim\",\"nao\",\"nao\",\"nao\",\"nao\",\"nao\",\"nao\",\"nao\",\"sim\",\"sim\",\"nao\",\"nao\",\"nao\",\"sim\",\"nao\",\"sim\",\"nao\",\"sim\",\"nao\",\"nao\",\"nao\",\"nao\",\"sim\",\"sim\",\"sim\",\"nao\",\"nao\",\"nao\",\"sim\",\"nao\",\"nao\",\"nao\",\"nao\",\"nao\",\"sim\",\"sim\",\"sim\",\"nao\",\"sim\",\"nao\",\"sim\",\"nao\",\"nao\",\"sim\",\"sim\",\"nao\",\"sim\",\"sim\",\"nao\",\"sim\",\"nao\",\"nao\",\"nao\",\"nao\",\"sim\",\"nao\",\"nao\",\"sim\",\"sim\",\"sim\",\"nao\",\"nao\",\"nao\",\"nao\",\"nao\",\"nao\",\"sim\",\"nao\",\"nao\",\"sim\",\"nao\",\"sim\",\"nao\",\"nao\",\"nao\",\"nao\",\"nao\",\"nao\",\"nao\",\"nao\",\"nao\",\"nao\",\"nao\",\"sim\",\"nao\",\"nao\",\"sim\",\"nao\",\"sim\",\"nao\",\"nao\",\"sim\",\"nao\",\"sim\",\"sim\",\"nao\",\"nao\",\"sim\",\"nao\",\"nao\",\"sim\",\"nao\",\"nao\",\"sim\",\"sim\",\"nao\",\"sim\",\"nao\",\"sim\",\"sim\",\"nao\",\"nao\",\"sim\",\"sim\",\"nao\",\"sim\",\"sim\",\"sim\",\"sim\",\"sim\",\"nao\",\"sim\",\"nao\",\"sim\",\"sim\",\"nao\",\"nao\",\"nao\",\"nao\",\"sim\",\"nao\",\"nao\",\"nao\",\"nao\",\"sim\",\"nao\",\"nao\",\"sim\",\"nao\",\"nao\",\"nao\",\"sim\",\"nao\",\"sim\",\"nao\",\"nao\",\"nao\",\"nao\",\"sim\",\"nao\",\"sim\",\"sim\",\"sim\",\"sim\",\"nao\",\"nao\",\"nao\",\"nao\",\"nao\",\"nao\",\"sim\",\"nao\",\"sim\",\"nao\",\"nao\",\"nao\",\"nao\",\"nao\",\"nao\",\"nao\",\"sim\",\"sim\",\"nao\",\"nao\",\"nao\",\"nao\",\"sim\",\"nao\",\"nao\",\"nao\",\"nao\",\"nao\",\"nao\",\"nao\",\"sim\",\"nao\",\"sim\",\"nao\",\"nao\",\"nao\",\"sim\",\"sim\",\"nao\",\"nao\",\"sim\",\"nao\",\"nao\",\"nao\",\"nao\",\"nao\",\"nao\",\"sim\",\"sim\",\"sim\",\"nao\",\"nao\",\"nao\",\"nao\",\"sim\",\"nao\",\"sim\",\"sim\",\"sim\",\"nao\",\"nao\",\"nao\",\"nao\",\"sim\",\"sim\",\"sim\",\"nao\",\"sim\",\"sim\",\"nao\",\"nao\",\"nao\",\"nao\",\"sim\",\"nao\",\"nao\",\"nao\",\"sim\",\"nao\",\"nao\",\"sim\",\"sim\",\"sim\",\"nao\",\"nao\",\"nao\",\"nao\",\"sim\",\"nao\",\"sim\",\"nao\",\"nao\",\"sim\",\"nao\",\"sim\",\"sim\",\"sim\",\"sim\",\"nao\",\"sim\",\"nao\",\"nao\",\"sim\",\"nao\",\"nao\",\"nao\",\"nao\",\"sim\",\"nao\",\"nao\",\"nao\",\"nao\",\"nao\",\"sim\",\"sim\",\"nao\",\"sim\",\"nao\",\"nao\",\"nao\",\"nao\",\"nao\",\"sim\",\"nao\",\"sim\",\"sim\",\"nao\",\"nao\",\"sim\",\"sim\",\"sim\",\"nao\",\"nao\",\"sim\",\"nao\",\"nao\",\"nao\",\"nao\",\"nao\",\"nao\",\"sim\",\"nao\",\"nao\",\"nao\",\"sim\",\"nao\",\"nao\",\"sim\",\"sim\",\"nao\",\"sim\",\"nao\",\"sim\",\"nao\",\"sim\",\"nao\",\"sim\",\"nao\",\"sim\",\"nao\",\"sim\",\"sim\",\"sim\",\"nao\",\"nao\",\"sim\",\"nao\",\"nao\",\"nao\",\"nao\",\"nao\",\"nao\",\"nao\",\"sim\",\"sim\",\"nao\",\"sim\",\"nao\",\"nao\",\"sim\",\"nao\",\"nao\",\"sim\",\"sim\",\"nao\",\"sim\",\"nao\",\"sim\",\"nao\",\"nao\",\"nao\",\"nao\",\"sim\",\"nao\",\"nao\",\"sim\",\"sim\",\"nao\",\"nao\",\"nao\",\"nao\",\"nao\",\"nao\",\"nao\",\"sim\",\"nao\",\"nao\",\"nao\",\"sim\",\"sim\",\"nao\",\"nao\",\"nao\",\"sim\",\"sim\",\"sim\",\"nao\",\"sim\",\"sim\",\"nao\",\"nao\",\"nao\",\"sim\",\"nao\",\"nao\",\"sim\",\"sim\",\"nao\",\"nao\",\"sim\",\"nao\",\"nao\",\"nao\",\"nao\",\"nao\",\"nao\",\"sim\",\"sim\",\"sim\",\"nao\",\"nao\",\"sim\",\"sim\",\"sim\",\"nao\",\"nao\",\"nao\",\"nao\",\"nao\",\"nao\",\"nao\",\"sim\",\"nao\",\"sim\",\"sim\",\"sim\",\"sim\",\"nao\",\"nao\",\"nao\",\"sim\",\"nao\",\"nao\",\"nao\",\"sim\",\"nao\",\"nao\",\"nao\",\"nao\",\"sim\",\"nao\",\"sim\",\"sim\",\"nao\",\"sim\",\"nao\",\"nao\",\"sim\",\"nao\",\"nao\",\"sim\",\"sim\",\"nao\",\"nao\",\"nao\",\"nao\",\"sim\",\"sim\",\"nao\",\"sim\",\"sim\",\"nao\",\"sim\",\"sim\",\"sim\",\"nao\",\"nao\",\"sim\",\"sim\",\"nao\",\"nao\",\"nao\",\"sim\",\"sim\",\"sim\",\"sim\",\"sim\",\"sim\",\"nao\",\"nao\",\"nao\",\"sim\",\"nao\",\"sim\",\"sim\",\"nao\",\"nao\",\"sim\",\"nao\",\"sim\",\"sim\",\"nao\",\"sim\",\"nao\",\"sim\",\"nao\",\"nao\",\"nao\",\"nao\",\"sim\",\"sim\",\"sim\",\"sim\",\"sim\",\"nao\",\"nao\",\"sim\",\"sim\",\"nao\",\"nao\",\"nao\",\"nao\",\"nao\",\"sim\",\"nao\",\"nao\",\"sim\",\"sim\",\"nao\",\"nao\",\"nao\",\"nao\",\"nao\",\"sim\",\"nao\",\"nao\",\"nao\",\"nao\",\"nao\",\"nao\",\"nao\",\"nao\",\"sim\",\"sim\",\"sim\",\"nao\",\"sim\",\"sim\",\"nao\",\"sim\",\"sim\",\"nao\",\"nao\",\"nao\",\"sim\",\"nao\",\"nao\",\"nao\",\"nao\",\"sim\",\"sim\",\"nao\",\"nao\",\"sim\",\"sim\",\"sim\",\"sim\",\"nao\",\"sim\",\"sim\",\"sim\",\"sim\",\"sim\",\"nao\",\"sim\",\"nao\",\"sim\",\"nao\",\"nao\",\"sim\",\"nao\",\"nao\",\"nao\",\"nao\",\"sim\",\"nao\",\"sim\",\"sim\",\"nao\",\"nao\",\"sim\",\"sim\",\"sim\",\"sim\",\"nao\",\"nao\",\"sim\",\"nao\",\"nao\",\"nao\",\"nao\",\"sim\",\"sim\",\"nao\",\"sim\",\"nao\",\"sim\",\"nao\",\"nao\",\"sim\",\"sim\",\"nao\",\"nao\",\"nao\",\"nao\",\"nao\",\"nao\",\"sim\",\"nao\",\"sim\",\"nao\",\"nao\",\"sim\",\"nao\",\"nao\",\"nao\",\"sim\",\"nao\",\"sim\",\"sim\",\"nao\",\"sim\",\"nao\",\"nao\",\"nao\",\"nao\",\"nao\",\"sim\",\"sim\",\"sim\",\"nao\",\"nao\",\"sim\",\"nao\",\"nao\",\"nao\",\"sim\",\"nao\",\"nao\",\"sim\",\"sim\",\"sim\",\"nao\",\"sim\",\"nao\",\"nao\",\"nao\",\"sim\",\"nao\",\"sim\",\"nao\",\"nao\",\"sim\",\"nao\",\"nao\",\"sim\",\"nao\",\"nao\",\"sim\",\"sim\",\"sim\",\"nao\",\"nao\",\"sim\",\"sim\",\"nao\",\"sim\",\"sim\",\"sim\",\"nao\",\"nao\",\"sim\",\"nao\",\"nao\",\"nao\",\"sim\",\"nao\",\"nao\",\"sim\",\"sim\",\"sim\",\"sim\",\"nao\",\"nao\",\"sim\",\"nao\",\"sim\",\"nao\",\"nao\",\"nao\",\"nao\",\"nao\",\"nao\",\"sim\",\"sim\",\"nao\",\"sim\",\"nao\",\"nao\",\"nao\",\"sim\",\"sim\",\"nao\",\"nao\",\"nao\",\"nao\",\"nao\",\"sim\",\"sim\",\"sim\",\"nao\",\"nao\",\"nao\",\"sim\",\"nao\",\"sim\",\"nao\",\"sim\",\"nao\",\"nao\",\"nao\",\"nao\",\"nao\",\"sim\",\"nao\",\"sim\",\"sim\",\"sim\",\"nao\",\"nao\",\"sim\",\"nao\",\"sim\",\"nao\",\"sim\",\"nao\",\"sim\",\"nao\",\"nao\",\"nao\",\"nao\",\"nao\",\"nao\",\"sim\",\"nao\",\"nao\",\"sim\",\"sim\",\"nao\",\"sim\",\"nao\",\"sim\",\"nao\",\"sim\",\"nao\",\"nao\",\"sim\",\"nao\",\"sim\",\"nao\",\"nao\",\"nao\",\"nao\",\"sim\",\"nao\",\"sim\",\"sim\",\"nao\",\"sim\",\"nao\",\"sim\",\"nao\",\"sim\",\"sim\",\"nao\",\"nao\",\"sim\",\"nao\",\"nao\",\"sim\",\"sim\",\"sim\",\"sim\",\"sim\"],\"xaxis\":\"x\",\"yaxis\":\"y\",\"type\":\"histogram\"}],                        {\"template\":{\"data\":{\"histogram2dcontour\":[{\"type\":\"histogram2dcontour\",\"colorbar\":{\"outlinewidth\":0,\"ticks\":\"\"},\"colorscale\":[[0.0,\"#0d0887\"],[0.1111111111111111,\"#46039f\"],[0.2222222222222222,\"#7201a8\"],[0.3333333333333333,\"#9c179e\"],[0.4444444444444444,\"#bd3786\"],[0.5555555555555556,\"#d8576b\"],[0.6666666666666666,\"#ed7953\"],[0.7777777777777778,\"#fb9f3a\"],[0.8888888888888888,\"#fdca26\"],[1.0,\"#f0f921\"]]}],\"choropleth\":[{\"type\":\"choropleth\",\"colorbar\":{\"outlinewidth\":0,\"ticks\":\"\"}}],\"histogram2d\":[{\"type\":\"histogram2d\",\"colorbar\":{\"outlinewidth\":0,\"ticks\":\"\"},\"colorscale\":[[0.0,\"#0d0887\"],[0.1111111111111111,\"#46039f\"],[0.2222222222222222,\"#7201a8\"],[0.3333333333333333,\"#9c179e\"],[0.4444444444444444,\"#bd3786\"],[0.5555555555555556,\"#d8576b\"],[0.6666666666666666,\"#ed7953\"],[0.7777777777777778,\"#fb9f3a\"],[0.8888888888888888,\"#fdca26\"],[1.0,\"#f0f921\"]]}],\"heatmap\":[{\"type\":\"heatmap\",\"colorbar\":{\"outlinewidth\":0,\"ticks\":\"\"},\"colorscale\":[[0.0,\"#0d0887\"],[0.1111111111111111,\"#46039f\"],[0.2222222222222222,\"#7201a8\"],[0.3333333333333333,\"#9c179e\"],[0.4444444444444444,\"#bd3786\"],[0.5555555555555556,\"#d8576b\"],[0.6666666666666666,\"#ed7953\"],[0.7777777777777778,\"#fb9f3a\"],[0.8888888888888888,\"#fdca26\"],[1.0,\"#f0f921\"]]}],\"heatmapgl\":[{\"type\":\"heatmapgl\",\"colorbar\":{\"outlinewidth\":0,\"ticks\":\"\"},\"colorscale\":[[0.0,\"#0d0887\"],[0.1111111111111111,\"#46039f\"],[0.2222222222222222,\"#7201a8\"],[0.3333333333333333,\"#9c179e\"],[0.4444444444444444,\"#bd3786\"],[0.5555555555555556,\"#d8576b\"],[0.6666666666666666,\"#ed7953\"],[0.7777777777777778,\"#fb9f3a\"],[0.8888888888888888,\"#fdca26\"],[1.0,\"#f0f921\"]]}],\"contourcarpet\":[{\"type\":\"contourcarpet\",\"colorbar\":{\"outlinewidth\":0,\"ticks\":\"\"}}],\"contour\":[{\"type\":\"contour\",\"colorbar\":{\"outlinewidth\":0,\"ticks\":\"\"},\"colorscale\":[[0.0,\"#0d0887\"],[0.1111111111111111,\"#46039f\"],[0.2222222222222222,\"#7201a8\"],[0.3333333333333333,\"#9c179e\"],[0.4444444444444444,\"#bd3786\"],[0.5555555555555556,\"#d8576b\"],[0.6666666666666666,\"#ed7953\"],[0.7777777777777778,\"#fb9f3a\"],[0.8888888888888888,\"#fdca26\"],[1.0,\"#f0f921\"]]}],\"surface\":[{\"type\":\"surface\",\"colorbar\":{\"outlinewidth\":0,\"ticks\":\"\"},\"colorscale\":[[0.0,\"#0d0887\"],[0.1111111111111111,\"#46039f\"],[0.2222222222222222,\"#7201a8\"],[0.3333333333333333,\"#9c179e\"],[0.4444444444444444,\"#bd3786\"],[0.5555555555555556,\"#d8576b\"],[0.6666666666666666,\"#ed7953\"],[0.7777777777777778,\"#fb9f3a\"],[0.8888888888888888,\"#fdca26\"],[1.0,\"#f0f921\"]]}],\"mesh3d\":[{\"type\":\"mesh3d\",\"colorbar\":{\"outlinewidth\":0,\"ticks\":\"\"}}],\"scatter\":[{\"fillpattern\":{\"fillmode\":\"overlay\",\"size\":10,\"solidity\":0.2},\"type\":\"scatter\"}],\"parcoords\":[{\"type\":\"parcoords\",\"line\":{\"colorbar\":{\"outlinewidth\":0,\"ticks\":\"\"}}}],\"scatterpolargl\":[{\"type\":\"scatterpolargl\",\"marker\":{\"colorbar\":{\"outlinewidth\":0,\"ticks\":\"\"}}}],\"bar\":[{\"error_x\":{\"color\":\"#2a3f5f\"},\"error_y\":{\"color\":\"#2a3f5f\"},\"marker\":{\"line\":{\"color\":\"#E5ECF6\",\"width\":0.5},\"pattern\":{\"fillmode\":\"overlay\",\"size\":10,\"solidity\":0.2}},\"type\":\"bar\"}],\"scattergeo\":[{\"type\":\"scattergeo\",\"marker\":{\"colorbar\":{\"outlinewidth\":0,\"ticks\":\"\"}}}],\"scatterpolar\":[{\"type\":\"scatterpolar\",\"marker\":{\"colorbar\":{\"outlinewidth\":0,\"ticks\":\"\"}}}],\"histogram\":[{\"marker\":{\"pattern\":{\"fillmode\":\"overlay\",\"size\":10,\"solidity\":0.2}},\"type\":\"histogram\"}],\"scattergl\":[{\"type\":\"scattergl\",\"marker\":{\"colorbar\":{\"outlinewidth\":0,\"ticks\":\"\"}}}],\"scatter3d\":[{\"type\":\"scatter3d\",\"line\":{\"colorbar\":{\"outlinewidth\":0,\"ticks\":\"\"}},\"marker\":{\"colorbar\":{\"outlinewidth\":0,\"ticks\":\"\"}}}],\"scattermapbox\":[{\"type\":\"scattermapbox\",\"marker\":{\"colorbar\":{\"outlinewidth\":0,\"ticks\":\"\"}}}],\"scatterternary\":[{\"type\":\"scatterternary\",\"marker\":{\"colorbar\":{\"outlinewidth\":0,\"ticks\":\"\"}}}],\"scattercarpet\":[{\"type\":\"scattercarpet\",\"marker\":{\"colorbar\":{\"outlinewidth\":0,\"ticks\":\"\"}}}],\"carpet\":[{\"aaxis\":{\"endlinecolor\":\"#2a3f5f\",\"gridcolor\":\"white\",\"linecolor\":\"white\",\"minorgridcolor\":\"white\",\"startlinecolor\":\"#2a3f5f\"},\"baxis\":{\"endlinecolor\":\"#2a3f5f\",\"gridcolor\":\"white\",\"linecolor\":\"white\",\"minorgridcolor\":\"white\",\"startlinecolor\":\"#2a3f5f\"},\"type\":\"carpet\"}],\"table\":[{\"cells\":{\"fill\":{\"color\":\"#EBF0F8\"},\"line\":{\"color\":\"white\"}},\"header\":{\"fill\":{\"color\":\"#C8D4E3\"},\"line\":{\"color\":\"white\"}},\"type\":\"table\"}],\"barpolar\":[{\"marker\":{\"line\":{\"color\":\"#E5ECF6\",\"width\":0.5},\"pattern\":{\"fillmode\":\"overlay\",\"size\":10,\"solidity\":0.2}},\"type\":\"barpolar\"}],\"pie\":[{\"automargin\":true,\"type\":\"pie\"}]},\"layout\":{\"autotypenumbers\":\"strict\",\"colorway\":[\"#636efa\",\"#EF553B\",\"#00cc96\",\"#ab63fa\",\"#FFA15A\",\"#19d3f3\",\"#FF6692\",\"#B6E880\",\"#FF97FF\",\"#FECB52\"],\"font\":{\"color\":\"#2a3f5f\"},\"hovermode\":\"closest\",\"hoverlabel\":{\"align\":\"left\"},\"paper_bgcolor\":\"white\",\"plot_bgcolor\":\"#E5ECF6\",\"polar\":{\"bgcolor\":\"#E5ECF6\",\"angularaxis\":{\"gridcolor\":\"white\",\"linecolor\":\"white\",\"ticks\":\"\"},\"radialaxis\":{\"gridcolor\":\"white\",\"linecolor\":\"white\",\"ticks\":\"\"}},\"ternary\":{\"bgcolor\":\"#E5ECF6\",\"aaxis\":{\"gridcolor\":\"white\",\"linecolor\":\"white\",\"ticks\":\"\"},\"baxis\":{\"gridcolor\":\"white\",\"linecolor\":\"white\",\"ticks\":\"\"},\"caxis\":{\"gridcolor\":\"white\",\"linecolor\":\"white\",\"ticks\":\"\"}},\"coloraxis\":{\"colorbar\":{\"outlinewidth\":0,\"ticks\":\"\"}},\"colorscale\":{\"sequential\":[[0.0,\"#0d0887\"],[0.1111111111111111,\"#46039f\"],[0.2222222222222222,\"#7201a8\"],[0.3333333333333333,\"#9c179e\"],[0.4444444444444444,\"#bd3786\"],[0.5555555555555556,\"#d8576b\"],[0.6666666666666666,\"#ed7953\"],[0.7777777777777778,\"#fb9f3a\"],[0.8888888888888888,\"#fdca26\"],[1.0,\"#f0f921\"]],\"sequentialminus\":[[0.0,\"#0d0887\"],[0.1111111111111111,\"#46039f\"],[0.2222222222222222,\"#7201a8\"],[0.3333333333333333,\"#9c179e\"],[0.4444444444444444,\"#bd3786\"],[0.5555555555555556,\"#d8576b\"],[0.6666666666666666,\"#ed7953\"],[0.7777777777777778,\"#fb9f3a\"],[0.8888888888888888,\"#fdca26\"],[1.0,\"#f0f921\"]],\"diverging\":[[0,\"#8e0152\"],[0.1,\"#c51b7d\"],[0.2,\"#de77ae\"],[0.3,\"#f1b6da\"],[0.4,\"#fde0ef\"],[0.5,\"#f7f7f7\"],[0.6,\"#e6f5d0\"],[0.7,\"#b8e186\"],[0.8,\"#7fbc41\"],[0.9,\"#4d9221\"],[1,\"#276419\"]]},\"xaxis\":{\"gridcolor\":\"white\",\"linecolor\":\"white\",\"ticks\":\"\",\"title\":{\"standoff\":15},\"zerolinecolor\":\"white\",\"automargin\":true,\"zerolinewidth\":2},\"yaxis\":{\"gridcolor\":\"white\",\"linecolor\":\"white\",\"ticks\":\"\",\"title\":{\"standoff\":15},\"zerolinecolor\":\"white\",\"automargin\":true,\"zerolinewidth\":2},\"scene\":{\"xaxis\":{\"backgroundcolor\":\"#E5ECF6\",\"gridcolor\":\"white\",\"linecolor\":\"white\",\"showbackground\":true,\"ticks\":\"\",\"zerolinecolor\":\"white\",\"gridwidth\":2},\"yaxis\":{\"backgroundcolor\":\"#E5ECF6\",\"gridcolor\":\"white\",\"linecolor\":\"white\",\"showbackground\":true,\"ticks\":\"\",\"zerolinecolor\":\"white\",\"gridwidth\":2},\"zaxis\":{\"backgroundcolor\":\"#E5ECF6\",\"gridcolor\":\"white\",\"linecolor\":\"white\",\"showbackground\":true,\"ticks\":\"\",\"zerolinecolor\":\"white\",\"gridwidth\":2}},\"shapedefaults\":{\"line\":{\"color\":\"#2a3f5f\"}},\"annotationdefaults\":{\"arrowcolor\":\"#2a3f5f\",\"arrowhead\":0,\"arrowwidth\":1},\"geo\":{\"bgcolor\":\"white\",\"landcolor\":\"#E5ECF6\",\"subunitcolor\":\"white\",\"showland\":true,\"showlakes\":true,\"lakecolor\":\"white\"},\"title\":{\"x\":0.05},\"mapbox\":{\"style\":\"light\"}}},\"xaxis\":{\"anchor\":\"y\",\"domain\":[0.0,1.0],\"title\":{\"text\":\"aderencia_investimento\"}},\"yaxis\":{\"anchor\":\"x\",\"domain\":[0.0,1.0],\"title\":{\"text\":\"count\"}},\"legend\":{\"tracegroupgap\":0},\"margin\":{\"t\":60},\"barmode\":\"relative\"},                        {\"responsive\": true}                    ).then(function(){\n",
              "                            \n",
              "var gd = document.getElementById('c3db684d-88b9-4888-9758-1a849a605d9e');\n",
              "var x = new MutationObserver(function (mutations, observer) {{\n",
              "        var display = window.getComputedStyle(gd).display;\n",
              "        if (!display || display === 'none') {{\n",
              "            console.log([gd, 'removed!']);\n",
              "            Plotly.purge(gd);\n",
              "            observer.disconnect();\n",
              "        }}\n",
              "}});\n",
              "\n",
              "// Listen for the removal of the full notebook cells\n",
              "var notebookContainer = gd.closest('#notebook-container');\n",
              "if (notebookContainer) {{\n",
              "    x.observe(notebookContainer, {childList: true});\n",
              "}}\n",
              "\n",
              "// Listen for the clearing of the current output cell\n",
              "var outputEl = gd.closest('.output');\n",
              "if (outputEl) {{\n",
              "    x.observe(outputEl, {childList: true});\n",
              "}}\n",
              "\n",
              "                        })                };                            </script>        </div>\n",
              "</body>\n",
              "</html>"
            ]
          },
          "metadata": {}
        }
      ]
    },
    {
      "cell_type": "markdown",
      "source": [
        "✅ Nesse histograma, identifiquei duas características na coluna: \"sim\" e \"não\", com 766 valores para \"não\" e 502 para \"sim\". Com isso, já consigo entender que não há inconsistências na coluna \"aderencia_investimento\"."
      ],
      "metadata": {
        "id": "7dlTC25yjP6n"
      }
    },
    {
      "cell_type": "markdown",
      "source": [
        "▶ Agora com \"estado_civil\". farei a construção das barras com base em \"aderencia_investimento\" para visualizar se existe uma diferença no padrão dos dados de cada estado civil com base na aderência. Assim, entender  também, se determinado civil influencia em maior aderência ao investimento. Para isso, usaremos o parâmetro color = 'aderencia_investimento'.\n",
        "\n"
      ],
      "metadata": {
        "id": "b3XbXJs2jypq"
      }
    },
    {
      "cell_type": "code",
      "source": [
        "px.histogram(dados, x = 'estado_civil', text_auto = True, color = 'aderencia_investimento',  barmode = 'group')"
      ],
      "metadata": {
        "colab": {
          "base_uri": "https://localhost:8080/",
          "height": 542
        },
        "id": "767mUvu7jWB5",
        "outputId": "c176e5b8-fa98-433d-b2b9-4eba0bcbcd1e"
      },
      "execution_count": 10,
      "outputs": [
        {
          "output_type": "display_data",
          "data": {
            "text/html": [
              "<html>\n",
              "<head><meta charset=\"utf-8\" /></head>\n",
              "<body>\n",
              "    <div>            <script src=\"https://cdnjs.cloudflare.com/ajax/libs/mathjax/2.7.5/MathJax.js?config=TeX-AMS-MML_SVG\"></script><script type=\"text/javascript\">if (window.MathJax && window.MathJax.Hub && window.MathJax.Hub.Config) {window.MathJax.Hub.Config({SVG: {font: \"STIX-Web\"}});}</script>                <script type=\"text/javascript\">window.PlotlyConfig = {MathJaxConfig: 'local'};</script>\n",
              "        <script charset=\"utf-8\" src=\"https://cdn.plot.ly/plotly-2.24.1.min.js\"></script>                <div id=\"1893d5d8-c906-449c-83f5-cc8f02d2c8ce\" class=\"plotly-graph-div\" style=\"height:525px; width:100%;\"></div>            <script type=\"text/javascript\">                                    window.PLOTLYENV=window.PLOTLYENV || {};                                    if (document.getElementById(\"1893d5d8-c906-449c-83f5-cc8f02d2c8ce\")) {                    Plotly.newPlot(                        \"1893d5d8-c906-449c-83f5-cc8f02d2c8ce\",                        [{\"alignmentgroup\":\"True\",\"bingroup\":\"x\",\"hovertemplate\":\"aderencia_investimento=sim\\u003cbr\\u003eestado_civil=%{x}\\u003cbr\\u003ecount=%{y}\\u003cextra\\u003e\\u003c\\u002fextra\\u003e\",\"legendgroup\":\"sim\",\"marker\":{\"color\":\"#636efa\",\"pattern\":{\"shape\":\"\"}},\"name\":\"sim\",\"offsetgroup\":\"sim\",\"orientation\":\"v\",\"showlegend\":true,\"texttemplate\":\"%{value}\",\"x\":[\"casado (a)\",\"casado (a)\",\"divorciado (a)\",\"casado (a)\",\"solteiro (a)\",\"solteiro (a)\",\"casado (a)\",\"divorciado (a)\",\"casado (a)\",\"divorciado (a)\",\"casado (a)\",\"solteiro (a)\",\"solteiro (a)\",\"casado (a)\",\"solteiro (a)\",\"casado (a)\",\"casado (a)\",\"casado (a)\",\"casado (a)\",\"casado (a)\",\"casado (a)\",\"casado (a)\",\"casado (a)\",\"solteiro (a)\",\"solteiro (a)\",\"divorciado (a)\",\"divorciado (a)\",\"solteiro (a)\",\"divorciado (a)\",\"solteiro (a)\",\"solteiro (a)\",\"solteiro (a)\",\"solteiro (a)\",\"solteiro (a)\",\"casado (a)\",\"casado (a)\",\"casado (a)\",\"casado (a)\",\"casado (a)\",\"solteiro (a)\",\"solteiro (a)\",\"casado (a)\",\"solteiro (a)\",\"casado (a)\",\"casado (a)\",\"casado (a)\",\"divorciado (a)\",\"casado (a)\",\"solteiro (a)\",\"solteiro (a)\",\"casado (a)\",\"casado (a)\",\"casado (a)\",\"casado (a)\",\"solteiro (a)\",\"casado (a)\",\"divorciado (a)\",\"casado (a)\",\"divorciado (a)\",\"casado (a)\",\"solteiro (a)\",\"casado (a)\",\"casado (a)\",\"divorciado (a)\",\"divorciado (a)\",\"solteiro (a)\",\"casado (a)\",\"casado (a)\",\"casado (a)\",\"solteiro (a)\",\"divorciado (a)\",\"solteiro (a)\",\"casado (a)\",\"casado (a)\",\"casado (a)\",\"divorciado (a)\",\"divorciado (a)\",\"casado (a)\",\"solteiro (a)\",\"casado (a)\",\"solteiro (a)\",\"casado (a)\",\"casado (a)\",\"casado (a)\",\"casado (a)\",\"casado (a)\",\"divorciado (a)\",\"divorciado (a)\",\"casado (a)\",\"divorciado (a)\",\"casado (a)\",\"casado (a)\",\"casado (a)\",\"solteiro (a)\",\"casado (a)\",\"casado (a)\",\"casado (a)\",\"solteiro (a)\",\"solteiro (a)\",\"solteiro (a)\",\"casado (a)\",\"casado (a)\",\"divorciado (a)\",\"casado (a)\",\"solteiro (a)\",\"casado (a)\",\"casado (a)\",\"solteiro (a)\",\"divorciado (a)\",\"solteiro (a)\",\"casado (a)\",\"solteiro (a)\",\"casado (a)\",\"solteiro (a)\",\"casado (a)\",\"solteiro (a)\",\"solteiro (a)\",\"casado (a)\",\"casado (a)\",\"casado (a)\",\"casado (a)\",\"solteiro (a)\",\"divorciado (a)\",\"solteiro (a)\",\"solteiro (a)\",\"solteiro (a)\",\"casado (a)\",\"solteiro (a)\",\"solteiro (a)\",\"solteiro (a)\",\"solteiro (a)\",\"casado (a)\",\"solteiro (a)\",\"divorciado (a)\",\"casado (a)\",\"casado (a)\",\"casado (a)\",\"divorciado (a)\",\"casado (a)\",\"solteiro (a)\",\"casado (a)\",\"casado (a)\",\"solteiro (a)\",\"casado (a)\",\"solteiro (a)\",\"casado (a)\",\"casado (a)\",\"solteiro (a)\",\"casado (a)\",\"solteiro (a)\",\"solteiro (a)\",\"casado (a)\",\"solteiro (a)\",\"casado (a)\",\"solteiro (a)\",\"divorciado (a)\",\"solteiro (a)\",\"solteiro (a)\",\"solteiro (a)\",\"casado (a)\",\"casado (a)\",\"casado (a)\",\"casado (a)\",\"solteiro (a)\",\"casado (a)\",\"casado (a)\",\"casado (a)\",\"casado (a)\",\"casado (a)\",\"solteiro (a)\",\"solteiro (a)\",\"casado (a)\",\"casado (a)\",\"casado (a)\",\"solteiro (a)\",\"casado (a)\",\"casado (a)\",\"divorciado (a)\",\"casado (a)\",\"casado (a)\",\"solteiro (a)\",\"casado (a)\",\"divorciado (a)\",\"casado (a)\",\"casado (a)\",\"solteiro (a)\",\"solteiro (a)\",\"divorciado (a)\",\"casado (a)\",\"casado (a)\",\"casado (a)\",\"casado (a)\",\"divorciado (a)\",\"divorciado (a)\",\"solteiro (a)\",\"solteiro (a)\",\"casado (a)\",\"solteiro (a)\",\"solteiro (a)\",\"casado (a)\",\"casado (a)\",\"casado (a)\",\"casado (a)\",\"casado (a)\",\"solteiro (a)\",\"solteiro (a)\",\"divorciado (a)\",\"solteiro (a)\",\"divorciado (a)\",\"casado (a)\",\"solteiro (a)\",\"casado (a)\",\"divorciado (a)\",\"solteiro (a)\",\"casado (a)\",\"casado (a)\",\"solteiro (a)\",\"casado (a)\",\"casado (a)\",\"divorciado (a)\",\"casado (a)\",\"solteiro (a)\",\"casado (a)\",\"casado (a)\",\"casado (a)\",\"divorciado (a)\",\"casado (a)\",\"solteiro (a)\",\"casado (a)\",\"casado (a)\",\"casado (a)\",\"divorciado (a)\",\"casado (a)\",\"solteiro (a)\",\"casado (a)\",\"casado (a)\",\"casado (a)\",\"casado (a)\",\"casado (a)\",\"casado (a)\",\"solteiro (a)\",\"casado (a)\",\"casado (a)\",\"casado (a)\",\"solteiro (a)\",\"casado (a)\",\"casado (a)\",\"casado (a)\",\"casado (a)\",\"divorciado (a)\",\"solteiro (a)\",\"casado (a)\",\"casado (a)\",\"casado (a)\",\"divorciado (a)\",\"casado (a)\",\"divorciado (a)\",\"solteiro (a)\",\"casado (a)\",\"solteiro (a)\",\"solteiro (a)\",\"casado (a)\",\"casado (a)\",\"casado (a)\",\"casado (a)\",\"solteiro (a)\",\"solteiro (a)\",\"casado (a)\",\"casado (a)\",\"casado (a)\",\"solteiro (a)\",\"solteiro (a)\",\"casado (a)\",\"casado (a)\",\"casado (a)\",\"solteiro (a)\",\"casado (a)\",\"casado (a)\",\"casado (a)\",\"casado (a)\",\"divorciado (a)\",\"solteiro (a)\",\"casado (a)\",\"divorciado (a)\",\"solteiro (a)\",\"solteiro (a)\",\"casado (a)\",\"casado (a)\",\"casado (a)\",\"casado (a)\",\"casado (a)\",\"solteiro (a)\",\"solteiro (a)\",\"casado (a)\",\"solteiro (a)\",\"solteiro (a)\",\"solteiro (a)\",\"divorciado (a)\",\"solteiro (a)\",\"casado (a)\",\"divorciado (a)\",\"casado (a)\",\"casado (a)\",\"casado (a)\",\"casado (a)\",\"casado (a)\",\"solteiro (a)\",\"casado (a)\",\"casado (a)\",\"casado (a)\",\"casado (a)\",\"solteiro (a)\",\"casado (a)\",\"solteiro (a)\",\"solteiro (a)\",\"divorciado (a)\",\"solteiro (a)\",\"solteiro (a)\",\"casado (a)\",\"casado (a)\",\"divorciado (a)\",\"casado (a)\",\"solteiro (a)\",\"casado (a)\",\"divorciado (a)\",\"solteiro (a)\",\"casado (a)\",\"casado (a)\",\"divorciado (a)\",\"casado (a)\",\"casado (a)\",\"casado (a)\",\"solteiro (a)\",\"casado (a)\",\"solteiro (a)\",\"solteiro (a)\",\"solteiro (a)\",\"casado (a)\",\"casado (a)\",\"solteiro (a)\",\"solteiro (a)\",\"casado (a)\",\"casado (a)\",\"solteiro (a)\",\"solteiro (a)\",\"solteiro (a)\",\"casado (a)\",\"casado (a)\",\"casado (a)\",\"casado (a)\",\"divorciado (a)\",\"solteiro (a)\",\"divorciado (a)\",\"casado (a)\",\"divorciado (a)\",\"casado (a)\",\"solteiro (a)\",\"solteiro (a)\",\"divorciado (a)\",\"casado (a)\",\"solteiro (a)\",\"solteiro (a)\",\"casado (a)\",\"casado (a)\",\"casado (a)\",\"divorciado (a)\",\"solteiro (a)\",\"solteiro (a)\",\"solteiro (a)\",\"casado (a)\",\"solteiro (a)\",\"casado (a)\",\"casado (a)\",\"casado (a)\",\"solteiro (a)\",\"casado (a)\",\"casado (a)\",\"solteiro (a)\",\"solteiro (a)\",\"divorciado (a)\",\"solteiro (a)\",\"divorciado (a)\",\"divorciado (a)\",\"casado (a)\",\"divorciado (a)\",\"casado (a)\",\"divorciado (a)\",\"divorciado (a)\",\"divorciado (a)\",\"solteiro (a)\",\"divorciado (a)\",\"divorciado (a)\",\"solteiro (a)\",\"solteiro (a)\",\"solteiro (a)\",\"casado (a)\",\"divorciado (a)\",\"solteiro (a)\",\"casado (a)\",\"divorciado (a)\",\"solteiro (a)\",\"solteiro (a)\",\"casado (a)\",\"solteiro (a)\",\"solteiro (a)\",\"solteiro (a)\",\"solteiro (a)\",\"casado (a)\",\"casado (a)\",\"solteiro (a)\",\"divorciado (a)\",\"solteiro (a)\",\"casado (a)\",\"casado (a)\",\"casado (a)\",\"casado (a)\",\"solteiro (a)\",\"divorciado (a)\",\"casado (a)\",\"casado (a)\",\"casado (a)\",\"solteiro (a)\",\"casado (a)\",\"casado (a)\",\"solteiro (a)\",\"solteiro (a)\",\"casado (a)\",\"solteiro (a)\",\"casado (a)\",\"casado (a)\",\"solteiro (a)\",\"casado (a)\",\"divorciado (a)\",\"casado (a)\",\"divorciado (a)\",\"solteiro (a)\",\"solteiro (a)\",\"casado (a)\",\"casado (a)\",\"solteiro (a)\",\"divorciado (a)\",\"casado (a)\",\"divorciado (a)\",\"casado (a)\",\"solteiro (a)\",\"casado (a)\",\"solteiro (a)\",\"divorciado (a)\",\"divorciado (a)\",\"casado (a)\",\"casado (a)\",\"solteiro (a)\",\"solteiro (a)\",\"casado (a)\",\"casado (a)\",\"casado (a)\",\"casado (a)\",\"divorciado (a)\",\"solteiro (a)\",\"casado (a)\",\"solteiro (a)\",\"casado (a)\",\"casado (a)\",\"divorciado (a)\",\"casado (a)\",\"casado (a)\",\"casado (a)\",\"solteiro (a)\",\"casado (a)\",\"solteiro (a)\",\"casado (a)\",\"casado (a)\",\"casado (a)\",\"solteiro (a)\",\"divorciado (a)\",\"casado (a)\",\"casado (a)\",\"casado (a)\",\"casado (a)\",\"casado (a)\",\"casado (a)\",\"solteiro (a)\",\"solteiro (a)\",\"casado (a)\",\"casado (a)\",\"casado (a)\",\"solteiro (a)\",\"casado (a)\",\"casado (a)\",\"casado (a)\",\"divorciado (a)\",\"casado (a)\",\"solteiro (a)\",\"casado (a)\",\"casado (a)\",\"divorciado (a)\",\"casado (a)\",\"solteiro (a)\",\"solteiro (a)\",\"solteiro (a)\",\"casado (a)\",\"solteiro (a)\"],\"xaxis\":\"x\",\"yaxis\":\"y\",\"type\":\"histogram\"},{\"alignmentgroup\":\"True\",\"bingroup\":\"x\",\"hovertemplate\":\"aderencia_investimento=nao\\u003cbr\\u003eestado_civil=%{x}\\u003cbr\\u003ecount=%{y}\\u003cextra\\u003e\\u003c\\u002fextra\\u003e\",\"legendgroup\":\"nao\",\"marker\":{\"color\":\"#EF553B\",\"pattern\":{\"shape\":\"\"}},\"name\":\"nao\",\"offsetgroup\":\"nao\",\"orientation\":\"v\",\"showlegend\":true,\"texttemplate\":\"%{value}\",\"x\":[\"solteiro (a)\",\"casado (a)\",\"casado (a)\",\"casado (a)\",\"divorciado (a)\",\"casado (a)\",\"casado (a)\",\"solteiro (a)\",\"casado (a)\",\"casado (a)\",\"casado (a)\",\"divorciado (a)\",\"solteiro (a)\",\"casado (a)\",\"casado (a)\",\"casado (a)\",\"casado (a)\",\"solteiro (a)\",\"casado (a)\",\"casado (a)\",\"casado (a)\",\"casado (a)\",\"divorciado (a)\",\"divorciado (a)\",\"casado (a)\",\"casado (a)\",\"casado (a)\",\"casado (a)\",\"casado (a)\",\"divorciado (a)\",\"casado (a)\",\"casado (a)\",\"casado (a)\",\"solteiro (a)\",\"casado (a)\",\"solteiro (a)\",\"divorciado (a)\",\"solteiro (a)\",\"casado (a)\",\"casado (a)\",\"casado (a)\",\"casado (a)\",\"divorciado (a)\",\"casado (a)\",\"casado (a)\",\"casado (a)\",\"casado (a)\",\"casado (a)\",\"casado (a)\",\"casado (a)\",\"solteiro (a)\",\"casado (a)\",\"casado (a)\",\"casado (a)\",\"solteiro (a)\",\"casado (a)\",\"casado (a)\",\"casado (a)\",\"divorciado (a)\",\"solteiro (a)\",\"casado (a)\",\"casado (a)\",\"solteiro (a)\",\"casado (a)\",\"casado (a)\",\"casado (a)\",\"solteiro (a)\",\"casado (a)\",\"solteiro (a)\",\"casado (a)\",\"casado (a)\",\"casado (a)\",\"solteiro (a)\",\"casado (a)\",\"casado (a)\",\"solteiro (a)\",\"casado (a)\",\"solteiro (a)\",\"casado (a)\",\"casado (a)\",\"casado (a)\",\"casado (a)\",\"casado (a)\",\"casado (a)\",\"casado (a)\",\"casado (a)\",\"casado (a)\",\"casado (a)\",\"casado (a)\",\"divorciado (a)\",\"casado (a)\",\"casado (a)\",\"casado (a)\",\"casado (a)\",\"solteiro (a)\",\"casado (a)\",\"casado (a)\",\"casado (a)\",\"casado (a)\",\"casado (a)\",\"casado (a)\",\"casado (a)\",\"casado (a)\",\"casado (a)\",\"casado (a)\",\"casado (a)\",\"casado (a)\",\"solteiro (a)\",\"solteiro (a)\",\"solteiro (a)\",\"solteiro (a)\",\"solteiro (a)\",\"casado (a)\",\"casado (a)\",\"casado (a)\",\"casado (a)\",\"casado (a)\",\"casado (a)\",\"casado (a)\",\"casado (a)\",\"casado (a)\",\"divorciado (a)\",\"casado (a)\",\"casado (a)\",\"casado (a)\",\"casado (a)\",\"casado (a)\",\"solteiro (a)\",\"casado (a)\",\"solteiro (a)\",\"casado (a)\",\"casado (a)\",\"casado (a)\",\"casado (a)\",\"casado (a)\",\"casado (a)\",\"solteiro (a)\",\"casado (a)\",\"casado (a)\",\"casado (a)\",\"solteiro (a)\",\"divorciado (a)\",\"casado (a)\",\"solteiro (a)\",\"divorciado (a)\",\"casado (a)\",\"solteiro (a)\",\"casado (a)\",\"solteiro (a)\",\"solteiro (a)\",\"casado (a)\",\"solteiro (a)\",\"divorciado (a)\",\"divorciado (a)\",\"casado (a)\",\"solteiro (a)\",\"casado (a)\",\"solteiro (a)\",\"solteiro (a)\",\"casado (a)\",\"casado (a)\",\"casado (a)\",\"solteiro (a)\",\"casado (a)\",\"solteiro (a)\",\"casado (a)\",\"casado (a)\",\"casado (a)\",\"casado (a)\",\"divorciado (a)\",\"solteiro (a)\",\"solteiro (a)\",\"casado (a)\",\"casado (a)\",\"divorciado (a)\",\"casado (a)\",\"solteiro (a)\",\"casado (a)\",\"solteiro (a)\",\"divorciado (a)\",\"casado (a)\",\"solteiro (a)\",\"solteiro (a)\",\"casado (a)\",\"casado (a)\",\"casado (a)\",\"solteiro (a)\",\"casado (a)\",\"solteiro (a)\",\"divorciado (a)\",\"divorciado (a)\",\"casado (a)\",\"casado (a)\",\"solteiro (a)\",\"casado (a)\",\"casado (a)\",\"casado (a)\",\"solteiro (a)\",\"divorciado (a)\",\"divorciado (a)\",\"casado (a)\",\"solteiro (a)\",\"casado (a)\",\"casado (a)\",\"solteiro (a)\",\"casado (a)\",\"divorciado (a)\",\"solteiro (a)\",\"casado (a)\",\"casado (a)\",\"casado (a)\",\"casado (a)\",\"casado (a)\",\"casado (a)\",\"casado (a)\",\"casado (a)\",\"solteiro (a)\",\"solteiro (a)\",\"solteiro (a)\",\"solteiro (a)\",\"solteiro (a)\",\"divorciado (a)\",\"solteiro (a)\",\"casado (a)\",\"divorciado (a)\",\"casado (a)\",\"casado (a)\",\"casado (a)\",\"solteiro (a)\",\"casado (a)\",\"solteiro (a)\",\"solteiro (a)\",\"casado (a)\",\"divorciado (a)\",\"solteiro (a)\",\"casado (a)\",\"casado (a)\",\"casado (a)\",\"solteiro (a)\",\"solteiro (a)\",\"casado (a)\",\"divorciado (a)\",\"divorciado (a)\",\"casado (a)\",\"casado (a)\",\"casado (a)\",\"casado (a)\",\"casado (a)\",\"casado (a)\",\"casado (a)\",\"solteiro (a)\",\"solteiro (a)\",\"casado (a)\",\"casado (a)\",\"casado (a)\",\"casado (a)\",\"casado (a)\",\"casado (a)\",\"divorciado (a)\",\"casado (a)\",\"casado (a)\",\"divorciado (a)\",\"solteiro (a)\",\"solteiro (a)\",\"casado (a)\",\"casado (a)\",\"solteiro (a)\",\"solteiro (a)\",\"casado (a)\",\"casado (a)\",\"casado (a)\",\"casado (a)\",\"solteiro (a)\",\"casado (a)\",\"solteiro (a)\",\"divorciado (a)\",\"solteiro (a)\",\"casado (a)\",\"casado (a)\",\"casado (a)\",\"divorciado (a)\",\"casado (a)\",\"casado (a)\",\"casado (a)\",\"solteiro (a)\",\"solteiro (a)\",\"divorciado (a)\",\"casado (a)\",\"casado (a)\",\"solteiro (a)\",\"casado (a)\",\"solteiro (a)\",\"solteiro (a)\",\"solteiro (a)\",\"casado (a)\",\"casado (a)\",\"casado (a)\",\"solteiro (a)\",\"solteiro (a)\",\"casado (a)\",\"casado (a)\",\"solteiro (a)\",\"divorciado (a)\",\"casado (a)\",\"casado (a)\",\"divorciado (a)\",\"solteiro (a)\",\"solteiro (a)\",\"solteiro (a)\",\"casado (a)\",\"casado (a)\",\"casado (a)\",\"casado (a)\",\"casado (a)\",\"solteiro (a)\",\"solteiro (a)\",\"solteiro (a)\",\"casado (a)\",\"solteiro (a)\",\"casado (a)\",\"casado (a)\",\"solteiro (a)\",\"solteiro (a)\",\"solteiro (a)\",\"casado (a)\",\"divorciado (a)\",\"divorciado (a)\",\"solteiro (a)\",\"casado (a)\",\"casado (a)\",\"casado (a)\",\"casado (a)\",\"solteiro (a)\",\"solteiro (a)\",\"casado (a)\",\"solteiro (a)\",\"casado (a)\",\"casado (a)\",\"solteiro (a)\",\"casado (a)\",\"casado (a)\",\"casado (a)\",\"casado (a)\",\"casado (a)\",\"casado (a)\",\"casado (a)\",\"casado (a)\",\"casado (a)\",\"casado (a)\",\"solteiro (a)\",\"casado (a)\",\"solteiro (a)\",\"solteiro (a)\",\"casado (a)\",\"solteiro (a)\",\"casado (a)\",\"casado (a)\",\"casado (a)\",\"casado (a)\",\"divorciado (a)\",\"solteiro (a)\",\"casado (a)\",\"solteiro (a)\",\"casado (a)\",\"solteiro (a)\",\"casado (a)\",\"casado (a)\",\"casado (a)\",\"casado (a)\",\"divorciado (a)\",\"solteiro (a)\",\"casado (a)\",\"solteiro (a)\",\"casado (a)\",\"solteiro (a)\",\"casado (a)\",\"casado (a)\",\"casado (a)\",\"casado (a)\",\"casado (a)\",\"solteiro (a)\",\"casado (a)\",\"casado (a)\",\"casado (a)\",\"solteiro (a)\",\"divorciado (a)\",\"solteiro (a)\",\"casado (a)\",\"casado (a)\",\"casado (a)\",\"solteiro (a)\",\"casado (a)\",\"casado (a)\",\"solteiro (a)\",\"casado (a)\",\"solteiro (a)\",\"casado (a)\",\"casado (a)\",\"casado (a)\",\"casado (a)\",\"casado (a)\",\"solteiro (a)\",\"casado (a)\",\"solteiro (a)\",\"casado (a)\",\"casado (a)\",\"casado (a)\",\"divorciado (a)\",\"casado (a)\",\"casado (a)\",\"casado (a)\",\"divorciado (a)\",\"casado (a)\",\"casado (a)\",\"solteiro (a)\",\"casado (a)\",\"solteiro (a)\",\"casado (a)\",\"divorciado (a)\",\"casado (a)\",\"casado (a)\",\"casado (a)\",\"divorciado (a)\",\"casado (a)\",\"casado (a)\",\"casado (a)\",\"solteiro (a)\",\"solteiro (a)\",\"casado (a)\",\"solteiro (a)\",\"casado (a)\",\"casado (a)\",\"solteiro (a)\",\"casado (a)\",\"solteiro (a)\",\"casado (a)\",\"casado (a)\",\"casado (a)\",\"casado (a)\",\"casado (a)\",\"casado (a)\",\"casado (a)\",\"casado (a)\",\"casado (a)\",\"solteiro (a)\",\"divorciado (a)\",\"casado (a)\",\"solteiro (a)\",\"divorciado (a)\",\"solteiro (a)\",\"divorciado (a)\",\"casado (a)\",\"casado (a)\",\"casado (a)\",\"casado (a)\",\"divorciado (a)\",\"casado (a)\",\"solteiro (a)\",\"divorciado (a)\",\"casado (a)\",\"solteiro (a)\",\"casado (a)\",\"divorciado (a)\",\"casado (a)\",\"casado (a)\",\"casado (a)\",\"solteiro (a)\",\"casado (a)\",\"solteiro (a)\",\"solteiro (a)\",\"casado (a)\",\"casado (a)\",\"divorciado (a)\",\"solteiro (a)\",\"solteiro (a)\",\"casado (a)\",\"solteiro (a)\",\"solteiro (a)\",\"divorciado (a)\",\"casado (a)\",\"divorciado (a)\",\"casado (a)\",\"solteiro (a)\",\"casado (a)\",\"divorciado (a)\",\"casado (a)\",\"casado (a)\",\"casado (a)\",\"divorciado (a)\",\"casado (a)\",\"casado (a)\",\"divorciado (a)\",\"casado (a)\",\"casado (a)\",\"casado (a)\",\"solteiro (a)\",\"casado (a)\",\"divorciado (a)\",\"casado (a)\",\"casado (a)\",\"casado (a)\",\"casado (a)\",\"casado (a)\",\"casado (a)\",\"solteiro (a)\",\"casado (a)\",\"solteiro (a)\",\"casado (a)\",\"solteiro (a)\",\"solteiro (a)\",\"solteiro (a)\",\"casado (a)\",\"casado (a)\",\"casado (a)\",\"casado (a)\",\"casado (a)\",\"solteiro (a)\",\"casado (a)\",\"casado (a)\",\"solteiro (a)\",\"solteiro (a)\",\"casado (a)\",\"casado (a)\",\"divorciado (a)\",\"casado (a)\",\"divorciado (a)\",\"casado (a)\",\"solteiro (a)\",\"casado (a)\",\"divorciado (a)\",\"casado (a)\",\"casado (a)\",\"solteiro (a)\",\"casado (a)\",\"casado (a)\",\"divorciado (a)\",\"solteiro (a)\",\"divorciado (a)\",\"casado (a)\",\"solteiro (a)\",\"solteiro (a)\",\"casado (a)\",\"solteiro (a)\",\"casado (a)\",\"divorciado (a)\",\"casado (a)\",\"casado (a)\",\"casado (a)\",\"casado (a)\",\"casado (a)\",\"casado (a)\",\"solteiro (a)\",\"casado (a)\",\"casado (a)\",\"casado (a)\",\"solteiro (a)\",\"casado (a)\",\"casado (a)\",\"casado (a)\",\"solteiro (a)\",\"divorciado (a)\",\"solteiro (a)\",\"casado (a)\",\"solteiro (a)\",\"casado (a)\",\"solteiro (a)\",\"casado (a)\",\"casado (a)\",\"casado (a)\",\"casado (a)\",\"divorciado (a)\",\"casado (a)\",\"casado (a)\",\"divorciado (a)\",\"casado (a)\",\"casado (a)\",\"casado (a)\",\"casado (a)\",\"casado (a)\",\"solteiro (a)\",\"divorciado (a)\",\"casado (a)\",\"casado (a)\",\"casado (a)\",\"solteiro (a)\",\"casado (a)\",\"casado (a)\",\"casado (a)\",\"casado (a)\",\"casado (a)\",\"solteiro (a)\",\"solteiro (a)\",\"solteiro (a)\",\"casado (a)\",\"divorciado (a)\",\"casado (a)\",\"divorciado (a)\",\"casado (a)\",\"casado (a)\",\"solteiro (a)\",\"divorciado (a)\",\"casado (a)\",\"solteiro (a)\",\"casado (a)\",\"casado (a)\",\"solteiro (a)\",\"casado (a)\",\"casado (a)\",\"casado (a)\",\"casado (a)\",\"divorciado (a)\",\"casado (a)\",\"casado (a)\",\"casado (a)\",\"solteiro (a)\",\"divorciado (a)\",\"solteiro (a)\",\"casado (a)\",\"casado (a)\",\"solteiro (a)\",\"casado (a)\",\"casado (a)\",\"casado (a)\",\"casado (a)\",\"casado (a)\",\"casado (a)\",\"solteiro (a)\",\"solteiro (a)\",\"divorciado (a)\",\"divorciado (a)\",\"casado (a)\",\"casado (a)\",\"solteiro (a)\",\"divorciado (a)\",\"casado (a)\",\"solteiro (a)\",\"casado (a)\",\"casado (a)\",\"casado (a)\",\"solteiro (a)\",\"casado (a)\",\"casado (a)\",\"solteiro (a)\",\"casado (a)\",\"solteiro (a)\",\"solteiro (a)\",\"casado (a)\",\"casado (a)\",\"casado (a)\",\"casado (a)\",\"divorciado (a)\",\"divorciado (a)\",\"casado (a)\",\"casado (a)\",\"casado (a)\",\"solteiro (a)\",\"casado (a)\",\"divorciado (a)\",\"divorciado (a)\",\"divorciado (a)\",\"casado (a)\",\"solteiro (a)\",\"divorciado (a)\",\"solteiro (a)\",\"casado (a)\",\"casado (a)\",\"solteiro (a)\",\"casado (a)\",\"divorciado (a)\",\"casado (a)\",\"casado (a)\",\"casado (a)\",\"solteiro (a)\",\"casado (a)\",\"casado (a)\",\"casado (a)\",\"casado (a)\",\"casado (a)\",\"casado (a)\",\"casado (a)\",\"casado (a)\",\"casado (a)\",\"solteiro (a)\",\"casado (a)\",\"divorciado (a)\",\"solteiro (a)\",\"casado (a)\",\"casado (a)\",\"casado (a)\",\"casado (a)\",\"solteiro (a)\",\"casado (a)\",\"casado (a)\",\"solteiro (a)\",\"solteiro (a)\",\"solteiro (a)\",\"casado (a)\",\"casado (a)\",\"casado (a)\",\"casado (a)\",\"solteiro (a)\",\"casado (a)\",\"casado (a)\",\"solteiro (a)\",\"casado (a)\",\"divorciado (a)\",\"solteiro (a)\",\"divorciado (a)\",\"casado (a)\",\"solteiro (a)\",\"casado (a)\",\"casado (a)\",\"casado (a)\",\"solteiro (a)\",\"casado (a)\",\"solteiro (a)\",\"casado (a)\",\"casado (a)\",\"casado (a)\",\"divorciado (a)\",\"casado (a)\",\"solteiro (a)\",\"solteiro (a)\",\"casado (a)\",\"casado (a)\",\"solteiro (a)\",\"casado (a)\",\"casado (a)\",\"divorciado (a)\",\"casado (a)\",\"solteiro (a)\",\"casado (a)\",\"solteiro (a)\",\"casado (a)\",\"divorciado (a)\",\"casado (a)\",\"solteiro (a)\",\"casado (a)\",\"casado (a)\",\"solteiro (a)\",\"casado (a)\",\"solteiro (a)\",\"casado (a)\",\"casado (a)\",\"casado (a)\",\"casado (a)\",\"casado (a)\",\"casado (a)\",\"solteiro (a)\",\"casado (a)\",\"solteiro (a)\",\"casado (a)\",\"casado (a)\",\"casado (a)\",\"solteiro (a)\",\"casado (a)\",\"casado (a)\",\"solteiro (a)\",\"casado (a)\",\"casado (a)\",\"solteiro (a)\",\"casado (a)\",\"divorciado (a)\",\"solteiro (a)\",\"casado (a)\",\"casado (a)\"],\"xaxis\":\"x\",\"yaxis\":\"y\",\"type\":\"histogram\"}],                        {\"template\":{\"data\":{\"histogram2dcontour\":[{\"type\":\"histogram2dcontour\",\"colorbar\":{\"outlinewidth\":0,\"ticks\":\"\"},\"colorscale\":[[0.0,\"#0d0887\"],[0.1111111111111111,\"#46039f\"],[0.2222222222222222,\"#7201a8\"],[0.3333333333333333,\"#9c179e\"],[0.4444444444444444,\"#bd3786\"],[0.5555555555555556,\"#d8576b\"],[0.6666666666666666,\"#ed7953\"],[0.7777777777777778,\"#fb9f3a\"],[0.8888888888888888,\"#fdca26\"],[1.0,\"#f0f921\"]]}],\"choropleth\":[{\"type\":\"choropleth\",\"colorbar\":{\"outlinewidth\":0,\"ticks\":\"\"}}],\"histogram2d\":[{\"type\":\"histogram2d\",\"colorbar\":{\"outlinewidth\":0,\"ticks\":\"\"},\"colorscale\":[[0.0,\"#0d0887\"],[0.1111111111111111,\"#46039f\"],[0.2222222222222222,\"#7201a8\"],[0.3333333333333333,\"#9c179e\"],[0.4444444444444444,\"#bd3786\"],[0.5555555555555556,\"#d8576b\"],[0.6666666666666666,\"#ed7953\"],[0.7777777777777778,\"#fb9f3a\"],[0.8888888888888888,\"#fdca26\"],[1.0,\"#f0f921\"]]}],\"heatmap\":[{\"type\":\"heatmap\",\"colorbar\":{\"outlinewidth\":0,\"ticks\":\"\"},\"colorscale\":[[0.0,\"#0d0887\"],[0.1111111111111111,\"#46039f\"],[0.2222222222222222,\"#7201a8\"],[0.3333333333333333,\"#9c179e\"],[0.4444444444444444,\"#bd3786\"],[0.5555555555555556,\"#d8576b\"],[0.6666666666666666,\"#ed7953\"],[0.7777777777777778,\"#fb9f3a\"],[0.8888888888888888,\"#fdca26\"],[1.0,\"#f0f921\"]]}],\"heatmapgl\":[{\"type\":\"heatmapgl\",\"colorbar\":{\"outlinewidth\":0,\"ticks\":\"\"},\"colorscale\":[[0.0,\"#0d0887\"],[0.1111111111111111,\"#46039f\"],[0.2222222222222222,\"#7201a8\"],[0.3333333333333333,\"#9c179e\"],[0.4444444444444444,\"#bd3786\"],[0.5555555555555556,\"#d8576b\"],[0.6666666666666666,\"#ed7953\"],[0.7777777777777778,\"#fb9f3a\"],[0.8888888888888888,\"#fdca26\"],[1.0,\"#f0f921\"]]}],\"contourcarpet\":[{\"type\":\"contourcarpet\",\"colorbar\":{\"outlinewidth\":0,\"ticks\":\"\"}}],\"contour\":[{\"type\":\"contour\",\"colorbar\":{\"outlinewidth\":0,\"ticks\":\"\"},\"colorscale\":[[0.0,\"#0d0887\"],[0.1111111111111111,\"#46039f\"],[0.2222222222222222,\"#7201a8\"],[0.3333333333333333,\"#9c179e\"],[0.4444444444444444,\"#bd3786\"],[0.5555555555555556,\"#d8576b\"],[0.6666666666666666,\"#ed7953\"],[0.7777777777777778,\"#fb9f3a\"],[0.8888888888888888,\"#fdca26\"],[1.0,\"#f0f921\"]]}],\"surface\":[{\"type\":\"surface\",\"colorbar\":{\"outlinewidth\":0,\"ticks\":\"\"},\"colorscale\":[[0.0,\"#0d0887\"],[0.1111111111111111,\"#46039f\"],[0.2222222222222222,\"#7201a8\"],[0.3333333333333333,\"#9c179e\"],[0.4444444444444444,\"#bd3786\"],[0.5555555555555556,\"#d8576b\"],[0.6666666666666666,\"#ed7953\"],[0.7777777777777778,\"#fb9f3a\"],[0.8888888888888888,\"#fdca26\"],[1.0,\"#f0f921\"]]}],\"mesh3d\":[{\"type\":\"mesh3d\",\"colorbar\":{\"outlinewidth\":0,\"ticks\":\"\"}}],\"scatter\":[{\"fillpattern\":{\"fillmode\":\"overlay\",\"size\":10,\"solidity\":0.2},\"type\":\"scatter\"}],\"parcoords\":[{\"type\":\"parcoords\",\"line\":{\"colorbar\":{\"outlinewidth\":0,\"ticks\":\"\"}}}],\"scatterpolargl\":[{\"type\":\"scatterpolargl\",\"marker\":{\"colorbar\":{\"outlinewidth\":0,\"ticks\":\"\"}}}],\"bar\":[{\"error_x\":{\"color\":\"#2a3f5f\"},\"error_y\":{\"color\":\"#2a3f5f\"},\"marker\":{\"line\":{\"color\":\"#E5ECF6\",\"width\":0.5},\"pattern\":{\"fillmode\":\"overlay\",\"size\":10,\"solidity\":0.2}},\"type\":\"bar\"}],\"scattergeo\":[{\"type\":\"scattergeo\",\"marker\":{\"colorbar\":{\"outlinewidth\":0,\"ticks\":\"\"}}}],\"scatterpolar\":[{\"type\":\"scatterpolar\",\"marker\":{\"colorbar\":{\"outlinewidth\":0,\"ticks\":\"\"}}}],\"histogram\":[{\"marker\":{\"pattern\":{\"fillmode\":\"overlay\",\"size\":10,\"solidity\":0.2}},\"type\":\"histogram\"}],\"scattergl\":[{\"type\":\"scattergl\",\"marker\":{\"colorbar\":{\"outlinewidth\":0,\"ticks\":\"\"}}}],\"scatter3d\":[{\"type\":\"scatter3d\",\"line\":{\"colorbar\":{\"outlinewidth\":0,\"ticks\":\"\"}},\"marker\":{\"colorbar\":{\"outlinewidth\":0,\"ticks\":\"\"}}}],\"scattermapbox\":[{\"type\":\"scattermapbox\",\"marker\":{\"colorbar\":{\"outlinewidth\":0,\"ticks\":\"\"}}}],\"scatterternary\":[{\"type\":\"scatterternary\",\"marker\":{\"colorbar\":{\"outlinewidth\":0,\"ticks\":\"\"}}}],\"scattercarpet\":[{\"type\":\"scattercarpet\",\"marker\":{\"colorbar\":{\"outlinewidth\":0,\"ticks\":\"\"}}}],\"carpet\":[{\"aaxis\":{\"endlinecolor\":\"#2a3f5f\",\"gridcolor\":\"white\",\"linecolor\":\"white\",\"minorgridcolor\":\"white\",\"startlinecolor\":\"#2a3f5f\"},\"baxis\":{\"endlinecolor\":\"#2a3f5f\",\"gridcolor\":\"white\",\"linecolor\":\"white\",\"minorgridcolor\":\"white\",\"startlinecolor\":\"#2a3f5f\"},\"type\":\"carpet\"}],\"table\":[{\"cells\":{\"fill\":{\"color\":\"#EBF0F8\"},\"line\":{\"color\":\"white\"}},\"header\":{\"fill\":{\"color\":\"#C8D4E3\"},\"line\":{\"color\":\"white\"}},\"type\":\"table\"}],\"barpolar\":[{\"marker\":{\"line\":{\"color\":\"#E5ECF6\",\"width\":0.5},\"pattern\":{\"fillmode\":\"overlay\",\"size\":10,\"solidity\":0.2}},\"type\":\"barpolar\"}],\"pie\":[{\"automargin\":true,\"type\":\"pie\"}]},\"layout\":{\"autotypenumbers\":\"strict\",\"colorway\":[\"#636efa\",\"#EF553B\",\"#00cc96\",\"#ab63fa\",\"#FFA15A\",\"#19d3f3\",\"#FF6692\",\"#B6E880\",\"#FF97FF\",\"#FECB52\"],\"font\":{\"color\":\"#2a3f5f\"},\"hovermode\":\"closest\",\"hoverlabel\":{\"align\":\"left\"},\"paper_bgcolor\":\"white\",\"plot_bgcolor\":\"#E5ECF6\",\"polar\":{\"bgcolor\":\"#E5ECF6\",\"angularaxis\":{\"gridcolor\":\"white\",\"linecolor\":\"white\",\"ticks\":\"\"},\"radialaxis\":{\"gridcolor\":\"white\",\"linecolor\":\"white\",\"ticks\":\"\"}},\"ternary\":{\"bgcolor\":\"#E5ECF6\",\"aaxis\":{\"gridcolor\":\"white\",\"linecolor\":\"white\",\"ticks\":\"\"},\"baxis\":{\"gridcolor\":\"white\",\"linecolor\":\"white\",\"ticks\":\"\"},\"caxis\":{\"gridcolor\":\"white\",\"linecolor\":\"white\",\"ticks\":\"\"}},\"coloraxis\":{\"colorbar\":{\"outlinewidth\":0,\"ticks\":\"\"}},\"colorscale\":{\"sequential\":[[0.0,\"#0d0887\"],[0.1111111111111111,\"#46039f\"],[0.2222222222222222,\"#7201a8\"],[0.3333333333333333,\"#9c179e\"],[0.4444444444444444,\"#bd3786\"],[0.5555555555555556,\"#d8576b\"],[0.6666666666666666,\"#ed7953\"],[0.7777777777777778,\"#fb9f3a\"],[0.8888888888888888,\"#fdca26\"],[1.0,\"#f0f921\"]],\"sequentialminus\":[[0.0,\"#0d0887\"],[0.1111111111111111,\"#46039f\"],[0.2222222222222222,\"#7201a8\"],[0.3333333333333333,\"#9c179e\"],[0.4444444444444444,\"#bd3786\"],[0.5555555555555556,\"#d8576b\"],[0.6666666666666666,\"#ed7953\"],[0.7777777777777778,\"#fb9f3a\"],[0.8888888888888888,\"#fdca26\"],[1.0,\"#f0f921\"]],\"diverging\":[[0,\"#8e0152\"],[0.1,\"#c51b7d\"],[0.2,\"#de77ae\"],[0.3,\"#f1b6da\"],[0.4,\"#fde0ef\"],[0.5,\"#f7f7f7\"],[0.6,\"#e6f5d0\"],[0.7,\"#b8e186\"],[0.8,\"#7fbc41\"],[0.9,\"#4d9221\"],[1,\"#276419\"]]},\"xaxis\":{\"gridcolor\":\"white\",\"linecolor\":\"white\",\"ticks\":\"\",\"title\":{\"standoff\":15},\"zerolinecolor\":\"white\",\"automargin\":true,\"zerolinewidth\":2},\"yaxis\":{\"gridcolor\":\"white\",\"linecolor\":\"white\",\"ticks\":\"\",\"title\":{\"standoff\":15},\"zerolinecolor\":\"white\",\"automargin\":true,\"zerolinewidth\":2},\"scene\":{\"xaxis\":{\"backgroundcolor\":\"#E5ECF6\",\"gridcolor\":\"white\",\"linecolor\":\"white\",\"showbackground\":true,\"ticks\":\"\",\"zerolinecolor\":\"white\",\"gridwidth\":2},\"yaxis\":{\"backgroundcolor\":\"#E5ECF6\",\"gridcolor\":\"white\",\"linecolor\":\"white\",\"showbackground\":true,\"ticks\":\"\",\"zerolinecolor\":\"white\",\"gridwidth\":2},\"zaxis\":{\"backgroundcolor\":\"#E5ECF6\",\"gridcolor\":\"white\",\"linecolor\":\"white\",\"showbackground\":true,\"ticks\":\"\",\"zerolinecolor\":\"white\",\"gridwidth\":2}},\"shapedefaults\":{\"line\":{\"color\":\"#2a3f5f\"}},\"annotationdefaults\":{\"arrowcolor\":\"#2a3f5f\",\"arrowhead\":0,\"arrowwidth\":1},\"geo\":{\"bgcolor\":\"white\",\"landcolor\":\"#E5ECF6\",\"subunitcolor\":\"white\",\"showland\":true,\"showlakes\":true,\"lakecolor\":\"white\"},\"title\":{\"x\":0.05},\"mapbox\":{\"style\":\"light\"}}},\"xaxis\":{\"anchor\":\"y\",\"domain\":[0.0,1.0],\"title\":{\"text\":\"estado_civil\"}},\"yaxis\":{\"anchor\":\"x\",\"domain\":[0.0,1.0],\"title\":{\"text\":\"count\"}},\"legend\":{\"title\":{\"text\":\"aderencia_investimento\"},\"tracegroupgap\":0},\"margin\":{\"t\":60},\"barmode\":\"group\"},                        {\"responsive\": true}                    ).then(function(){\n",
              "                            \n",
              "var gd = document.getElementById('1893d5d8-c906-449c-83f5-cc8f02d2c8ce');\n",
              "var x = new MutationObserver(function (mutations, observer) {{\n",
              "        var display = window.getComputedStyle(gd).display;\n",
              "        if (!display || display === 'none') {{\n",
              "            console.log([gd, 'removed!']);\n",
              "            Plotly.purge(gd);\n",
              "            observer.disconnect();\n",
              "        }}\n",
              "}});\n",
              "\n",
              "// Listen for the removal of the full notebook cells\n",
              "var notebookContainer = gd.closest('#notebook-container');\n",
              "if (notebookContainer) {{\n",
              "    x.observe(notebookContainer, {childList: true});\n",
              "}}\n",
              "\n",
              "// Listen for the clearing of the current output cell\n",
              "var outputEl = gd.closest('.output');\n",
              "if (outputEl) {{\n",
              "    x.observe(outputEl, {childList: true});\n",
              "}}\n",
              "\n",
              "                        })                };                            </script>        </div>\n",
              "</body>\n",
              "</html>"
            ]
          },
          "metadata": {}
        }
      ]
    },
    {
      "cell_type": "markdown",
      "source": [
        "✅ Note que foi agrupado as barras com base no estado civil e faz uma separação de cores com base na aderência, mostrando a contagem de cada um deles e permitindo entender como o estado civil influencia na aderência ao investimento.\n",
        "\n",
        "- É possível perceber que as pessoas casadas tendem a não aderir ao investimento. Já nas categorias de divorciado e solteiro, há um certo equilíbrio, pois os valores de adesão e não adesão estão próximos. Isso é interessante para avaliarmos se existe alguma diferença entre cada característica que possa influenciar na tomada de decisão."
      ],
      "metadata": {
        "id": "cF3pr6wukVpY"
      }
    },
    {
      "cell_type": "markdown",
      "source": [
        "▶ Copiei o codigo e apliquei  às outras colunas."
      ],
      "metadata": {
        "id": "l5Z9J8XGk3q-"
      }
    },
    {
      "cell_type": "code",
      "source": [
        "px.histogram(dados, x = 'escolaridade', text_auto = True, color = 'aderencia_investimento',  barmode = 'group')"
      ],
      "metadata": {
        "colab": {
          "base_uri": "https://localhost:8080/",
          "height": 542
        },
        "id": "fhPpRn75lEH-",
        "outputId": "4c2d71c3-ebcf-4a7b-bdab-5b9fb1c6d4d9"
      },
      "execution_count": 11,
      "outputs": [
        {
          "output_type": "display_data",
          "data": {
            "text/html": [
              "<html>\n",
              "<head><meta charset=\"utf-8\" /></head>\n",
              "<body>\n",
              "    <div>            <script src=\"https://cdnjs.cloudflare.com/ajax/libs/mathjax/2.7.5/MathJax.js?config=TeX-AMS-MML_SVG\"></script><script type=\"text/javascript\">if (window.MathJax && window.MathJax.Hub && window.MathJax.Hub.Config) {window.MathJax.Hub.Config({SVG: {font: \"STIX-Web\"}});}</script>                <script type=\"text/javascript\">window.PlotlyConfig = {MathJaxConfig: 'local'};</script>\n",
              "        <script charset=\"utf-8\" src=\"https://cdn.plot.ly/plotly-2.24.1.min.js\"></script>                <div id=\"8975f733-e087-40c5-b7b1-3436e95a352e\" class=\"plotly-graph-div\" style=\"height:525px; width:100%;\"></div>            <script type=\"text/javascript\">                                    window.PLOTLYENV=window.PLOTLYENV || {};                                    if (document.getElementById(\"8975f733-e087-40c5-b7b1-3436e95a352e\")) {                    Plotly.newPlot(                        \"8975f733-e087-40c5-b7b1-3436e95a352e\",                        [{\"alignmentgroup\":\"True\",\"bingroup\":\"x\",\"hovertemplate\":\"aderencia_investimento=sim\\u003cbr\\u003eescolaridade=%{x}\\u003cbr\\u003ecount=%{y}\\u003cextra\\u003e\\u003c\\u002fextra\\u003e\",\"legendgroup\":\"sim\",\"marker\":{\"color\":\"#636efa\",\"pattern\":{\"shape\":\"\"}},\"name\":\"sim\",\"offsetgroup\":\"sim\",\"orientation\":\"v\",\"showlegend\":true,\"texttemplate\":\"%{value}\",\"x\":[\"superior\",\"medio\",\"superior\",\"medio\",\"medio\",\"superior\",\"medio\",\"medio\",\"medio\",\"superior\",\"superior\",\"superior\",\"medio\",\"medio\",\"medio\",\"superior\",\"superior\",\"medio\",\"medio\",\"medio\",\"medio\",\"medio\",\"superior\",\"superior\",\"superior\",\"superior\",\"superior\",\"superior\",\"superior\",\"medio\",\"superior\",\"superior\",\"medio\",\"fundamental\",\"medio\",\"medio\",\"superior\",\"superior\",\"superior\",\"superior\",\"medio\",\"medio\",\"superior\",\"medio\",\"superior\",\"medio\",\"medio\",\"fundamental\",\"medio\",\"medio\",\"medio\",\"superior\",\"medio\",\"superior\",\"superior\",\"superior\",\"fundamental\",\"medio\",\"fundamental\",\"superior\",\"superior\",\"medio\",\"superior\",\"medio\",\"medio\",\"medio\",\"medio\",\"medio\",\"superior\",\"superior\",\"fundamental\",\"medio\",\"medio\",\"superior\",\"fundamental\",\"superior\",\"medio\",\"fundamental\",\"superior\",\"medio\",\"medio\",\"fundamental\",\"medio\",\"fundamental\",\"medio\",\"fundamental\",\"fundamental\",\"superior\",\"superior\",\"medio\",\"superior\",\"medio\",\"medio\",\"superior\",\"medio\",\"superior\",\"medio\",\"medio\",\"superior\",\"medio\",\"medio\",\"medio\",\"medio\",\"medio\",\"superior\",\"medio\",\"medio\",\"medio\",\"medio\",\"superior\",\"medio\",\"medio\",\"superior\",\"medio\",\"superior\",\"medio\",\"medio\",\"medio\",\"superior\",\"medio\",\"superior\",\"fundamental\",\"medio\",\"superior\",\"medio\",\"medio\",\"fundamental\",\"medio\",\"medio\",\"superior\",\"medio\",\"medio\",\"superior\",\"medio\",\"medio\",\"superior\",\"medio\",\"medio\",\"medio\",\"medio\",\"fundamental\",\"fundamental\",\"superior\",\"superior\",\"medio\",\"superior\",\"superior\",\"superior\",\"medio\",\"medio\",\"superior\",\"medio\",\"superior\",\"superior\",\"medio\",\"superior\",\"medio\",\"superior\",\"medio\",\"fundamental\",\"medio\",\"superior\",\"medio\",\"medio\",\"fundamental\",\"superior\",\"medio\",\"medio\",\"medio\",\"superior\",\"medio\",\"superior\",\"superior\",\"superior\",\"medio\",\"superior\",\"fundamental\",\"superior\",\"medio\",\"medio\",\"medio\",\"superior\",\"medio\",\"superior\",\"superior\",\"fundamental\",\"medio\",\"medio\",\"medio\",\"superior\",\"medio\",\"medio\",\"fundamental\",\"fundamental\",\"superior\",\"superior\",\"medio\",\"superior\",\"medio\",\"fundamental\",\"fundamental\",\"medio\",\"fundamental\",\"superior\",\"fundamental\",\"medio\",\"medio\",\"medio\",\"medio\",\"superior\",\"medio\",\"medio\",\"superior\",\"superior\",\"superior\",\"superior\",\"medio\",\"medio\",\"superior\",\"superior\",\"medio\",\"medio\",\"medio\",\"medio\",\"medio\",\"superior\",\"medio\",\"superior\",\"medio\",\"medio\",\"superior\",\"medio\",\"fundamental\",\"medio\",\"fundamental\",\"superior\",\"superior\",\"fundamental\",\"fundamental\",\"fundamental\",\"superior\",\"superior\",\"superior\",\"medio\",\"medio\",\"medio\",\"medio\",\"medio\",\"medio\",\"medio\",\"medio\",\"medio\",\"superior\",\"fundamental\",\"medio\",\"superior\",\"medio\",\"superior\",\"medio\",\"superior\",\"medio\",\"fundamental\",\"fundamental\",\"medio\",\"superior\",\"superior\",\"superior\",\"medio\",\"medio\",\"medio\",\"superior\",\"medio\",\"superior\",\"superior\",\"medio\",\"superior\",\"fundamental\",\"medio\",\"medio\",\"medio\",\"medio\",\"superior\",\"superior\",\"medio\",\"medio\",\"medio\",\"fundamental\",\"fundamental\",\"medio\",\"superior\",\"superior\",\"fundamental\",\"superior\",\"superior\",\"superior\",\"superior\",\"medio\",\"medio\",\"medio\",\"superior\",\"medio\",\"medio\",\"medio\",\"medio\",\"fundamental\",\"medio\",\"superior\",\"medio\",\"medio\",\"medio\",\"superior\",\"medio\",\"medio\",\"fundamental\",\"medio\",\"superior\",\"superior\",\"superior\",\"superior\",\"medio\",\"superior\",\"fundamental\",\"medio\",\"fundamental\",\"medio\",\"superior\",\"medio\",\"superior\",\"fundamental\",\"medio\",\"superior\",\"medio\",\"medio\",\"superior\",\"superior\",\"superior\",\"medio\",\"medio\",\"superior\",\"medio\",\"superior\",\"medio\",\"superior\",\"medio\",\"medio\",\"fundamental\",\"medio\",\"medio\",\"superior\",\"fundamental\",\"medio\",\"fundamental\",\"medio\",\"superior\",\"medio\",\"medio\",\"superior\",\"medio\",\"fundamental\",\"superior\",\"medio\",\"medio\",\"medio\",\"medio\",\"medio\",\"fundamental\",\"fundamental\",\"superior\",\"medio\",\"medio\",\"superior\",\"superior\",\"superior\",\"superior\",\"medio\",\"medio\",\"fundamental\",\"medio\",\"medio\",\"superior\",\"medio\",\"fundamental\",\"superior\",\"fundamental\",\"superior\",\"medio\",\"superior\",\"fundamental\",\"medio\",\"medio\",\"fundamental\",\"fundamental\",\"superior\",\"medio\",\"medio\",\"superior\",\"medio\",\"medio\",\"superior\",\"superior\",\"medio\",\"medio\",\"superior\",\"superior\",\"superior\",\"superior\",\"medio\",\"fundamental\",\"superior\",\"superior\",\"medio\",\"superior\",\"medio\",\"medio\",\"fundamental\",\"superior\",\"superior\",\"medio\",\"medio\",\"fundamental\",\"fundamental\",\"superior\",\"superior\",\"superior\",\"superior\",\"superior\",\"medio\",\"medio\",\"superior\",\"medio\",\"medio\",\"superior\",\"medio\",\"superior\",\"superior\",\"superior\",\"superior\",\"medio\",\"fundamental\",\"superior\",\"medio\",\"medio\",\"fundamental\",\"superior\",\"medio\",\"medio\",\"superior\",\"medio\",\"superior\",\"superior\",\"medio\",\"medio\",\"superior\",\"medio\",\"superior\",\"superior\",\"superior\",\"superior\",\"medio\",\"medio\",\"superior\",\"medio\",\"fundamental\",\"medio\",\"medio\",\"fundamental\",\"superior\",\"medio\",\"medio\",\"medio\",\"medio\",\"medio\",\"medio\",\"medio\",\"medio\",\"medio\",\"medio\",\"fundamental\",\"medio\",\"medio\",\"superior\",\"superior\",\"superior\",\"superior\",\"superior\",\"fundamental\",\"superior\",\"superior\",\"superior\",\"medio\",\"medio\",\"medio\",\"medio\",\"superior\",\"medio\",\"superior\",\"superior\",\"superior\",\"superior\",\"superior\",\"superior\",\"superior\"],\"xaxis\":\"x\",\"yaxis\":\"y\",\"type\":\"histogram\"},{\"alignmentgroup\":\"True\",\"bingroup\":\"x\",\"hovertemplate\":\"aderencia_investimento=nao\\u003cbr\\u003eescolaridade=%{x}\\u003cbr\\u003ecount=%{y}\\u003cextra\\u003e\\u003c\\u002fextra\\u003e\",\"legendgroup\":\"nao\",\"marker\":{\"color\":\"#EF553B\",\"pattern\":{\"shape\":\"\"}},\"name\":\"nao\",\"offsetgroup\":\"nao\",\"orientation\":\"v\",\"showlegend\":true,\"texttemplate\":\"%{value}\",\"x\":[\"superior\",\"superior\",\"medio\",\"fundamental\",\"medio\",\"fundamental\",\"superior\",\"superior\",\"fundamental\",\"medio\",\"medio\",\"medio\",\"medio\",\"medio\",\"medio\",\"fundamental\",\"medio\",\"medio\",\"medio\",\"medio\",\"medio\",\"superior\",\"medio\",\"medio\",\"fundamental\",\"superior\",\"superior\",\"superior\",\"superior\",\"superior\",\"superior\",\"medio\",\"superior\",\"medio\",\"medio\",\"fundamental\",\"superior\",\"medio\",\"medio\",\"superior\",\"medio\",\"fundamental\",\"fundamental\",\"superior\",\"superior\",\"medio\",\"superior\",\"medio\",\"fundamental\",\"medio\",\"superior\",\"superior\",\"medio\",\"superior\",\"medio\",\"medio\",\"fundamental\",\"fundamental\",\"medio\",\"superior\",\"medio\",\"fundamental\",\"superior\",\"medio\",\"medio\",\"medio\",\"medio\",\"superior\",\"superior\",\"superior\",\"superior\",\"fundamental\",\"superior\",\"medio\",\"medio\",\"medio\",\"fundamental\",\"medio\",\"fundamental\",\"medio\",\"superior\",\"medio\",\"medio\",\"superior\",\"medio\",\"medio\",\"fundamental\",\"medio\",\"medio\",\"superior\",\"medio\",\"medio\",\"medio\",\"medio\",\"superior\",\"medio\",\"medio\",\"medio\",\"superior\",\"medio\",\"medio\",\"superior\",\"medio\",\"medio\",\"superior\",\"medio\",\"medio\",\"superior\",\"medio\",\"medio\",\"fundamental\",\"superior\",\"medio\",\"medio\",\"medio\",\"medio\",\"medio\",\"fundamental\",\"medio\",\"superior\",\"medio\",\"medio\",\"medio\",\"superior\",\"medio\",\"medio\",\"superior\",\"fundamental\",\"medio\",\"medio\",\"medio\",\"medio\",\"medio\",\"medio\",\"medio\",\"medio\",\"superior\",\"medio\",\"medio\",\"fundamental\",\"medio\",\"medio\",\"superior\",\"superior\",\"superior\",\"medio\",\"medio\",\"medio\",\"superior\",\"fundamental\",\"superior\",\"fundamental\",\"medio\",\"medio\",\"medio\",\"medio\",\"fundamental\",\"medio\",\"medio\",\"fundamental\",\"superior\",\"fundamental\",\"fundamental\",\"superior\",\"medio\",\"fundamental\",\"medio\",\"medio\",\"superior\",\"medio\",\"fundamental\",\"superior\",\"superior\",\"medio\",\"superior\",\"medio\",\"medio\",\"fundamental\",\"medio\",\"fundamental\",\"medio\",\"superior\",\"superior\",\"medio\",\"medio\",\"superior\",\"medio\",\"superior\",\"medio\",\"superior\",\"superior\",\"medio\",\"medio\",\"superior\",\"superior\",\"fundamental\",\"medio\",\"superior\",\"medio\",\"medio\",\"fundamental\",\"fundamental\",\"medio\",\"medio\",\"medio\",\"fundamental\",\"medio\",\"medio\",\"superior\",\"superior\",\"fundamental\",\"medio\",\"medio\",\"medio\",\"superior\",\"fundamental\",\"superior\",\"superior\",\"medio\",\"superior\",\"superior\",\"superior\",\"medio\",\"medio\",\"fundamental\",\"superior\",\"medio\",\"medio\",\"fundamental\",\"medio\",\"fundamental\",\"superior\",\"medio\",\"medio\",\"medio\",\"medio\",\"medio\",\"medio\",\"medio\",\"medio\",\"medio\",\"medio\",\"medio\",\"medio\",\"medio\",\"superior\",\"fundamental\",\"fundamental\",\"superior\",\"medio\",\"medio\",\"superior\",\"medio\",\"fundamental\",\"superior\",\"fundamental\",\"superior\",\"medio\",\"superior\",\"fundamental\",\"medio\",\"medio\",\"fundamental\",\"superior\",\"medio\",\"medio\",\"fundamental\",\"superior\",\"medio\",\"superior\",\"medio\",\"medio\",\"medio\",\"medio\",\"superior\",\"medio\",\"medio\",\"fundamental\",\"superior\",\"medio\",\"superior\",\"medio\",\"medio\",\"superior\",\"superior\",\"superior\",\"superior\",\"superior\",\"medio\",\"medio\",\"medio\",\"medio\",\"medio\",\"medio\",\"medio\",\"medio\",\"fundamental\",\"fundamental\",\"medio\",\"medio\",\"superior\",\"medio\",\"superior\",\"medio\",\"medio\",\"superior\",\"superior\",\"medio\",\"medio\",\"medio\",\"medio\",\"medio\",\"medio\",\"medio\",\"superior\",\"medio\",\"superior\",\"fundamental\",\"medio\",\"medio\",\"medio\",\"medio\",\"medio\",\"superior\",\"medio\",\"medio\",\"medio\",\"superior\",\"fundamental\",\"superior\",\"medio\",\"superior\",\"superior\",\"medio\",\"superior\",\"superior\",\"superior\",\"medio\",\"medio\",\"fundamental\",\"medio\",\"fundamental\",\"medio\",\"fundamental\",\"medio\",\"medio\",\"fundamental\",\"fundamental\",\"medio\",\"superior\",\"medio\",\"medio\",\"superior\",\"medio\",\"medio\",\"fundamental\",\"fundamental\",\"fundamental\",\"medio\",\"medio\",\"superior\",\"medio\",\"fundamental\",\"superior\",\"medio\",\"fundamental\",\"fundamental\",\"superior\",\"fundamental\",\"medio\",\"medio\",\"medio\",\"medio\",\"fundamental\",\"medio\",\"medio\",\"medio\",\"fundamental\",\"medio\",\"superior\",\"medio\",\"medio\",\"medio\",\"medio\",\"medio\",\"medio\",\"superior\",\"medio\",\"medio\",\"medio\",\"superior\",\"medio\",\"medio\",\"medio\",\"fundamental\",\"superior\",\"superior\",\"superior\",\"medio\",\"superior\",\"fundamental\",\"medio\",\"medio\",\"superior\",\"superior\",\"medio\",\"superior\",\"superior\",\"medio\",\"medio\",\"fundamental\",\"medio\",\"medio\",\"fundamental\",\"medio\",\"medio\",\"superior\",\"fundamental\",\"fundamental\",\"superior\",\"medio\",\"medio\",\"medio\",\"superior\",\"medio\",\"superior\",\"medio\",\"superior\",\"fundamental\",\"medio\",\"superior\",\"medio\",\"fundamental\",\"medio\",\"superior\",\"superior\",\"medio\",\"medio\",\"superior\",\"fundamental\",\"medio\",\"medio\",\"superior\",\"fundamental\",\"medio\",\"superior\",\"medio\",\"superior\",\"superior\",\"superior\",\"superior\",\"fundamental\",\"medio\",\"superior\",\"medio\",\"medio\",\"superior\",\"medio\",\"superior\",\"superior\",\"superior\",\"superior\",\"medio\",\"fundamental\",\"medio\",\"medio\",\"superior\",\"fundamental\",\"superior\",\"medio\",\"medio\",\"medio\",\"medio\",\"medio\",\"medio\",\"medio\",\"medio\",\"medio\",\"fundamental\",\"fundamental\",\"medio\",\"medio\",\"superior\",\"medio\",\"fundamental\",\"medio\",\"fundamental\",\"superior\",\"medio\",\"medio\",\"medio\",\"medio\",\"medio\",\"superior\",\"fundamental\",\"medio\",\"medio\",\"medio\",\"medio\",\"medio\",\"medio\",\"superior\",\"superior\",\"medio\",\"medio\",\"superior\",\"superior\",\"medio\",\"medio\",\"medio\",\"medio\",\"medio\",\"medio\",\"fundamental\",\"superior\",\"superior\",\"superior\",\"superior\",\"medio\",\"fundamental\",\"fundamental\",\"medio\",\"medio\",\"fundamental\",\"medio\",\"medio\",\"superior\",\"medio\",\"medio\",\"medio\",\"superior\",\"superior\",\"superior\",\"medio\",\"medio\",\"medio\",\"medio\",\"fundamental\",\"medio\",\"superior\",\"superior\",\"superior\",\"medio\",\"medio\",\"superior\",\"superior\",\"superior\",\"medio\",\"medio\",\"superior\",\"superior\",\"medio\",\"medio\",\"medio\",\"fundamental\",\"fundamental\",\"fundamental\",\"medio\",\"medio\",\"medio\",\"medio\",\"medio\",\"medio\",\"superior\",\"medio\",\"superior\",\"fundamental\",\"medio\",\"medio\",\"fundamental\",\"fundamental\",\"fundamental\",\"medio\",\"medio\",\"medio\",\"superior\",\"fundamental\",\"superior\",\"medio\",\"medio\",\"superior\",\"fundamental\",\"superior\",\"fundamental\",\"medio\",\"fundamental\",\"superior\",\"fundamental\",\"superior\",\"superior\",\"medio\",\"superior\",\"medio\",\"medio\",\"superior\",\"medio\",\"medio\",\"superior\",\"medio\",\"superior\",\"fundamental\",\"superior\",\"medio\",\"fundamental\",\"superior\",\"superior\",\"medio\",\"fundamental\",\"fundamental\",\"fundamental\",\"medio\",\"medio\",\"medio\",\"fundamental\",\"superior\",\"medio\",\"medio\",\"medio\",\"medio\",\"medio\",\"medio\",\"medio\",\"medio\",\"superior\",\"superior\",\"medio\",\"superior\",\"medio\",\"superior\",\"medio\",\"medio\",\"medio\",\"superior\",\"medio\",\"medio\",\"superior\",\"fundamental\",\"medio\",\"medio\",\"superior\",\"medio\",\"medio\",\"medio\",\"superior\",\"medio\",\"medio\",\"fundamental\",\"fundamental\",\"fundamental\",\"superior\",\"medio\",\"medio\",\"superior\",\"superior\",\"fundamental\",\"medio\",\"medio\",\"medio\",\"medio\",\"medio\",\"medio\",\"fundamental\",\"fundamental\",\"superior\",\"medio\",\"medio\",\"medio\",\"superior\",\"superior\",\"medio\",\"superior\",\"fundamental\",\"superior\",\"superior\",\"medio\",\"medio\",\"medio\",\"fundamental\",\"medio\",\"medio\",\"medio\",\"fundamental\",\"superior\",\"superior\",\"medio\",\"medio\",\"medio\",\"medio\",\"superior\",\"medio\",\"superior\",\"superior\",\"medio\",\"medio\",\"medio\",\"superior\",\"fundamental\",\"medio\",\"medio\",\"fundamental\",\"medio\",\"medio\",\"fundamental\",\"superior\",\"medio\",\"medio\",\"superior\",\"medio\",\"fundamental\",\"superior\",\"medio\",\"fundamental\",\"superior\",\"superior\",\"medio\",\"superior\",\"fundamental\",\"superior\",\"medio\",\"fundamental\",\"medio\",\"medio\",\"superior\",\"fundamental\",\"medio\",\"medio\",\"medio\",\"medio\",\"medio\",\"medio\",\"fundamental\",\"medio\",\"medio\",\"medio\",\"medio\",\"medio\",\"superior\",\"medio\",\"medio\",\"superior\",\"superior\",\"medio\",\"superior\",\"fundamental\",\"superior\",\"fundamental\",\"superior\",\"medio\",\"medio\",\"medio\",\"medio\",\"medio\",\"fundamental\",\"medio\",\"medio\",\"fundamental\",\"medio\",\"superior\",\"superior\",\"superior\",\"medio\",\"medio\",\"medio\",\"medio\",\"medio\",\"medio\"],\"xaxis\":\"x\",\"yaxis\":\"y\",\"type\":\"histogram\"}],                        {\"template\":{\"data\":{\"histogram2dcontour\":[{\"type\":\"histogram2dcontour\",\"colorbar\":{\"outlinewidth\":0,\"ticks\":\"\"},\"colorscale\":[[0.0,\"#0d0887\"],[0.1111111111111111,\"#46039f\"],[0.2222222222222222,\"#7201a8\"],[0.3333333333333333,\"#9c179e\"],[0.4444444444444444,\"#bd3786\"],[0.5555555555555556,\"#d8576b\"],[0.6666666666666666,\"#ed7953\"],[0.7777777777777778,\"#fb9f3a\"],[0.8888888888888888,\"#fdca26\"],[1.0,\"#f0f921\"]]}],\"choropleth\":[{\"type\":\"choropleth\",\"colorbar\":{\"outlinewidth\":0,\"ticks\":\"\"}}],\"histogram2d\":[{\"type\":\"histogram2d\",\"colorbar\":{\"outlinewidth\":0,\"ticks\":\"\"},\"colorscale\":[[0.0,\"#0d0887\"],[0.1111111111111111,\"#46039f\"],[0.2222222222222222,\"#7201a8\"],[0.3333333333333333,\"#9c179e\"],[0.4444444444444444,\"#bd3786\"],[0.5555555555555556,\"#d8576b\"],[0.6666666666666666,\"#ed7953\"],[0.7777777777777778,\"#fb9f3a\"],[0.8888888888888888,\"#fdca26\"],[1.0,\"#f0f921\"]]}],\"heatmap\":[{\"type\":\"heatmap\",\"colorbar\":{\"outlinewidth\":0,\"ticks\":\"\"},\"colorscale\":[[0.0,\"#0d0887\"],[0.1111111111111111,\"#46039f\"],[0.2222222222222222,\"#7201a8\"],[0.3333333333333333,\"#9c179e\"],[0.4444444444444444,\"#bd3786\"],[0.5555555555555556,\"#d8576b\"],[0.6666666666666666,\"#ed7953\"],[0.7777777777777778,\"#fb9f3a\"],[0.8888888888888888,\"#fdca26\"],[1.0,\"#f0f921\"]]}],\"heatmapgl\":[{\"type\":\"heatmapgl\",\"colorbar\":{\"outlinewidth\":0,\"ticks\":\"\"},\"colorscale\":[[0.0,\"#0d0887\"],[0.1111111111111111,\"#46039f\"],[0.2222222222222222,\"#7201a8\"],[0.3333333333333333,\"#9c179e\"],[0.4444444444444444,\"#bd3786\"],[0.5555555555555556,\"#d8576b\"],[0.6666666666666666,\"#ed7953\"],[0.7777777777777778,\"#fb9f3a\"],[0.8888888888888888,\"#fdca26\"],[1.0,\"#f0f921\"]]}],\"contourcarpet\":[{\"type\":\"contourcarpet\",\"colorbar\":{\"outlinewidth\":0,\"ticks\":\"\"}}],\"contour\":[{\"type\":\"contour\",\"colorbar\":{\"outlinewidth\":0,\"ticks\":\"\"},\"colorscale\":[[0.0,\"#0d0887\"],[0.1111111111111111,\"#46039f\"],[0.2222222222222222,\"#7201a8\"],[0.3333333333333333,\"#9c179e\"],[0.4444444444444444,\"#bd3786\"],[0.5555555555555556,\"#d8576b\"],[0.6666666666666666,\"#ed7953\"],[0.7777777777777778,\"#fb9f3a\"],[0.8888888888888888,\"#fdca26\"],[1.0,\"#f0f921\"]]}],\"surface\":[{\"type\":\"surface\",\"colorbar\":{\"outlinewidth\":0,\"ticks\":\"\"},\"colorscale\":[[0.0,\"#0d0887\"],[0.1111111111111111,\"#46039f\"],[0.2222222222222222,\"#7201a8\"],[0.3333333333333333,\"#9c179e\"],[0.4444444444444444,\"#bd3786\"],[0.5555555555555556,\"#d8576b\"],[0.6666666666666666,\"#ed7953\"],[0.7777777777777778,\"#fb9f3a\"],[0.8888888888888888,\"#fdca26\"],[1.0,\"#f0f921\"]]}],\"mesh3d\":[{\"type\":\"mesh3d\",\"colorbar\":{\"outlinewidth\":0,\"ticks\":\"\"}}],\"scatter\":[{\"fillpattern\":{\"fillmode\":\"overlay\",\"size\":10,\"solidity\":0.2},\"type\":\"scatter\"}],\"parcoords\":[{\"type\":\"parcoords\",\"line\":{\"colorbar\":{\"outlinewidth\":0,\"ticks\":\"\"}}}],\"scatterpolargl\":[{\"type\":\"scatterpolargl\",\"marker\":{\"colorbar\":{\"outlinewidth\":0,\"ticks\":\"\"}}}],\"bar\":[{\"error_x\":{\"color\":\"#2a3f5f\"},\"error_y\":{\"color\":\"#2a3f5f\"},\"marker\":{\"line\":{\"color\":\"#E5ECF6\",\"width\":0.5},\"pattern\":{\"fillmode\":\"overlay\",\"size\":10,\"solidity\":0.2}},\"type\":\"bar\"}],\"scattergeo\":[{\"type\":\"scattergeo\",\"marker\":{\"colorbar\":{\"outlinewidth\":0,\"ticks\":\"\"}}}],\"scatterpolar\":[{\"type\":\"scatterpolar\",\"marker\":{\"colorbar\":{\"outlinewidth\":0,\"ticks\":\"\"}}}],\"histogram\":[{\"marker\":{\"pattern\":{\"fillmode\":\"overlay\",\"size\":10,\"solidity\":0.2}},\"type\":\"histogram\"}],\"scattergl\":[{\"type\":\"scattergl\",\"marker\":{\"colorbar\":{\"outlinewidth\":0,\"ticks\":\"\"}}}],\"scatter3d\":[{\"type\":\"scatter3d\",\"line\":{\"colorbar\":{\"outlinewidth\":0,\"ticks\":\"\"}},\"marker\":{\"colorbar\":{\"outlinewidth\":0,\"ticks\":\"\"}}}],\"scattermapbox\":[{\"type\":\"scattermapbox\",\"marker\":{\"colorbar\":{\"outlinewidth\":0,\"ticks\":\"\"}}}],\"scatterternary\":[{\"type\":\"scatterternary\",\"marker\":{\"colorbar\":{\"outlinewidth\":0,\"ticks\":\"\"}}}],\"scattercarpet\":[{\"type\":\"scattercarpet\",\"marker\":{\"colorbar\":{\"outlinewidth\":0,\"ticks\":\"\"}}}],\"carpet\":[{\"aaxis\":{\"endlinecolor\":\"#2a3f5f\",\"gridcolor\":\"white\",\"linecolor\":\"white\",\"minorgridcolor\":\"white\",\"startlinecolor\":\"#2a3f5f\"},\"baxis\":{\"endlinecolor\":\"#2a3f5f\",\"gridcolor\":\"white\",\"linecolor\":\"white\",\"minorgridcolor\":\"white\",\"startlinecolor\":\"#2a3f5f\"},\"type\":\"carpet\"}],\"table\":[{\"cells\":{\"fill\":{\"color\":\"#EBF0F8\"},\"line\":{\"color\":\"white\"}},\"header\":{\"fill\":{\"color\":\"#C8D4E3\"},\"line\":{\"color\":\"white\"}},\"type\":\"table\"}],\"barpolar\":[{\"marker\":{\"line\":{\"color\":\"#E5ECF6\",\"width\":0.5},\"pattern\":{\"fillmode\":\"overlay\",\"size\":10,\"solidity\":0.2}},\"type\":\"barpolar\"}],\"pie\":[{\"automargin\":true,\"type\":\"pie\"}]},\"layout\":{\"autotypenumbers\":\"strict\",\"colorway\":[\"#636efa\",\"#EF553B\",\"#00cc96\",\"#ab63fa\",\"#FFA15A\",\"#19d3f3\",\"#FF6692\",\"#B6E880\",\"#FF97FF\",\"#FECB52\"],\"font\":{\"color\":\"#2a3f5f\"},\"hovermode\":\"closest\",\"hoverlabel\":{\"align\":\"left\"},\"paper_bgcolor\":\"white\",\"plot_bgcolor\":\"#E5ECF6\",\"polar\":{\"bgcolor\":\"#E5ECF6\",\"angularaxis\":{\"gridcolor\":\"white\",\"linecolor\":\"white\",\"ticks\":\"\"},\"radialaxis\":{\"gridcolor\":\"white\",\"linecolor\":\"white\",\"ticks\":\"\"}},\"ternary\":{\"bgcolor\":\"#E5ECF6\",\"aaxis\":{\"gridcolor\":\"white\",\"linecolor\":\"white\",\"ticks\":\"\"},\"baxis\":{\"gridcolor\":\"white\",\"linecolor\":\"white\",\"ticks\":\"\"},\"caxis\":{\"gridcolor\":\"white\",\"linecolor\":\"white\",\"ticks\":\"\"}},\"coloraxis\":{\"colorbar\":{\"outlinewidth\":0,\"ticks\":\"\"}},\"colorscale\":{\"sequential\":[[0.0,\"#0d0887\"],[0.1111111111111111,\"#46039f\"],[0.2222222222222222,\"#7201a8\"],[0.3333333333333333,\"#9c179e\"],[0.4444444444444444,\"#bd3786\"],[0.5555555555555556,\"#d8576b\"],[0.6666666666666666,\"#ed7953\"],[0.7777777777777778,\"#fb9f3a\"],[0.8888888888888888,\"#fdca26\"],[1.0,\"#f0f921\"]],\"sequentialminus\":[[0.0,\"#0d0887\"],[0.1111111111111111,\"#46039f\"],[0.2222222222222222,\"#7201a8\"],[0.3333333333333333,\"#9c179e\"],[0.4444444444444444,\"#bd3786\"],[0.5555555555555556,\"#d8576b\"],[0.6666666666666666,\"#ed7953\"],[0.7777777777777778,\"#fb9f3a\"],[0.8888888888888888,\"#fdca26\"],[1.0,\"#f0f921\"]],\"diverging\":[[0,\"#8e0152\"],[0.1,\"#c51b7d\"],[0.2,\"#de77ae\"],[0.3,\"#f1b6da\"],[0.4,\"#fde0ef\"],[0.5,\"#f7f7f7\"],[0.6,\"#e6f5d0\"],[0.7,\"#b8e186\"],[0.8,\"#7fbc41\"],[0.9,\"#4d9221\"],[1,\"#276419\"]]},\"xaxis\":{\"gridcolor\":\"white\",\"linecolor\":\"white\",\"ticks\":\"\",\"title\":{\"standoff\":15},\"zerolinecolor\":\"white\",\"automargin\":true,\"zerolinewidth\":2},\"yaxis\":{\"gridcolor\":\"white\",\"linecolor\":\"white\",\"ticks\":\"\",\"title\":{\"standoff\":15},\"zerolinecolor\":\"white\",\"automargin\":true,\"zerolinewidth\":2},\"scene\":{\"xaxis\":{\"backgroundcolor\":\"#E5ECF6\",\"gridcolor\":\"white\",\"linecolor\":\"white\",\"showbackground\":true,\"ticks\":\"\",\"zerolinecolor\":\"white\",\"gridwidth\":2},\"yaxis\":{\"backgroundcolor\":\"#E5ECF6\",\"gridcolor\":\"white\",\"linecolor\":\"white\",\"showbackground\":true,\"ticks\":\"\",\"zerolinecolor\":\"white\",\"gridwidth\":2},\"zaxis\":{\"backgroundcolor\":\"#E5ECF6\",\"gridcolor\":\"white\",\"linecolor\":\"white\",\"showbackground\":true,\"ticks\":\"\",\"zerolinecolor\":\"white\",\"gridwidth\":2}},\"shapedefaults\":{\"line\":{\"color\":\"#2a3f5f\"}},\"annotationdefaults\":{\"arrowcolor\":\"#2a3f5f\",\"arrowhead\":0,\"arrowwidth\":1},\"geo\":{\"bgcolor\":\"white\",\"landcolor\":\"#E5ECF6\",\"subunitcolor\":\"white\",\"showland\":true,\"showlakes\":true,\"lakecolor\":\"white\"},\"title\":{\"x\":0.05},\"mapbox\":{\"style\":\"light\"}}},\"xaxis\":{\"anchor\":\"y\",\"domain\":[0.0,1.0],\"title\":{\"text\":\"escolaridade\"}},\"yaxis\":{\"anchor\":\"x\",\"domain\":[0.0,1.0],\"title\":{\"text\":\"count\"}},\"legend\":{\"title\":{\"text\":\"aderencia_investimento\"},\"tracegroupgap\":0},\"margin\":{\"t\":60},\"barmode\":\"group\"},                        {\"responsive\": true}                    ).then(function(){\n",
              "                            \n",
              "var gd = document.getElementById('8975f733-e087-40c5-b7b1-3436e95a352e');\n",
              "var x = new MutationObserver(function (mutations, observer) {{\n",
              "        var display = window.getComputedStyle(gd).display;\n",
              "        if (!display || display === 'none') {{\n",
              "            console.log([gd, 'removed!']);\n",
              "            Plotly.purge(gd);\n",
              "            observer.disconnect();\n",
              "        }}\n",
              "}});\n",
              "\n",
              "// Listen for the removal of the full notebook cells\n",
              "var notebookContainer = gd.closest('#notebook-container');\n",
              "if (notebookContainer) {{\n",
              "    x.observe(notebookContainer, {childList: true});\n",
              "}}\n",
              "\n",
              "// Listen for the clearing of the current output cell\n",
              "var outputEl = gd.closest('.output');\n",
              "if (outputEl) {{\n",
              "    x.observe(outputEl, {childList: true});\n",
              "}}\n",
              "\n",
              "                        })                };                            </script>        </div>\n",
              "</body>\n",
              "</html>"
            ]
          },
          "metadata": {}
        }
      ]
    },
    {
      "cell_type": "markdown",
      "source": [
        "✅ Podemos visualizar os diferentes níveis de escolaridade na base de dados: Superior, médio e fundamental.\n",
        "\n",
        "- Observando a escolaridade superior, pude analisar que não há uma grande diferença que defina se a pessoa aderirá ou não ao investimento. No entanto, no ensino médio e fundamental, existe um grande desequilíbrio e uma variação muito maior entre as quantidades de cada categoria.\n",
        "\n",
        "- É um indivativo de que essas informações são importantes para chegar ao resultado esperado de **aderência ao investimento**.\n"
      ],
      "metadata": {
        "id": "XvLHw1H8lfGu"
      }
    },
    {
      "cell_type": "code",
      "source": [
        "px.histogram(dados, x = 'inadimplencia', text_auto = True, color = 'aderencia_investimento', barmode = 'group')\n"
      ],
      "metadata": {
        "colab": {
          "base_uri": "https://localhost:8080/",
          "height": 542
        },
        "id": "1PKFmJVKlmlZ",
        "outputId": "5eaa603b-0669-4d6c-f1df-1ddb5aa61ec2"
      },
      "execution_count": 12,
      "outputs": [
        {
          "output_type": "display_data",
          "data": {
            "text/html": [
              "<html>\n",
              "<head><meta charset=\"utf-8\" /></head>\n",
              "<body>\n",
              "    <div>            <script src=\"https://cdnjs.cloudflare.com/ajax/libs/mathjax/2.7.5/MathJax.js?config=TeX-AMS-MML_SVG\"></script><script type=\"text/javascript\">if (window.MathJax && window.MathJax.Hub && window.MathJax.Hub.Config) {window.MathJax.Hub.Config({SVG: {font: \"STIX-Web\"}});}</script>                <script type=\"text/javascript\">window.PlotlyConfig = {MathJaxConfig: 'local'};</script>\n",
              "        <script charset=\"utf-8\" src=\"https://cdn.plot.ly/plotly-2.24.1.min.js\"></script>                <div id=\"82024af8-16b8-44cf-88f2-0bf52773ae45\" class=\"plotly-graph-div\" style=\"height:525px; width:100%;\"></div>            <script type=\"text/javascript\">                                    window.PLOTLYENV=window.PLOTLYENV || {};                                    if (document.getElementById(\"82024af8-16b8-44cf-88f2-0bf52773ae45\")) {                    Plotly.newPlot(                        \"82024af8-16b8-44cf-88f2-0bf52773ae45\",                        [{\"alignmentgroup\":\"True\",\"bingroup\":\"x\",\"hovertemplate\":\"aderencia_investimento=sim\\u003cbr\\u003einadimplencia=%{x}\\u003cbr\\u003ecount=%{y}\\u003cextra\\u003e\\u003c\\u002fextra\\u003e\",\"legendgroup\":\"sim\",\"marker\":{\"color\":\"#636efa\",\"pattern\":{\"shape\":\"\"}},\"name\":\"sim\",\"offsetgroup\":\"sim\",\"orientation\":\"v\",\"showlegend\":true,\"texttemplate\":\"%{value}\",\"x\":[\"nao\",\"nao\",\"nao\",\"nao\",\"nao\",\"nao\",\"nao\",\"nao\",\"nao\",\"nao\",\"nao\",\"nao\",\"nao\",\"nao\",\"nao\",\"nao\",\"nao\",\"nao\",\"nao\",\"nao\",\"nao\",\"nao\",\"nao\",\"nao\",\"nao\",\"nao\",\"nao\",\"nao\",\"nao\",\"nao\",\"nao\",\"nao\",\"nao\",\"nao\",\"nao\",\"nao\",\"nao\",\"nao\",\"nao\",\"nao\",\"nao\",\"nao\",\"nao\",\"nao\",\"nao\",\"sim\",\"nao\",\"nao\",\"nao\",\"nao\",\"nao\",\"nao\",\"nao\",\"nao\",\"nao\",\"nao\",\"nao\",\"nao\",\"nao\",\"nao\",\"nao\",\"nao\",\"nao\",\"nao\",\"nao\",\"nao\",\"nao\",\"nao\",\"nao\",\"nao\",\"nao\",\"nao\",\"nao\",\"nao\",\"nao\",\"nao\",\"nao\",\"nao\",\"nao\",\"nao\",\"nao\",\"nao\",\"nao\",\"nao\",\"nao\",\"nao\",\"nao\",\"nao\",\"nao\",\"nao\",\"nao\",\"nao\",\"nao\",\"nao\",\"nao\",\"nao\",\"nao\",\"nao\",\"nao\",\"nao\",\"nao\",\"nao\",\"nao\",\"nao\",\"nao\",\"nao\",\"nao\",\"nao\",\"nao\",\"nao\",\"nao\",\"nao\",\"nao\",\"nao\",\"nao\",\"nao\",\"nao\",\"nao\",\"nao\",\"nao\",\"nao\",\"nao\",\"nao\",\"nao\",\"nao\",\"nao\",\"nao\",\"nao\",\"nao\",\"nao\",\"nao\",\"nao\",\"nao\",\"nao\",\"nao\",\"nao\",\"nao\",\"nao\",\"nao\",\"nao\",\"nao\",\"nao\",\"nao\",\"nao\",\"nao\",\"nao\",\"nao\",\"nao\",\"nao\",\"nao\",\"nao\",\"nao\",\"nao\",\"nao\",\"nao\",\"nao\",\"nao\",\"nao\",\"sim\",\"nao\",\"nao\",\"nao\",\"nao\",\"nao\",\"nao\",\"nao\",\"nao\",\"nao\",\"sim\",\"nao\",\"nao\",\"nao\",\"nao\",\"nao\",\"nao\",\"nao\",\"nao\",\"nao\",\"nao\",\"nao\",\"nao\",\"nao\",\"nao\",\"nao\",\"nao\",\"nao\",\"nao\",\"nao\",\"nao\",\"nao\",\"nao\",\"nao\",\"nao\",\"nao\",\"nao\",\"nao\",\"nao\",\"nao\",\"nao\",\"nao\",\"nao\",\"nao\",\"nao\",\"nao\",\"nao\",\"nao\",\"nao\",\"nao\",\"nao\",\"nao\",\"sim\",\"nao\",\"nao\",\"nao\",\"nao\",\"nao\",\"nao\",\"nao\",\"nao\",\"nao\",\"nao\",\"nao\",\"nao\",\"nao\",\"nao\",\"nao\",\"nao\",\"nao\",\"nao\",\"nao\",\"nao\",\"nao\",\"nao\",\"nao\",\"nao\",\"nao\",\"nao\",\"nao\",\"nao\",\"nao\",\"nao\",\"nao\",\"nao\",\"nao\",\"nao\",\"nao\",\"nao\",\"nao\",\"nao\",\"nao\",\"nao\",\"nao\",\"nao\",\"nao\",\"nao\",\"nao\",\"nao\",\"nao\",\"nao\",\"nao\",\"nao\",\"nao\",\"nao\",\"nao\",\"nao\",\"nao\",\"nao\",\"nao\",\"nao\",\"nao\",\"nao\",\"nao\",\"nao\",\"nao\",\"nao\",\"nao\",\"nao\",\"nao\",\"nao\",\"nao\",\"nao\",\"nao\",\"nao\",\"nao\",\"nao\",\"nao\",\"nao\",\"nao\",\"nao\",\"nao\",\"nao\",\"nao\",\"nao\",\"nao\",\"nao\",\"nao\",\"nao\",\"nao\",\"nao\",\"nao\",\"nao\",\"nao\",\"nao\",\"nao\",\"nao\",\"nao\",\"nao\",\"nao\",\"nao\",\"nao\",\"nao\",\"nao\",\"nao\",\"nao\",\"nao\",\"nao\",\"nao\",\"nao\",\"nao\",\"nao\",\"nao\",\"nao\",\"nao\",\"nao\",\"nao\",\"nao\",\"nao\",\"nao\",\"nao\",\"nao\",\"nao\",\"nao\",\"nao\",\"nao\",\"nao\",\"nao\",\"nao\",\"nao\",\"nao\",\"nao\",\"nao\",\"nao\",\"nao\",\"nao\",\"nao\",\"nao\",\"nao\",\"nao\",\"nao\",\"nao\",\"nao\",\"nao\",\"nao\",\"nao\",\"nao\",\"nao\",\"nao\",\"nao\",\"nao\",\"nao\",\"nao\",\"nao\",\"nao\",\"nao\",\"nao\",\"nao\",\"nao\",\"nao\",\"nao\",\"nao\",\"nao\",\"nao\",\"nao\",\"nao\",\"nao\",\"nao\",\"nao\",\"nao\",\"nao\",\"nao\",\"nao\",\"nao\",\"nao\",\"nao\",\"nao\",\"nao\",\"nao\",\"sim\",\"nao\",\"nao\",\"nao\",\"nao\",\"nao\",\"nao\",\"nao\",\"nao\",\"nao\",\"nao\",\"nao\",\"nao\",\"nao\",\"sim\",\"nao\",\"nao\",\"nao\",\"nao\",\"nao\",\"nao\",\"nao\",\"nao\",\"nao\",\"nao\",\"nao\",\"nao\",\"nao\",\"nao\",\"nao\",\"nao\",\"nao\",\"nao\",\"nao\",\"nao\",\"nao\",\"nao\",\"nao\",\"nao\",\"nao\",\"nao\",\"nao\",\"nao\",\"nao\",\"nao\",\"nao\",\"nao\",\"nao\",\"nao\",\"nao\",\"nao\",\"nao\",\"nao\",\"nao\",\"nao\",\"nao\",\"nao\",\"nao\",\"nao\",\"nao\",\"nao\",\"sim\",\"nao\",\"nao\",\"nao\",\"nao\",\"nao\",\"nao\",\"nao\",\"nao\",\"nao\",\"nao\",\"nao\",\"nao\",\"nao\",\"nao\",\"nao\",\"nao\",\"nao\",\"nao\",\"nao\",\"nao\",\"nao\",\"nao\",\"nao\",\"nao\",\"nao\",\"nao\",\"nao\",\"sim\",\"nao\",\"nao\",\"nao\",\"nao\",\"nao\",\"nao\",\"nao\",\"nao\",\"nao\",\"nao\",\"nao\",\"nao\",\"nao\",\"nao\",\"nao\",\"nao\",\"nao\",\"nao\",\"nao\",\"nao\",\"nao\",\"nao\",\"nao\",\"nao\",\"nao\"],\"xaxis\":\"x\",\"yaxis\":\"y\",\"type\":\"histogram\"},{\"alignmentgroup\":\"True\",\"bingroup\":\"x\",\"hovertemplate\":\"aderencia_investimento=nao\\u003cbr\\u003einadimplencia=%{x}\\u003cbr\\u003ecount=%{y}\\u003cextra\\u003e\\u003c\\u002fextra\\u003e\",\"legendgroup\":\"nao\",\"marker\":{\"color\":\"#EF553B\",\"pattern\":{\"shape\":\"\"}},\"name\":\"nao\",\"offsetgroup\":\"nao\",\"orientation\":\"v\",\"showlegend\":true,\"texttemplate\":\"%{value}\",\"x\":[\"nao\",\"nao\",\"nao\",\"nao\",\"nao\",\"nao\",\"nao\",\"nao\",\"nao\",\"nao\",\"nao\",\"nao\",\"nao\",\"nao\",\"nao\",\"nao\",\"nao\",\"nao\",\"nao\",\"nao\",\"nao\",\"nao\",\"nao\",\"sim\",\"nao\",\"nao\",\"nao\",\"nao\",\"nao\",\"nao\",\"nao\",\"nao\",\"nao\",\"nao\",\"nao\",\"nao\",\"nao\",\"nao\",\"nao\",\"nao\",\"nao\",\"nao\",\"nao\",\"nao\",\"nao\",\"nao\",\"nao\",\"nao\",\"nao\",\"nao\",\"nao\",\"nao\",\"nao\",\"nao\",\"nao\",\"nao\",\"sim\",\"nao\",\"nao\",\"nao\",\"nao\",\"nao\",\"nao\",\"nao\",\"nao\",\"nao\",\"nao\",\"nao\",\"nao\",\"nao\",\"nao\",\"nao\",\"nao\",\"nao\",\"nao\",\"nao\",\"nao\",\"nao\",\"nao\",\"nao\",\"nao\",\"nao\",\"nao\",\"nao\",\"nao\",\"nao\",\"nao\",\"nao\",\"nao\",\"nao\",\"nao\",\"nao\",\"nao\",\"nao\",\"nao\",\"nao\",\"nao\",\"nao\",\"nao\",\"nao\",\"nao\",\"nao\",\"nao\",\"nao\",\"nao\",\"nao\",\"nao\",\"nao\",\"nao\",\"nao\",\"nao\",\"sim\",\"nao\",\"nao\",\"sim\",\"nao\",\"nao\",\"nao\",\"nao\",\"nao\",\"nao\",\"nao\",\"nao\",\"nao\",\"nao\",\"nao\",\"nao\",\"nao\",\"nao\",\"nao\",\"nao\",\"nao\",\"nao\",\"nao\",\"nao\",\"nao\",\"nao\",\"nao\",\"nao\",\"nao\",\"nao\",\"nao\",\"nao\",\"nao\",\"nao\",\"nao\",\"nao\",\"nao\",\"nao\",\"nao\",\"nao\",\"nao\",\"nao\",\"nao\",\"nao\",\"nao\",\"nao\",\"nao\",\"nao\",\"nao\",\"nao\",\"nao\",\"nao\",\"nao\",\"sim\",\"nao\",\"nao\",\"nao\",\"nao\",\"nao\",\"nao\",\"nao\",\"nao\",\"nao\",\"nao\",\"nao\",\"nao\",\"nao\",\"nao\",\"nao\",\"nao\",\"nao\",\"nao\",\"nao\",\"nao\",\"nao\",\"nao\",\"nao\",\"nao\",\"nao\",\"nao\",\"nao\",\"nao\",\"nao\",\"nao\",\"nao\",\"nao\",\"nao\",\"nao\",\"nao\",\"nao\",\"nao\",\"nao\",\"nao\",\"nao\",\"nao\",\"nao\",\"nao\",\"nao\",\"nao\",\"nao\",\"nao\",\"nao\",\"nao\",\"nao\",\"nao\",\"nao\",\"nao\",\"nao\",\"nao\",\"nao\",\"nao\",\"nao\",\"nao\",\"nao\",\"nao\",\"nao\",\"nao\",\"nao\",\"nao\",\"nao\",\"nao\",\"nao\",\"nao\",\"nao\",\"nao\",\"nao\",\"nao\",\"nao\",\"nao\",\"nao\",\"nao\",\"nao\",\"nao\",\"nao\",\"nao\",\"nao\",\"nao\",\"nao\",\"nao\",\"nao\",\"nao\",\"nao\",\"nao\",\"nao\",\"nao\",\"nao\",\"nao\",\"nao\",\"nao\",\"nao\",\"nao\",\"nao\",\"nao\",\"nao\",\"nao\",\"nao\",\"nao\",\"nao\",\"nao\",\"nao\",\"nao\",\"nao\",\"nao\",\"nao\",\"nao\",\"nao\",\"nao\",\"nao\",\"nao\",\"nao\",\"nao\",\"nao\",\"nao\",\"nao\",\"nao\",\"nao\",\"nao\",\"nao\",\"nao\",\"nao\",\"nao\",\"nao\",\"nao\",\"nao\",\"nao\",\"nao\",\"nao\",\"nao\",\"nao\",\"nao\",\"nao\",\"nao\",\"nao\",\"nao\",\"sim\",\"nao\",\"sim\",\"nao\",\"nao\",\"nao\",\"nao\",\"nao\",\"nao\",\"nao\",\"nao\",\"nao\",\"nao\",\"nao\",\"nao\",\"nao\",\"nao\",\"nao\",\"nao\",\"nao\",\"nao\",\"sim\",\"nao\",\"nao\",\"nao\",\"nao\",\"nao\",\"nao\",\"nao\",\"nao\",\"nao\",\"nao\",\"nao\",\"nao\",\"nao\",\"nao\",\"nao\",\"nao\",\"nao\",\"nao\",\"nao\",\"nao\",\"nao\",\"nao\",\"nao\",\"nao\",\"nao\",\"nao\",\"nao\",\"nao\",\"nao\",\"nao\",\"nao\",\"nao\",\"nao\",\"nao\",\"nao\",\"nao\",\"nao\",\"sim\",\"nao\",\"nao\",\"nao\",\"nao\",\"nao\",\"nao\",\"nao\",\"nao\",\"nao\",\"nao\",\"nao\",\"nao\",\"nao\",\"nao\",\"nao\",\"nao\",\"nao\",\"nao\",\"nao\",\"nao\",\"nao\",\"nao\",\"nao\",\"nao\",\"nao\",\"nao\",\"nao\",\"nao\",\"nao\",\"nao\",\"nao\",\"nao\",\"nao\",\"nao\",\"nao\",\"nao\",\"nao\",\"nao\",\"nao\",\"nao\",\"nao\",\"nao\",\"nao\",\"nao\",\"nao\",\"nao\",\"nao\",\"nao\",\"nao\",\"nao\",\"nao\",\"nao\",\"nao\",\"nao\",\"nao\",\"nao\",\"nao\",\"nao\",\"nao\",\"nao\",\"nao\",\"nao\",\"nao\",\"nao\",\"nao\",\"nao\",\"nao\",\"nao\",\"nao\",\"nao\",\"nao\",\"nao\",\"nao\",\"nao\",\"nao\",\"nao\",\"nao\",\"nao\",\"nao\",\"nao\",\"nao\",\"nao\",\"nao\",\"sim\",\"nao\",\"nao\",\"nao\",\"nao\",\"nao\",\"nao\",\"nao\",\"nao\",\"nao\",\"nao\",\"nao\",\"nao\",\"nao\",\"nao\",\"nao\",\"nao\",\"nao\",\"nao\",\"nao\",\"nao\",\"nao\",\"nao\",\"nao\",\"nao\",\"nao\",\"nao\",\"nao\",\"nao\",\"nao\",\"nao\",\"nao\",\"nao\",\"nao\",\"nao\",\"nao\",\"nao\",\"nao\",\"nao\",\"nao\",\"nao\",\"nao\",\"nao\",\"nao\",\"nao\",\"nao\",\"nao\",\"nao\",\"nao\",\"nao\",\"nao\",\"nao\",\"nao\",\"nao\",\"nao\",\"nao\",\"nao\",\"nao\",\"nao\",\"nao\",\"nao\",\"nao\",\"nao\",\"nao\",\"nao\",\"nao\",\"nao\",\"nao\",\"nao\",\"nao\",\"nao\",\"nao\",\"nao\",\"nao\",\"nao\",\"nao\",\"nao\",\"nao\",\"nao\",\"nao\",\"nao\",\"nao\",\"nao\",\"nao\",\"nao\",\"nao\",\"nao\",\"nao\",\"nao\",\"nao\",\"nao\",\"nao\",\"nao\",\"nao\",\"nao\",\"nao\",\"nao\",\"nao\",\"nao\",\"nao\",\"nao\",\"nao\",\"nao\",\"nao\",\"nao\",\"nao\",\"nao\",\"nao\",\"nao\",\"nao\",\"nao\",\"nao\",\"nao\",\"nao\",\"nao\",\"nao\",\"nao\",\"nao\",\"nao\",\"nao\",\"nao\",\"nao\",\"nao\",\"nao\",\"nao\",\"sim\",\"nao\",\"nao\",\"nao\",\"nao\",\"nao\",\"nao\",\"nao\",\"nao\",\"nao\",\"nao\",\"nao\",\"sim\",\"nao\",\"nao\",\"nao\",\"nao\",\"nao\",\"nao\",\"nao\",\"nao\",\"nao\",\"nao\",\"nao\",\"nao\",\"nao\",\"nao\",\"nao\",\"nao\",\"nao\",\"nao\",\"nao\",\"nao\",\"nao\",\"nao\",\"nao\",\"nao\",\"nao\",\"nao\",\"nao\",\"nao\",\"nao\",\"nao\",\"nao\",\"nao\",\"nao\",\"nao\",\"nao\",\"nao\",\"nao\",\"nao\",\"nao\",\"nao\",\"nao\",\"nao\",\"nao\",\"nao\",\"nao\",\"nao\",\"nao\",\"nao\",\"nao\",\"nao\",\"nao\",\"nao\",\"nao\",\"nao\",\"nao\",\"nao\",\"nao\",\"nao\",\"nao\",\"nao\",\"nao\",\"nao\",\"nao\",\"nao\",\"nao\",\"nao\",\"nao\",\"nao\",\"nao\",\"nao\",\"nao\",\"nao\",\"nao\",\"nao\",\"nao\",\"nao\",\"nao\",\"nao\",\"nao\",\"nao\",\"nao\",\"nao\",\"nao\",\"nao\",\"nao\",\"nao\",\"nao\",\"nao\",\"nao\",\"nao\",\"nao\",\"nao\",\"nao\",\"nao\",\"nao\",\"nao\",\"nao\",\"nao\",\"nao\",\"nao\",\"nao\",\"nao\",\"nao\",\"nao\",\"sim\",\"nao\",\"sim\",\"nao\",\"nao\",\"nao\",\"nao\",\"nao\",\"nao\",\"nao\",\"nao\",\"nao\",\"nao\",\"nao\",\"nao\",\"nao\",\"nao\",\"nao\",\"nao\",\"nao\",\"nao\",\"nao\",\"nao\",\"nao\",\"nao\",\"nao\",\"nao\",\"nao\",\"nao\",\"nao\",\"nao\",\"nao\",\"nao\",\"nao\",\"nao\",\"nao\",\"nao\",\"nao\",\"nao\",\"nao\",\"nao\",\"nao\",\"nao\",\"nao\",\"nao\",\"nao\",\"sim\",\"nao\",\"nao\",\"nao\",\"nao\",\"nao\",\"nao\",\"nao\",\"nao\",\"nao\",\"nao\",\"nao\",\"nao\",\"nao\",\"nao\",\"nao\",\"nao\",\"nao\",\"nao\",\"nao\",\"nao\",\"nao\",\"nao\",\"nao\",\"nao\",\"nao\",\"nao\",\"nao\",\"nao\",\"nao\"],\"xaxis\":\"x\",\"yaxis\":\"y\",\"type\":\"histogram\"}],                        {\"template\":{\"data\":{\"histogram2dcontour\":[{\"type\":\"histogram2dcontour\",\"colorbar\":{\"outlinewidth\":0,\"ticks\":\"\"},\"colorscale\":[[0.0,\"#0d0887\"],[0.1111111111111111,\"#46039f\"],[0.2222222222222222,\"#7201a8\"],[0.3333333333333333,\"#9c179e\"],[0.4444444444444444,\"#bd3786\"],[0.5555555555555556,\"#d8576b\"],[0.6666666666666666,\"#ed7953\"],[0.7777777777777778,\"#fb9f3a\"],[0.8888888888888888,\"#fdca26\"],[1.0,\"#f0f921\"]]}],\"choropleth\":[{\"type\":\"choropleth\",\"colorbar\":{\"outlinewidth\":0,\"ticks\":\"\"}}],\"histogram2d\":[{\"type\":\"histogram2d\",\"colorbar\":{\"outlinewidth\":0,\"ticks\":\"\"},\"colorscale\":[[0.0,\"#0d0887\"],[0.1111111111111111,\"#46039f\"],[0.2222222222222222,\"#7201a8\"],[0.3333333333333333,\"#9c179e\"],[0.4444444444444444,\"#bd3786\"],[0.5555555555555556,\"#d8576b\"],[0.6666666666666666,\"#ed7953\"],[0.7777777777777778,\"#fb9f3a\"],[0.8888888888888888,\"#fdca26\"],[1.0,\"#f0f921\"]]}],\"heatmap\":[{\"type\":\"heatmap\",\"colorbar\":{\"outlinewidth\":0,\"ticks\":\"\"},\"colorscale\":[[0.0,\"#0d0887\"],[0.1111111111111111,\"#46039f\"],[0.2222222222222222,\"#7201a8\"],[0.3333333333333333,\"#9c179e\"],[0.4444444444444444,\"#bd3786\"],[0.5555555555555556,\"#d8576b\"],[0.6666666666666666,\"#ed7953\"],[0.7777777777777778,\"#fb9f3a\"],[0.8888888888888888,\"#fdca26\"],[1.0,\"#f0f921\"]]}],\"heatmapgl\":[{\"type\":\"heatmapgl\",\"colorbar\":{\"outlinewidth\":0,\"ticks\":\"\"},\"colorscale\":[[0.0,\"#0d0887\"],[0.1111111111111111,\"#46039f\"],[0.2222222222222222,\"#7201a8\"],[0.3333333333333333,\"#9c179e\"],[0.4444444444444444,\"#bd3786\"],[0.5555555555555556,\"#d8576b\"],[0.6666666666666666,\"#ed7953\"],[0.7777777777777778,\"#fb9f3a\"],[0.8888888888888888,\"#fdca26\"],[1.0,\"#f0f921\"]]}],\"contourcarpet\":[{\"type\":\"contourcarpet\",\"colorbar\":{\"outlinewidth\":0,\"ticks\":\"\"}}],\"contour\":[{\"type\":\"contour\",\"colorbar\":{\"outlinewidth\":0,\"ticks\":\"\"},\"colorscale\":[[0.0,\"#0d0887\"],[0.1111111111111111,\"#46039f\"],[0.2222222222222222,\"#7201a8\"],[0.3333333333333333,\"#9c179e\"],[0.4444444444444444,\"#bd3786\"],[0.5555555555555556,\"#d8576b\"],[0.6666666666666666,\"#ed7953\"],[0.7777777777777778,\"#fb9f3a\"],[0.8888888888888888,\"#fdca26\"],[1.0,\"#f0f921\"]]}],\"surface\":[{\"type\":\"surface\",\"colorbar\":{\"outlinewidth\":0,\"ticks\":\"\"},\"colorscale\":[[0.0,\"#0d0887\"],[0.1111111111111111,\"#46039f\"],[0.2222222222222222,\"#7201a8\"],[0.3333333333333333,\"#9c179e\"],[0.4444444444444444,\"#bd3786\"],[0.5555555555555556,\"#d8576b\"],[0.6666666666666666,\"#ed7953\"],[0.7777777777777778,\"#fb9f3a\"],[0.8888888888888888,\"#fdca26\"],[1.0,\"#f0f921\"]]}],\"mesh3d\":[{\"type\":\"mesh3d\",\"colorbar\":{\"outlinewidth\":0,\"ticks\":\"\"}}],\"scatter\":[{\"fillpattern\":{\"fillmode\":\"overlay\",\"size\":10,\"solidity\":0.2},\"type\":\"scatter\"}],\"parcoords\":[{\"type\":\"parcoords\",\"line\":{\"colorbar\":{\"outlinewidth\":0,\"ticks\":\"\"}}}],\"scatterpolargl\":[{\"type\":\"scatterpolargl\",\"marker\":{\"colorbar\":{\"outlinewidth\":0,\"ticks\":\"\"}}}],\"bar\":[{\"error_x\":{\"color\":\"#2a3f5f\"},\"error_y\":{\"color\":\"#2a3f5f\"},\"marker\":{\"line\":{\"color\":\"#E5ECF6\",\"width\":0.5},\"pattern\":{\"fillmode\":\"overlay\",\"size\":10,\"solidity\":0.2}},\"type\":\"bar\"}],\"scattergeo\":[{\"type\":\"scattergeo\",\"marker\":{\"colorbar\":{\"outlinewidth\":0,\"ticks\":\"\"}}}],\"scatterpolar\":[{\"type\":\"scatterpolar\",\"marker\":{\"colorbar\":{\"outlinewidth\":0,\"ticks\":\"\"}}}],\"histogram\":[{\"marker\":{\"pattern\":{\"fillmode\":\"overlay\",\"size\":10,\"solidity\":0.2}},\"type\":\"histogram\"}],\"scattergl\":[{\"type\":\"scattergl\",\"marker\":{\"colorbar\":{\"outlinewidth\":0,\"ticks\":\"\"}}}],\"scatter3d\":[{\"type\":\"scatter3d\",\"line\":{\"colorbar\":{\"outlinewidth\":0,\"ticks\":\"\"}},\"marker\":{\"colorbar\":{\"outlinewidth\":0,\"ticks\":\"\"}}}],\"scattermapbox\":[{\"type\":\"scattermapbox\",\"marker\":{\"colorbar\":{\"outlinewidth\":0,\"ticks\":\"\"}}}],\"scatterternary\":[{\"type\":\"scatterternary\",\"marker\":{\"colorbar\":{\"outlinewidth\":0,\"ticks\":\"\"}}}],\"scattercarpet\":[{\"type\":\"scattercarpet\",\"marker\":{\"colorbar\":{\"outlinewidth\":0,\"ticks\":\"\"}}}],\"carpet\":[{\"aaxis\":{\"endlinecolor\":\"#2a3f5f\",\"gridcolor\":\"white\",\"linecolor\":\"white\",\"minorgridcolor\":\"white\",\"startlinecolor\":\"#2a3f5f\"},\"baxis\":{\"endlinecolor\":\"#2a3f5f\",\"gridcolor\":\"white\",\"linecolor\":\"white\",\"minorgridcolor\":\"white\",\"startlinecolor\":\"#2a3f5f\"},\"type\":\"carpet\"}],\"table\":[{\"cells\":{\"fill\":{\"color\":\"#EBF0F8\"},\"line\":{\"color\":\"white\"}},\"header\":{\"fill\":{\"color\":\"#C8D4E3\"},\"line\":{\"color\":\"white\"}},\"type\":\"table\"}],\"barpolar\":[{\"marker\":{\"line\":{\"color\":\"#E5ECF6\",\"width\":0.5},\"pattern\":{\"fillmode\":\"overlay\",\"size\":10,\"solidity\":0.2}},\"type\":\"barpolar\"}],\"pie\":[{\"automargin\":true,\"type\":\"pie\"}]},\"layout\":{\"autotypenumbers\":\"strict\",\"colorway\":[\"#636efa\",\"#EF553B\",\"#00cc96\",\"#ab63fa\",\"#FFA15A\",\"#19d3f3\",\"#FF6692\",\"#B6E880\",\"#FF97FF\",\"#FECB52\"],\"font\":{\"color\":\"#2a3f5f\"},\"hovermode\":\"closest\",\"hoverlabel\":{\"align\":\"left\"},\"paper_bgcolor\":\"white\",\"plot_bgcolor\":\"#E5ECF6\",\"polar\":{\"bgcolor\":\"#E5ECF6\",\"angularaxis\":{\"gridcolor\":\"white\",\"linecolor\":\"white\",\"ticks\":\"\"},\"radialaxis\":{\"gridcolor\":\"white\",\"linecolor\":\"white\",\"ticks\":\"\"}},\"ternary\":{\"bgcolor\":\"#E5ECF6\",\"aaxis\":{\"gridcolor\":\"white\",\"linecolor\":\"white\",\"ticks\":\"\"},\"baxis\":{\"gridcolor\":\"white\",\"linecolor\":\"white\",\"ticks\":\"\"},\"caxis\":{\"gridcolor\":\"white\",\"linecolor\":\"white\",\"ticks\":\"\"}},\"coloraxis\":{\"colorbar\":{\"outlinewidth\":0,\"ticks\":\"\"}},\"colorscale\":{\"sequential\":[[0.0,\"#0d0887\"],[0.1111111111111111,\"#46039f\"],[0.2222222222222222,\"#7201a8\"],[0.3333333333333333,\"#9c179e\"],[0.4444444444444444,\"#bd3786\"],[0.5555555555555556,\"#d8576b\"],[0.6666666666666666,\"#ed7953\"],[0.7777777777777778,\"#fb9f3a\"],[0.8888888888888888,\"#fdca26\"],[1.0,\"#f0f921\"]],\"sequentialminus\":[[0.0,\"#0d0887\"],[0.1111111111111111,\"#46039f\"],[0.2222222222222222,\"#7201a8\"],[0.3333333333333333,\"#9c179e\"],[0.4444444444444444,\"#bd3786\"],[0.5555555555555556,\"#d8576b\"],[0.6666666666666666,\"#ed7953\"],[0.7777777777777778,\"#fb9f3a\"],[0.8888888888888888,\"#fdca26\"],[1.0,\"#f0f921\"]],\"diverging\":[[0,\"#8e0152\"],[0.1,\"#c51b7d\"],[0.2,\"#de77ae\"],[0.3,\"#f1b6da\"],[0.4,\"#fde0ef\"],[0.5,\"#f7f7f7\"],[0.6,\"#e6f5d0\"],[0.7,\"#b8e186\"],[0.8,\"#7fbc41\"],[0.9,\"#4d9221\"],[1,\"#276419\"]]},\"xaxis\":{\"gridcolor\":\"white\",\"linecolor\":\"white\",\"ticks\":\"\",\"title\":{\"standoff\":15},\"zerolinecolor\":\"white\",\"automargin\":true,\"zerolinewidth\":2},\"yaxis\":{\"gridcolor\":\"white\",\"linecolor\":\"white\",\"ticks\":\"\",\"title\":{\"standoff\":15},\"zerolinecolor\":\"white\",\"automargin\":true,\"zerolinewidth\":2},\"scene\":{\"xaxis\":{\"backgroundcolor\":\"#E5ECF6\",\"gridcolor\":\"white\",\"linecolor\":\"white\",\"showbackground\":true,\"ticks\":\"\",\"zerolinecolor\":\"white\",\"gridwidth\":2},\"yaxis\":{\"backgroundcolor\":\"#E5ECF6\",\"gridcolor\":\"white\",\"linecolor\":\"white\",\"showbackground\":true,\"ticks\":\"\",\"zerolinecolor\":\"white\",\"gridwidth\":2},\"zaxis\":{\"backgroundcolor\":\"#E5ECF6\",\"gridcolor\":\"white\",\"linecolor\":\"white\",\"showbackground\":true,\"ticks\":\"\",\"zerolinecolor\":\"white\",\"gridwidth\":2}},\"shapedefaults\":{\"line\":{\"color\":\"#2a3f5f\"}},\"annotationdefaults\":{\"arrowcolor\":\"#2a3f5f\",\"arrowhead\":0,\"arrowwidth\":1},\"geo\":{\"bgcolor\":\"white\",\"landcolor\":\"#E5ECF6\",\"subunitcolor\":\"white\",\"showland\":true,\"showlakes\":true,\"lakecolor\":\"white\"},\"title\":{\"x\":0.05},\"mapbox\":{\"style\":\"light\"}}},\"xaxis\":{\"anchor\":\"y\",\"domain\":[0.0,1.0],\"title\":{\"text\":\"inadimplencia\"}},\"yaxis\":{\"anchor\":\"x\",\"domain\":[0.0,1.0],\"title\":{\"text\":\"count\"}},\"legend\":{\"title\":{\"text\":\"aderencia_investimento\"},\"tracegroupgap\":0},\"margin\":{\"t\":60},\"barmode\":\"group\"},                        {\"responsive\": true}                    ).then(function(){\n",
              "                            \n",
              "var gd = document.getElementById('82024af8-16b8-44cf-88f2-0bf52773ae45');\n",
              "var x = new MutationObserver(function (mutations, observer) {{\n",
              "        var display = window.getComputedStyle(gd).display;\n",
              "        if (!display || display === 'none') {{\n",
              "            console.log([gd, 'removed!']);\n",
              "            Plotly.purge(gd);\n",
              "            observer.disconnect();\n",
              "        }}\n",
              "}});\n",
              "\n",
              "// Listen for the removal of the full notebook cells\n",
              "var notebookContainer = gd.closest('#notebook-container');\n",
              "if (notebookContainer) {{\n",
              "    x.observe(notebookContainer, {childList: true});\n",
              "}}\n",
              "\n",
              "// Listen for the clearing of the current output cell\n",
              "var outputEl = gd.closest('.output');\n",
              "if (outputEl) {{\n",
              "    x.observe(outputEl, {childList: true});\n",
              "}}\n",
              "\n",
              "                        })                };                            </script>        </div>\n",
              "</body>\n",
              "</html>"
            ]
          },
          "metadata": {}
        }
      ]
    },
    {
      "cell_type": "markdown",
      "source": [
        "✅ Para inadimplência, existem duas categorias: \"não\" e \"sim\".\n",
        "\n",
        "- Podemos identificar que existem poucos valores \"sim\" e muitos valores \"não\". Também há uma grande diferença proporcional nos valores de \"não\". Para o valor \"sim\", a proporção dos dados é bem próxima, mas com poucos valores de \"sim\"."
      ],
      "metadata": {
        "id": "uSVUAd8ZmrZ-"
      }
    },
    {
      "cell_type": "code",
      "source": [
        "px.histogram(dados, x = 'fez_emprestimo', text_auto = True, color = 'aderencia_investimento', barmode = 'group')\n"
      ],
      "metadata": {
        "colab": {
          "base_uri": "https://localhost:8080/",
          "height": 542
        },
        "id": "WGn47BWzmz6p",
        "outputId": "4112e583-c146-451a-f5dc-5abe9d7f28cb"
      },
      "execution_count": 13,
      "outputs": [
        {
          "output_type": "display_data",
          "data": {
            "text/html": [
              "<html>\n",
              "<head><meta charset=\"utf-8\" /></head>\n",
              "<body>\n",
              "    <div>            <script src=\"https://cdnjs.cloudflare.com/ajax/libs/mathjax/2.7.5/MathJax.js?config=TeX-AMS-MML_SVG\"></script><script type=\"text/javascript\">if (window.MathJax && window.MathJax.Hub && window.MathJax.Hub.Config) {window.MathJax.Hub.Config({SVG: {font: \"STIX-Web\"}});}</script>                <script type=\"text/javascript\">window.PlotlyConfig = {MathJaxConfig: 'local'};</script>\n",
              "        <script charset=\"utf-8\" src=\"https://cdn.plot.ly/plotly-2.24.1.min.js\"></script>                <div id=\"fe2ff88e-5fb9-42c0-8e64-b037278983b7\" class=\"plotly-graph-div\" style=\"height:525px; width:100%;\"></div>            <script type=\"text/javascript\">                                    window.PLOTLYENV=window.PLOTLYENV || {};                                    if (document.getElementById(\"fe2ff88e-5fb9-42c0-8e64-b037278983b7\")) {                    Plotly.newPlot(                        \"fe2ff88e-5fb9-42c0-8e64-b037278983b7\",                        [{\"alignmentgroup\":\"True\",\"bingroup\":\"x\",\"hovertemplate\":\"aderencia_investimento=sim\\u003cbr\\u003efez_emprestimo=%{x}\\u003cbr\\u003ecount=%{y}\\u003cextra\\u003e\\u003c\\u002fextra\\u003e\",\"legendgroup\":\"sim\",\"marker\":{\"color\":\"#636efa\",\"pattern\":{\"shape\":\"\"}},\"name\":\"sim\",\"offsetgroup\":\"sim\",\"orientation\":\"v\",\"showlegend\":true,\"texttemplate\":\"%{value}\",\"x\":[\"nao\",\"nao\",\"nao\",\"nao\",\"sim\",\"nao\",\"sim\",\"nao\",\"nao\",\"nao\",\"nao\",\"nao\",\"nao\",\"nao\",\"nao\",\"nao\",\"nao\",\"sim\",\"nao\",\"nao\",\"nao\",\"nao\",\"nao\",\"nao\",\"nao\",\"nao\",\"nao\",\"nao\",\"sim\",\"nao\",\"nao\",\"nao\",\"nao\",\"nao\",\"nao\",\"nao\",\"nao\",\"nao\",\"nao\",\"nao\",\"nao\",\"nao\",\"sim\",\"nao\",\"nao\",\"nao\",\"nao\",\"nao\",\"nao\",\"nao\",\"nao\",\"nao\",\"nao\",\"nao\",\"nao\",\"nao\",\"nao\",\"nao\",\"nao\",\"sim\",\"nao\",\"nao\",\"nao\",\"nao\",\"nao\",\"nao\",\"nao\",\"nao\",\"nao\",\"nao\",\"nao\",\"sim\",\"nao\",\"nao\",\"nao\",\"nao\",\"sim\",\"nao\",\"nao\",\"nao\",\"nao\",\"nao\",\"nao\",\"nao\",\"nao\",\"nao\",\"nao\",\"nao\",\"nao\",\"nao\",\"nao\",\"nao\",\"nao\",\"nao\",\"nao\",\"nao\",\"nao\",\"nao\",\"nao\",\"nao\",\"sim\",\"nao\",\"nao\",\"nao\",\"nao\",\"nao\",\"nao\",\"nao\",\"nao\",\"nao\",\"nao\",\"nao\",\"nao\",\"nao\",\"nao\",\"nao\",\"nao\",\"nao\",\"nao\",\"nao\",\"nao\",\"nao\",\"nao\",\"nao\",\"nao\",\"nao\",\"sim\",\"nao\",\"nao\",\"nao\",\"nao\",\"nao\",\"nao\",\"nao\",\"nao\",\"sim\",\"nao\",\"nao\",\"nao\",\"nao\",\"nao\",\"nao\",\"nao\",\"nao\",\"nao\",\"nao\",\"nao\",\"sim\",\"nao\",\"nao\",\"nao\",\"nao\",\"nao\",\"nao\",\"nao\",\"nao\",\"nao\",\"nao\",\"sim\",\"nao\",\"nao\",\"nao\",\"nao\",\"nao\",\"nao\",\"nao\",\"nao\",\"nao\",\"sim\",\"nao\",\"nao\",\"sim\",\"nao\",\"sim\",\"nao\",\"nao\",\"nao\",\"nao\",\"nao\",\"nao\",\"nao\",\"nao\",\"nao\",\"nao\",\"nao\",\"nao\",\"nao\",\"nao\",\"nao\",\"nao\",\"nao\",\"nao\",\"nao\",\"nao\",\"nao\",\"nao\",\"nao\",\"nao\",\"nao\",\"nao\",\"nao\",\"nao\",\"nao\",\"nao\",\"nao\",\"nao\",\"nao\",\"nao\",\"nao\",\"nao\",\"nao\",\"nao\",\"nao\",\"nao\",\"nao\",\"nao\",\"nao\",\"sim\",\"nao\",\"nao\",\"nao\",\"nao\",\"nao\",\"nao\",\"nao\",\"nao\",\"nao\",\"nao\",\"nao\",\"nao\",\"nao\",\"sim\",\"nao\",\"nao\",\"nao\",\"nao\",\"nao\",\"nao\",\"nao\",\"nao\",\"nao\",\"nao\",\"nao\",\"nao\",\"nao\",\"nao\",\"nao\",\"nao\",\"nao\",\"nao\",\"sim\",\"nao\",\"nao\",\"sim\",\"nao\",\"nao\",\"nao\",\"nao\",\"nao\",\"nao\",\"nao\",\"nao\",\"nao\",\"nao\",\"nao\",\"nao\",\"nao\",\"sim\",\"nao\",\"nao\",\"nao\",\"nao\",\"sim\",\"sim\",\"nao\",\"nao\",\"nao\",\"nao\",\"nao\",\"nao\",\"nao\",\"nao\",\"nao\",\"nao\",\"nao\",\"nao\",\"nao\",\"nao\",\"nao\",\"nao\",\"nao\",\"nao\",\"nao\",\"nao\",\"nao\",\"nao\",\"nao\",\"nao\",\"nao\",\"nao\",\"sim\",\"nao\",\"nao\",\"nao\",\"nao\",\"nao\",\"nao\",\"nao\",\"nao\",\"nao\",\"nao\",\"sim\",\"nao\",\"nao\",\"nao\",\"nao\",\"nao\",\"nao\",\"nao\",\"nao\",\"nao\",\"nao\",\"nao\",\"nao\",\"nao\",\"nao\",\"sim\",\"nao\",\"sim\",\"nao\",\"nao\",\"nao\",\"nao\",\"sim\",\"nao\",\"nao\",\"sim\",\"nao\",\"nao\",\"nao\",\"nao\",\"nao\",\"nao\",\"nao\",\"nao\",\"nao\",\"nao\",\"nao\",\"nao\",\"nao\",\"nao\",\"nao\",\"nao\",\"nao\",\"nao\",\"nao\",\"nao\",\"nao\",\"nao\",\"nao\",\"sim\",\"nao\",\"nao\",\"sim\",\"sim\",\"nao\",\"nao\",\"nao\",\"nao\",\"nao\",\"nao\",\"nao\",\"nao\",\"nao\",\"sim\",\"nao\",\"nao\",\"nao\",\"nao\",\"nao\",\"nao\",\"nao\",\"nao\",\"nao\",\"nao\",\"nao\",\"nao\",\"nao\",\"sim\",\"nao\",\"nao\",\"nao\",\"nao\",\"nao\",\"nao\",\"nao\",\"nao\",\"nao\",\"nao\",\"nao\",\"nao\",\"nao\",\"nao\",\"nao\",\"nao\",\"nao\",\"nao\",\"sim\",\"nao\",\"nao\",\"nao\",\"nao\",\"nao\",\"nao\",\"nao\",\"sim\",\"nao\",\"nao\",\"sim\",\"nao\",\"nao\",\"nao\",\"sim\",\"nao\",\"nao\",\"nao\",\"nao\",\"nao\",\"nao\",\"nao\",\"nao\",\"nao\",\"nao\",\"nao\",\"nao\",\"nao\",\"nao\",\"nao\",\"nao\",\"nao\",\"sim\",\"nao\",\"nao\",\"nao\",\"nao\",\"nao\",\"nao\",\"nao\",\"nao\",\"nao\",\"nao\",\"nao\",\"nao\",\"nao\",\"nao\",\"nao\",\"nao\",\"nao\",\"sim\",\"nao\",\"nao\",\"nao\",\"nao\",\"nao\",\"nao\",\"nao\",\"nao\",\"nao\",\"nao\",\"nao\",\"sim\",\"nao\",\"nao\",\"nao\",\"nao\",\"nao\",\"nao\",\"nao\",\"nao\",\"nao\",\"nao\",\"nao\",\"nao\",\"nao\",\"nao\",\"nao\",\"nao\",\"nao\",\"nao\",\"nao\",\"nao\",\"sim\",\"nao\",\"nao\",\"nao\",\"nao\",\"nao\",\"nao\",\"nao\",\"sim\",\"nao\",\"nao\"],\"xaxis\":\"x\",\"yaxis\":\"y\",\"type\":\"histogram\"},{\"alignmentgroup\":\"True\",\"bingroup\":\"x\",\"hovertemplate\":\"aderencia_investimento=nao\\u003cbr\\u003efez_emprestimo=%{x}\\u003cbr\\u003ecount=%{y}\\u003cextra\\u003e\\u003c\\u002fextra\\u003e\",\"legendgroup\":\"nao\",\"marker\":{\"color\":\"#EF553B\",\"pattern\":{\"shape\":\"\"}},\"name\":\"nao\",\"offsetgroup\":\"nao\",\"orientation\":\"v\",\"showlegend\":true,\"texttemplate\":\"%{value}\",\"x\":[\"nao\",\"nao\",\"nao\",\"nao\",\"nao\",\"nao\",\"nao\",\"nao\",\"nao\",\"nao\",\"nao\",\"nao\",\"nao\",\"nao\",\"nao\",\"nao\",\"sim\",\"sim\",\"nao\",\"nao\",\"nao\",\"nao\",\"nao\",\"nao\",\"sim\",\"nao\",\"nao\",\"nao\",\"nao\",\"nao\",\"nao\",\"sim\",\"sim\",\"nao\",\"nao\",\"nao\",\"nao\",\"nao\",\"sim\",\"nao\",\"nao\",\"nao\",\"nao\",\"nao\",\"nao\",\"nao\",\"nao\",\"nao\",\"nao\",\"sim\",\"nao\",\"nao\",\"nao\",\"sim\",\"nao\",\"sim\",\"sim\",\"nao\",\"nao\",\"sim\",\"nao\",\"nao\",\"nao\",\"nao\",\"nao\",\"sim\",\"nao\",\"nao\",\"sim\",\"sim\",\"sim\",\"nao\",\"nao\",\"nao\",\"nao\",\"nao\",\"nao\",\"nao\",\"sim\",\"nao\",\"nao\",\"nao\",\"nao\",\"nao\",\"sim\",\"nao\",\"nao\",\"nao\",\"nao\",\"nao\",\"nao\",\"nao\",\"nao\",\"nao\",\"sim\",\"nao\",\"nao\",\"nao\",\"nao\",\"nao\",\"nao\",\"nao\",\"nao\",\"nao\",\"nao\",\"nao\",\"nao\",\"nao\",\"nao\",\"nao\",\"nao\",\"nao\",\"sim\",\"nao\",\"sim\",\"nao\",\"sim\",\"nao\",\"nao\",\"nao\",\"nao\",\"nao\",\"nao\",\"nao\",\"nao\",\"nao\",\"nao\",\"nao\",\"nao\",\"sim\",\"nao\",\"sim\",\"sim\",\"nao\",\"nao\",\"nao\",\"nao\",\"sim\",\"nao\",\"nao\",\"nao\",\"nao\",\"sim\",\"nao\",\"nao\",\"nao\",\"nao\",\"nao\",\"nao\",\"nao\",\"nao\",\"nao\",\"nao\",\"nao\",\"sim\",\"nao\",\"nao\",\"nao\",\"nao\",\"nao\",\"nao\",\"nao\",\"sim\",\"nao\",\"nao\",\"nao\",\"nao\",\"nao\",\"nao\",\"nao\",\"sim\",\"nao\",\"nao\",\"nao\",\"nao\",\"nao\",\"nao\",\"nao\",\"nao\",\"nao\",\"nao\",\"nao\",\"nao\",\"nao\",\"nao\",\"nao\",\"nao\",\"nao\",\"nao\",\"nao\",\"nao\",\"nao\",\"nao\",\"nao\",\"nao\",\"nao\",\"nao\",\"nao\",\"sim\",\"nao\",\"nao\",\"sim\",\"nao\",\"sim\",\"nao\",\"nao\",\"nao\",\"nao\",\"sim\",\"nao\",\"nao\",\"sim\",\"sim\",\"nao\",\"nao\",\"nao\",\"nao\",\"nao\",\"nao\",\"nao\",\"sim\",\"nao\",\"nao\",\"nao\",\"nao\",\"nao\",\"nao\",\"nao\",\"nao\",\"nao\",\"nao\",\"nao\",\"nao\",\"sim\",\"nao\",\"nao\",\"nao\",\"nao\",\"nao\",\"nao\",\"nao\",\"nao\",\"nao\",\"nao\",\"nao\",\"nao\",\"nao\",\"sim\",\"nao\",\"nao\",\"nao\",\"nao\",\"sim\",\"nao\",\"nao\",\"nao\",\"nao\",\"nao\",\"nao\",\"nao\",\"sim\",\"nao\",\"nao\",\"nao\",\"nao\",\"nao\",\"nao\",\"nao\",\"nao\",\"nao\",\"nao\",\"nao\",\"nao\",\"nao\",\"nao\",\"nao\",\"nao\",\"nao\",\"sim\",\"nao\",\"nao\",\"nao\",\"nao\",\"nao\",\"nao\",\"nao\",\"nao\",\"nao\",\"sim\",\"nao\",\"sim\",\"nao\",\"sim\",\"sim\",\"sim\",\"nao\",\"nao\",\"nao\",\"nao\",\"nao\",\"nao\",\"nao\",\"nao\",\"sim\",\"nao\",\"sim\",\"nao\",\"nao\",\"nao\",\"nao\",\"nao\",\"nao\",\"nao\",\"nao\",\"nao\",\"nao\",\"nao\",\"nao\",\"sim\",\"nao\",\"nao\",\"sim\",\"sim\",\"nao\",\"nao\",\"nao\",\"sim\",\"nao\",\"sim\",\"nao\",\"nao\",\"nao\",\"nao\",\"nao\",\"nao\",\"nao\",\"nao\",\"nao\",\"nao\",\"nao\",\"nao\",\"nao\",\"nao\",\"sim\",\"sim\",\"sim\",\"nao\",\"nao\",\"nao\",\"nao\",\"nao\",\"nao\",\"sim\",\"nao\",\"nao\",\"sim\",\"nao\",\"sim\",\"nao\",\"nao\",\"nao\",\"nao\",\"nao\",\"nao\",\"nao\",\"nao\",\"nao\",\"nao\",\"nao\",\"sim\",\"sim\",\"nao\",\"nao\",\"nao\",\"nao\",\"nao\",\"nao\",\"nao\",\"nao\",\"sim\",\"nao\",\"nao\",\"nao\",\"nao\",\"nao\",\"sim\",\"nao\",\"sim\",\"sim\",\"nao\",\"nao\",\"nao\",\"nao\",\"sim\",\"sim\",\"nao\",\"nao\",\"nao\",\"nao\",\"nao\",\"nao\",\"nao\",\"nao\",\"nao\",\"nao\",\"nao\",\"nao\",\"nao\",\"nao\",\"nao\",\"nao\",\"sim\",\"nao\",\"nao\",\"sim\",\"nao\",\"nao\",\"nao\",\"nao\",\"nao\",\"nao\",\"nao\",\"nao\",\"nao\",\"sim\",\"nao\",\"nao\",\"nao\",\"nao\",\"nao\",\"nao\",\"nao\",\"nao\",\"nao\",\"nao\",\"sim\",\"nao\",\"nao\",\"nao\",\"nao\",\"nao\",\"nao\",\"nao\",\"nao\",\"nao\",\"nao\",\"nao\",\"nao\",\"nao\",\"nao\",\"nao\",\"nao\",\"nao\",\"nao\",\"sim\",\"nao\",\"nao\",\"sim\",\"sim\",\"nao\",\"nao\",\"nao\",\"nao\",\"nao\",\"nao\",\"nao\",\"nao\",\"sim\",\"sim\",\"nao\",\"nao\",\"nao\",\"nao\",\"sim\",\"nao\",\"sim\",\"nao\",\"sim\",\"nao\",\"sim\",\"nao\",\"sim\",\"sim\",\"nao\",\"nao\",\"nao\",\"nao\",\"nao\",\"nao\",\"sim\",\"nao\",\"sim\",\"nao\",\"sim\",\"nao\",\"nao\",\"nao\",\"nao\",\"nao\",\"nao\",\"nao\",\"nao\",\"sim\",\"nao\",\"nao\",\"nao\",\"nao\",\"nao\",\"nao\",\"nao\",\"nao\",\"sim\",\"sim\",\"nao\",\"nao\",\"nao\",\"nao\",\"nao\",\"nao\",\"nao\",\"nao\",\"nao\",\"sim\",\"nao\",\"sim\",\"nao\",\"nao\",\"sim\",\"sim\",\"nao\",\"sim\",\"nao\",\"nao\",\"nao\",\"nao\",\"nao\",\"nao\",\"nao\",\"nao\",\"nao\",\"nao\",\"nao\",\"nao\",\"nao\",\"nao\",\"nao\",\"nao\",\"nao\",\"nao\",\"nao\",\"nao\",\"nao\",\"nao\",\"sim\",\"nao\",\"sim\",\"nao\",\"nao\",\"nao\",\"sim\",\"nao\",\"nao\",\"nao\",\"nao\",\"nao\",\"nao\",\"nao\",\"sim\",\"nao\",\"nao\",\"nao\",\"nao\",\"nao\",\"nao\",\"nao\",\"nao\",\"sim\",\"sim\",\"sim\",\"nao\",\"nao\",\"nao\",\"nao\",\"nao\",\"nao\",\"nao\",\"nao\",\"nao\",\"nao\",\"nao\",\"nao\",\"nao\",\"nao\",\"nao\",\"nao\",\"nao\",\"nao\",\"nao\",\"nao\",\"nao\",\"nao\",\"nao\",\"nao\",\"sim\",\"sim\",\"nao\",\"nao\",\"nao\",\"nao\",\"nao\",\"sim\",\"nao\",\"sim\",\"nao\",\"nao\",\"sim\",\"sim\",\"nao\",\"nao\",\"nao\",\"nao\",\"nao\",\"nao\",\"nao\",\"sim\",\"sim\",\"sim\",\"nao\",\"nao\",\"nao\",\"sim\",\"nao\",\"nao\",\"nao\",\"nao\",\"nao\",\"sim\",\"nao\",\"nao\",\"nao\",\"nao\",\"nao\",\"sim\",\"nao\",\"nao\",\"nao\",\"nao\",\"nao\",\"nao\",\"nao\",\"nao\",\"nao\",\"sim\",\"nao\",\"nao\",\"nao\",\"nao\",\"nao\",\"nao\",\"nao\",\"nao\",\"nao\",\"nao\",\"nao\",\"nao\",\"nao\",\"nao\",\"nao\",\"nao\",\"nao\",\"nao\",\"nao\",\"nao\",\"nao\",\"nao\",\"nao\",\"nao\",\"nao\",\"nao\",\"nao\",\"nao\",\"nao\",\"nao\",\"nao\",\"nao\",\"sim\",\"nao\",\"nao\",\"nao\",\"nao\",\"nao\",\"nao\",\"nao\",\"nao\",\"nao\",\"nao\",\"nao\",\"nao\",\"nao\",\"sim\",\"nao\",\"nao\",\"sim\",\"nao\",\"nao\",\"nao\",\"nao\",\"nao\",\"nao\",\"nao\",\"nao\",\"nao\",\"nao\",\"nao\",\"sim\",\"nao\",\"nao\",\"nao\",\"sim\",\"nao\",\"sim\",\"nao\",\"sim\",\"nao\",\"nao\",\"nao\",\"nao\",\"nao\",\"nao\",\"nao\",\"nao\",\"sim\",\"nao\",\"sim\",\"sim\",\"nao\",\"nao\",\"nao\",\"nao\",\"nao\",\"nao\",\"nao\",\"nao\",\"nao\",\"nao\",\"nao\",\"nao\",\"nao\",\"nao\",\"nao\",\"nao\",\"nao\",\"sim\",\"sim\",\"nao\",\"nao\",\"nao\",\"nao\",\"nao\",\"nao\",\"nao\",\"nao\",\"nao\",\"nao\",\"sim\",\"sim\"],\"xaxis\":\"x\",\"yaxis\":\"y\",\"type\":\"histogram\"}],                        {\"template\":{\"data\":{\"histogram2dcontour\":[{\"type\":\"histogram2dcontour\",\"colorbar\":{\"outlinewidth\":0,\"ticks\":\"\"},\"colorscale\":[[0.0,\"#0d0887\"],[0.1111111111111111,\"#46039f\"],[0.2222222222222222,\"#7201a8\"],[0.3333333333333333,\"#9c179e\"],[0.4444444444444444,\"#bd3786\"],[0.5555555555555556,\"#d8576b\"],[0.6666666666666666,\"#ed7953\"],[0.7777777777777778,\"#fb9f3a\"],[0.8888888888888888,\"#fdca26\"],[1.0,\"#f0f921\"]]}],\"choropleth\":[{\"type\":\"choropleth\",\"colorbar\":{\"outlinewidth\":0,\"ticks\":\"\"}}],\"histogram2d\":[{\"type\":\"histogram2d\",\"colorbar\":{\"outlinewidth\":0,\"ticks\":\"\"},\"colorscale\":[[0.0,\"#0d0887\"],[0.1111111111111111,\"#46039f\"],[0.2222222222222222,\"#7201a8\"],[0.3333333333333333,\"#9c179e\"],[0.4444444444444444,\"#bd3786\"],[0.5555555555555556,\"#d8576b\"],[0.6666666666666666,\"#ed7953\"],[0.7777777777777778,\"#fb9f3a\"],[0.8888888888888888,\"#fdca26\"],[1.0,\"#f0f921\"]]}],\"heatmap\":[{\"type\":\"heatmap\",\"colorbar\":{\"outlinewidth\":0,\"ticks\":\"\"},\"colorscale\":[[0.0,\"#0d0887\"],[0.1111111111111111,\"#46039f\"],[0.2222222222222222,\"#7201a8\"],[0.3333333333333333,\"#9c179e\"],[0.4444444444444444,\"#bd3786\"],[0.5555555555555556,\"#d8576b\"],[0.6666666666666666,\"#ed7953\"],[0.7777777777777778,\"#fb9f3a\"],[0.8888888888888888,\"#fdca26\"],[1.0,\"#f0f921\"]]}],\"heatmapgl\":[{\"type\":\"heatmapgl\",\"colorbar\":{\"outlinewidth\":0,\"ticks\":\"\"},\"colorscale\":[[0.0,\"#0d0887\"],[0.1111111111111111,\"#46039f\"],[0.2222222222222222,\"#7201a8\"],[0.3333333333333333,\"#9c179e\"],[0.4444444444444444,\"#bd3786\"],[0.5555555555555556,\"#d8576b\"],[0.6666666666666666,\"#ed7953\"],[0.7777777777777778,\"#fb9f3a\"],[0.8888888888888888,\"#fdca26\"],[1.0,\"#f0f921\"]]}],\"contourcarpet\":[{\"type\":\"contourcarpet\",\"colorbar\":{\"outlinewidth\":0,\"ticks\":\"\"}}],\"contour\":[{\"type\":\"contour\",\"colorbar\":{\"outlinewidth\":0,\"ticks\":\"\"},\"colorscale\":[[0.0,\"#0d0887\"],[0.1111111111111111,\"#46039f\"],[0.2222222222222222,\"#7201a8\"],[0.3333333333333333,\"#9c179e\"],[0.4444444444444444,\"#bd3786\"],[0.5555555555555556,\"#d8576b\"],[0.6666666666666666,\"#ed7953\"],[0.7777777777777778,\"#fb9f3a\"],[0.8888888888888888,\"#fdca26\"],[1.0,\"#f0f921\"]]}],\"surface\":[{\"type\":\"surface\",\"colorbar\":{\"outlinewidth\":0,\"ticks\":\"\"},\"colorscale\":[[0.0,\"#0d0887\"],[0.1111111111111111,\"#46039f\"],[0.2222222222222222,\"#7201a8\"],[0.3333333333333333,\"#9c179e\"],[0.4444444444444444,\"#bd3786\"],[0.5555555555555556,\"#d8576b\"],[0.6666666666666666,\"#ed7953\"],[0.7777777777777778,\"#fb9f3a\"],[0.8888888888888888,\"#fdca26\"],[1.0,\"#f0f921\"]]}],\"mesh3d\":[{\"type\":\"mesh3d\",\"colorbar\":{\"outlinewidth\":0,\"ticks\":\"\"}}],\"scatter\":[{\"fillpattern\":{\"fillmode\":\"overlay\",\"size\":10,\"solidity\":0.2},\"type\":\"scatter\"}],\"parcoords\":[{\"type\":\"parcoords\",\"line\":{\"colorbar\":{\"outlinewidth\":0,\"ticks\":\"\"}}}],\"scatterpolargl\":[{\"type\":\"scatterpolargl\",\"marker\":{\"colorbar\":{\"outlinewidth\":0,\"ticks\":\"\"}}}],\"bar\":[{\"error_x\":{\"color\":\"#2a3f5f\"},\"error_y\":{\"color\":\"#2a3f5f\"},\"marker\":{\"line\":{\"color\":\"#E5ECF6\",\"width\":0.5},\"pattern\":{\"fillmode\":\"overlay\",\"size\":10,\"solidity\":0.2}},\"type\":\"bar\"}],\"scattergeo\":[{\"type\":\"scattergeo\",\"marker\":{\"colorbar\":{\"outlinewidth\":0,\"ticks\":\"\"}}}],\"scatterpolar\":[{\"type\":\"scatterpolar\",\"marker\":{\"colorbar\":{\"outlinewidth\":0,\"ticks\":\"\"}}}],\"histogram\":[{\"marker\":{\"pattern\":{\"fillmode\":\"overlay\",\"size\":10,\"solidity\":0.2}},\"type\":\"histogram\"}],\"scattergl\":[{\"type\":\"scattergl\",\"marker\":{\"colorbar\":{\"outlinewidth\":0,\"ticks\":\"\"}}}],\"scatter3d\":[{\"type\":\"scatter3d\",\"line\":{\"colorbar\":{\"outlinewidth\":0,\"ticks\":\"\"}},\"marker\":{\"colorbar\":{\"outlinewidth\":0,\"ticks\":\"\"}}}],\"scattermapbox\":[{\"type\":\"scattermapbox\",\"marker\":{\"colorbar\":{\"outlinewidth\":0,\"ticks\":\"\"}}}],\"scatterternary\":[{\"type\":\"scatterternary\",\"marker\":{\"colorbar\":{\"outlinewidth\":0,\"ticks\":\"\"}}}],\"scattercarpet\":[{\"type\":\"scattercarpet\",\"marker\":{\"colorbar\":{\"outlinewidth\":0,\"ticks\":\"\"}}}],\"carpet\":[{\"aaxis\":{\"endlinecolor\":\"#2a3f5f\",\"gridcolor\":\"white\",\"linecolor\":\"white\",\"minorgridcolor\":\"white\",\"startlinecolor\":\"#2a3f5f\"},\"baxis\":{\"endlinecolor\":\"#2a3f5f\",\"gridcolor\":\"white\",\"linecolor\":\"white\",\"minorgridcolor\":\"white\",\"startlinecolor\":\"#2a3f5f\"},\"type\":\"carpet\"}],\"table\":[{\"cells\":{\"fill\":{\"color\":\"#EBF0F8\"},\"line\":{\"color\":\"white\"}},\"header\":{\"fill\":{\"color\":\"#C8D4E3\"},\"line\":{\"color\":\"white\"}},\"type\":\"table\"}],\"barpolar\":[{\"marker\":{\"line\":{\"color\":\"#E5ECF6\",\"width\":0.5},\"pattern\":{\"fillmode\":\"overlay\",\"size\":10,\"solidity\":0.2}},\"type\":\"barpolar\"}],\"pie\":[{\"automargin\":true,\"type\":\"pie\"}]},\"layout\":{\"autotypenumbers\":\"strict\",\"colorway\":[\"#636efa\",\"#EF553B\",\"#00cc96\",\"#ab63fa\",\"#FFA15A\",\"#19d3f3\",\"#FF6692\",\"#B6E880\",\"#FF97FF\",\"#FECB52\"],\"font\":{\"color\":\"#2a3f5f\"},\"hovermode\":\"closest\",\"hoverlabel\":{\"align\":\"left\"},\"paper_bgcolor\":\"white\",\"plot_bgcolor\":\"#E5ECF6\",\"polar\":{\"bgcolor\":\"#E5ECF6\",\"angularaxis\":{\"gridcolor\":\"white\",\"linecolor\":\"white\",\"ticks\":\"\"},\"radialaxis\":{\"gridcolor\":\"white\",\"linecolor\":\"white\",\"ticks\":\"\"}},\"ternary\":{\"bgcolor\":\"#E5ECF6\",\"aaxis\":{\"gridcolor\":\"white\",\"linecolor\":\"white\",\"ticks\":\"\"},\"baxis\":{\"gridcolor\":\"white\",\"linecolor\":\"white\",\"ticks\":\"\"},\"caxis\":{\"gridcolor\":\"white\",\"linecolor\":\"white\",\"ticks\":\"\"}},\"coloraxis\":{\"colorbar\":{\"outlinewidth\":0,\"ticks\":\"\"}},\"colorscale\":{\"sequential\":[[0.0,\"#0d0887\"],[0.1111111111111111,\"#46039f\"],[0.2222222222222222,\"#7201a8\"],[0.3333333333333333,\"#9c179e\"],[0.4444444444444444,\"#bd3786\"],[0.5555555555555556,\"#d8576b\"],[0.6666666666666666,\"#ed7953\"],[0.7777777777777778,\"#fb9f3a\"],[0.8888888888888888,\"#fdca26\"],[1.0,\"#f0f921\"]],\"sequentialminus\":[[0.0,\"#0d0887\"],[0.1111111111111111,\"#46039f\"],[0.2222222222222222,\"#7201a8\"],[0.3333333333333333,\"#9c179e\"],[0.4444444444444444,\"#bd3786\"],[0.5555555555555556,\"#d8576b\"],[0.6666666666666666,\"#ed7953\"],[0.7777777777777778,\"#fb9f3a\"],[0.8888888888888888,\"#fdca26\"],[1.0,\"#f0f921\"]],\"diverging\":[[0,\"#8e0152\"],[0.1,\"#c51b7d\"],[0.2,\"#de77ae\"],[0.3,\"#f1b6da\"],[0.4,\"#fde0ef\"],[0.5,\"#f7f7f7\"],[0.6,\"#e6f5d0\"],[0.7,\"#b8e186\"],[0.8,\"#7fbc41\"],[0.9,\"#4d9221\"],[1,\"#276419\"]]},\"xaxis\":{\"gridcolor\":\"white\",\"linecolor\":\"white\",\"ticks\":\"\",\"title\":{\"standoff\":15},\"zerolinecolor\":\"white\",\"automargin\":true,\"zerolinewidth\":2},\"yaxis\":{\"gridcolor\":\"white\",\"linecolor\":\"white\",\"ticks\":\"\",\"title\":{\"standoff\":15},\"zerolinecolor\":\"white\",\"automargin\":true,\"zerolinewidth\":2},\"scene\":{\"xaxis\":{\"backgroundcolor\":\"#E5ECF6\",\"gridcolor\":\"white\",\"linecolor\":\"white\",\"showbackground\":true,\"ticks\":\"\",\"zerolinecolor\":\"white\",\"gridwidth\":2},\"yaxis\":{\"backgroundcolor\":\"#E5ECF6\",\"gridcolor\":\"white\",\"linecolor\":\"white\",\"showbackground\":true,\"ticks\":\"\",\"zerolinecolor\":\"white\",\"gridwidth\":2},\"zaxis\":{\"backgroundcolor\":\"#E5ECF6\",\"gridcolor\":\"white\",\"linecolor\":\"white\",\"showbackground\":true,\"ticks\":\"\",\"zerolinecolor\":\"white\",\"gridwidth\":2}},\"shapedefaults\":{\"line\":{\"color\":\"#2a3f5f\"}},\"annotationdefaults\":{\"arrowcolor\":\"#2a3f5f\",\"arrowhead\":0,\"arrowwidth\":1},\"geo\":{\"bgcolor\":\"white\",\"landcolor\":\"#E5ECF6\",\"subunitcolor\":\"white\",\"showland\":true,\"showlakes\":true,\"lakecolor\":\"white\"},\"title\":{\"x\":0.05},\"mapbox\":{\"style\":\"light\"}}},\"xaxis\":{\"anchor\":\"y\",\"domain\":[0.0,1.0],\"title\":{\"text\":\"fez_emprestimo\"}},\"yaxis\":{\"anchor\":\"x\",\"domain\":[0.0,1.0],\"title\":{\"text\":\"count\"}},\"legend\":{\"title\":{\"text\":\"aderencia_investimento\"},\"tracegroupgap\":0},\"margin\":{\"t\":60},\"barmode\":\"group\"},                        {\"responsive\": true}                    ).then(function(){\n",
              "                            \n",
              "var gd = document.getElementById('fe2ff88e-5fb9-42c0-8e64-b037278983b7');\n",
              "var x = new MutationObserver(function (mutations, observer) {{\n",
              "        var display = window.getComputedStyle(gd).display;\n",
              "        if (!display || display === 'none') {{\n",
              "            console.log([gd, 'removed!']);\n",
              "            Plotly.purge(gd);\n",
              "            observer.disconnect();\n",
              "        }}\n",
              "}});\n",
              "\n",
              "// Listen for the removal of the full notebook cells\n",
              "var notebookContainer = gd.closest('#notebook-container');\n",
              "if (notebookContainer) {{\n",
              "    x.observe(notebookContainer, {childList: true});\n",
              "}}\n",
              "\n",
              "// Listen for the clearing of the current output cell\n",
              "var outputEl = gd.closest('.output');\n",
              "if (outputEl) {{\n",
              "    x.observe(outputEl, {childList: true});\n",
              "}}\n",
              "\n",
              "                        })                };                            </script>        </div>\n",
              "</body>\n",
              "</html>"
            ]
          },
          "metadata": {}
        }
      ]
    },
    {
      "cell_type": "markdown",
      "source": [
        "✅ Nessa coluna existem muitos mais valores para 'não' do que para 'sim'.\n"
      ],
      "metadata": {
        "id": "IsB5I8Bqm7Bu"
      }
    },
    {
      "cell_type": "markdown",
      "source": [
        "✨ É necessário compreender um pouco melhor os dados, embora  seja um processo repetitivo, é fundamental para visualizar se existem valores discrepantes, ou que não estejam de acordo com o que está descrito em cada característica, para poder entender o padrão desses dados. :"
      ],
      "metadata": {
        "id": "EJEW_ZM6nGFU"
      }
    }
  ]
}